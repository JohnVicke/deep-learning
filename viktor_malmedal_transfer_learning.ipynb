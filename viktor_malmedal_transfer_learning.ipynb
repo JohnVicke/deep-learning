{
  "nbformat": 4,
  "nbformat_minor": 0,
  "metadata": {
    "colab": {
      "name": "viktor_malmedal_transfer_learning.ipynb",
      "provenance": [],
      "authorship_tag": "ABX9TyP9phavW+ZlWLFZnrhN162e",
      "include_colab_link": true
    },
    "kernelspec": {
      "name": "python3",
      "display_name": "Python 3"
    },
    "language_info": {
      "name": "python"
    },
    "accelerator": "GPU"
  },
  "cells": [
    {
      "cell_type": "markdown",
      "metadata": {
        "id": "view-in-github",
        "colab_type": "text"
      },
      "source": [
        "<a href=\"https://colab.research.google.com/github/JohnVicke/deep-learning/blob/main/viktor_malmedal_transfer_learning.ipynb\" target=\"_parent\"><img src=\"https://colab.research.google.com/assets/colab-badge.svg\" alt=\"Open In Colab\"/></a>"
      ]
    },
    {
      "cell_type": "markdown",
      "metadata": {
        "id": "2LN2kW1TjWQX"
      },
      "source": [
        "# Transfer learning\n",
        "\n",
        "```\n",
        "Author: Viktor Malmedal\n",
        "Mail:   viktormalmedal@gmail.com\n",
        "umuId:  vima0068\n",
        "```\n",
        "Use a trained model to reach over 91.5% test accuracy on MNIST-Fashion data set\n",
        "\n"
      ]
    },
    {
      "cell_type": "code",
      "metadata": {
        "colab": {
          "base_uri": "https://localhost:8080/"
        },
        "id": "1jCVcD2ijOpc",
        "outputId": "18aa42ec-8d1c-4716-d902-24b9c59006e3"
      },
      "source": [
        "import tensorflow as tf\n",
        "import tensorflow.keras\n",
        "import numpy as np\n",
        "from sklearn.model_selection import train_test_split\n",
        "\n",
        "import matplotlib\n",
        "import matplotlib.pyplot as plt\n",
        "print(f'Keras version      = {tensorflow.keras.__version__}')\n",
        "print(f'Tensorflow version = {tf.__version__}')"
      ],
      "execution_count": 1,
      "outputs": [
        {
          "output_type": "stream",
          "name": "stdout",
          "text": [
            "Keras version      = 2.7.0\n",
            "Tensorflow version = 2.7.0\n"
          ]
        }
      ]
    },
    {
      "cell_type": "code",
      "metadata": {
        "colab": {
          "base_uri": "https://localhost:8080/"
        },
        "id": "eUBf9Uv7jxjb",
        "outputId": "4adbbf78-a6fb-4821-9b04-9f66911730b7"
      },
      "source": [
        "import sys\n",
        "if not tf.config.list_physical_devices('GPU'):\n",
        "    print('No GPU detected. CNNs can be very slow without a GPU')\n",
        "    if 'google.colab' in sys.modules:\n",
        "        print('Go to RunTime > change runtime and select a GPU hardware accelerator')\n",
        "else:\n",
        "    !nvidia-smi -L"
      ],
      "execution_count": 2,
      "outputs": [
        {
          "output_type": "stream",
          "name": "stdout",
          "text": [
            "GPU 0: Tesla K80 (UUID: GPU-13922803-c1f7-18eb-4115-aec1ce9f723b)\n"
          ]
        }
      ]
    },
    {
      "cell_type": "code",
      "metadata": {
        "id": "4v8ZQkiVqQFq"
      },
      "source": [
        "def normalize_data(data):\n",
        "    return data.astype('float32') / 255.0"
      ],
      "execution_count": 3,
      "outputs": []
    },
    {
      "cell_type": "code",
      "metadata": {
        "id": "nzKjqYVg2ZJd"
      },
      "source": [
        "def resize_data(data, dim=[32,32]):\n",
        "    return np.asarray(tf.image.resize(data, dim, method='nearest'))"
      ],
      "execution_count": 4,
      "outputs": []
    },
    {
      "cell_type": "code",
      "metadata": {
        "id": "j1PKO1OunZyv"
      },
      "source": [
        "from keras.preprocessing.image import img_to_array, array_to_img\n",
        "def reshape_data(data):\n",
        "    data = np.expand_dims(data, axis=-1)\n",
        "    data = np.repeat(data, 3, axis=-1)\n",
        "    return data"
      ],
      "execution_count": 5,
      "outputs": []
    },
    {
      "cell_type": "code",
      "metadata": {
        "colab": {
          "base_uri": "https://localhost:8080/"
        },
        "id": "-Zqmq7eCkCf5",
        "outputId": "705c9d45-2d0f-46ed-ff54-ea1ef24a9d1c"
      },
      "source": [
        "from tensorflow.keras.datasets import fashion_mnist\n",
        "(x_train, y_train), (x_test, y_test) = fashion_mnist.load_data()\n",
        "_, img_width, img_height = x_train.shape\n",
        "print('----- Data -----')\n",
        "print(f'Train: images{x_train.shape} | labels {y_train.shape}')\n",
        "print(f'Test:  images{x_test.shape} | labels {y_test.shape}')\n",
        "print()\n",
        "\n",
        "# Keep original values for analysis\n",
        "train_x = resize_data(reshape_data(normalize_data(x_train)))\n",
        "test_x  = resize_data(reshape_data(normalize_data(x_test)))\n",
        "\n",
        "print('----- Reshaped data ------')\n",
        "print(f'Train: images{train_x.shape}')\n",
        "print(f'Test:  images{test_x.shape}')\n"
      ],
      "execution_count": 6,
      "outputs": [
        {
          "output_type": "stream",
          "name": "stdout",
          "text": [
            "Downloading data from https://storage.googleapis.com/tensorflow/tf-keras-datasets/train-labels-idx1-ubyte.gz\n",
            "32768/29515 [=================================] - 0s 0us/step\n",
            "40960/29515 [=========================================] - 0s 0us/step\n",
            "Downloading data from https://storage.googleapis.com/tensorflow/tf-keras-datasets/train-images-idx3-ubyte.gz\n",
            "26427392/26421880 [==============================] - 0s 0us/step\n",
            "26435584/26421880 [==============================] - 0s 0us/step\n",
            "Downloading data from https://storage.googleapis.com/tensorflow/tf-keras-datasets/t10k-labels-idx1-ubyte.gz\n",
            "16384/5148 [===============================================================================================] - 0s 0us/step\n",
            "Downloading data from https://storage.googleapis.com/tensorflow/tf-keras-datasets/t10k-images-idx3-ubyte.gz\n",
            "4423680/4422102 [==============================] - 0s 0us/step\n",
            "4431872/4422102 [==============================] - 0s 0us/step\n",
            "----- Data -----\n",
            "Train: images(60000, 28, 28) | labels (60000,)\n",
            "Test:  images(10000, 28, 28) | labels (10000,)\n",
            "\n",
            "----- Reshaped data ------\n",
            "Train: images(60000, 32, 32, 3)\n",
            "Test:  images(10000, 32, 32, 3)\n"
          ]
        }
      ]
    },
    {
      "cell_type": "code",
      "metadata": {
        "colab": {
          "base_uri": "https://localhost:8080/",
          "height": 266
        },
        "id": "7cj74O8GtY-N",
        "outputId": "3ac61b56-2ff5-4e5e-8231-bb99d481d627"
      },
      "source": [
        "# Arbitrary image to see if resize succeeded\n",
        "plt.imshow(train_x[1337], cmap=plt.get_cmap('gray'))\n",
        "plt.show()"
      ],
      "execution_count": 7,
      "outputs": [
        {
          "output_type": "display_data",
          "data": {
            "image/png": "[encoded data removed]",
            "text/plain": [
              "<Figure size 432x288 with 1 Axes>"
            ]
          },
          "metadata": {
            "needs_background": "light"
          }
        }
      ]
    },
    {
      "cell_type": "code",
      "metadata": {
        "id": "Um82ORLrqXYJ"
      },
      "source": [
        "from tensorflow.keras.utils import to_categorical\n",
        "RANDOM_STATE = 12\n",
        "test_y = to_categorical(y_test)\n",
        "train_x, val_x, train_y, val_y = train_test_split(train_x,\n",
        "                                                  to_categorical(y_train),\n",
        "                                                  test_size=0.2,\n",
        "                                                  random_state=RANDOM_STATE)\n"
      ],
      "execution_count": 8,
      "outputs": []
    },
    {
      "cell_type": "code",
      "metadata": {
        "colab": {
          "base_uri": "https://localhost:8080/"
        },
        "id": "JdlJLaEWrbl2",
        "outputId": "cf6b1923-2e21-48b2-d374-9f25de939705"
      },
      "source": [
        "train_x.shape, val_x.shape, test_x.shape, train_y.shape, val_y.shape, test_y.shape"
      ],
      "execution_count": 9,
      "outputs": [
        {
          "output_type": "execute_result",
          "data": {
            "text/plain": [
              "((48000, 32, 32, 3),\n",
              " (12000, 32, 32, 3),\n",
              " (10000, 32, 32, 3),\n",
              " (48000, 10),\n",
              " (12000, 10),\n",
              " (10000, 10))"
            ]
          },
          "metadata": {},
          "execution_count": 9
        }
      ]
    },
    {
      "cell_type": "code",
      "metadata": {
        "id": "OEI1HVLA5nxr"
      },
      "source": [
        "DIM = [32,32]\n",
        "INPUT_SHAPE = (*DIM, 3)"
      ],
      "execution_count": 10,
      "outputs": []
    },
    {
      "cell_type": "markdown",
      "metadata": {
        "id": "x8kAMV177a2I"
      },
      "source": [
        "# Explore the VGG16 model\n",
        "Here we have the very deep VGG16 convolutional network developed by the *Visual Geometry Group*. It consits of 19 total layer and has performed a top-5 test accuracy in ImageNet, which are the weights that are going to be used in this laboration. VGG16 was allegedly trained for weeks using NVIDA Titan Black GPUs.\n",
        "\n",
        "Image dimension are going to play a big role in how many layers from VGG16 that can be included because of the subsampling from the maxpooling layers. To include all 4 blocks, the image dimenions has to be atleast 70x70px for pooling layers = (16, 8, 4, 2 ,1)"
      ]
    },
    {
      "cell_type": "code",
      "metadata": {
        "colab": {
          "base_uri": "https://localhost:8080/"
        },
        "id": "2qiX1jNy4Z9D",
        "outputId": "3e4a8cda-a447-4ce0-fcca-8eac40096d9a"
      },
      "source": [
        "from tensorflow.keras.applications import VGG16\n",
        "\n",
        "vgg = VGG16(\n",
        "    weights='imagenet',\n",
        "    include_top=False, # Doesn't match current input_shape\n",
        "    input_shape=INPUT_SHAPE\n",
        ")\n",
        "vgg.summary()\n"
      ],
      "execution_count": 11,
      "outputs": [
        {
          "output_type": "stream",
          "name": "stdout",
          "text": [
            "Downloading data from https://storage.googleapis.com/tensorflow/keras-applications/vgg16/vgg16_weights_tf_dim_ordering_tf_kernels_notop.h5\n",
            "58892288/58889256 [==============================] - 1s 0us/step\n",
            "58900480/58889256 [==============================] - 1s 0us/step\n",
            "Model: \"vgg16\"\n",
            "_________________________________________________________________\n",
            " Layer (type)                Output Shape              Param #   \n",
            "=================================================================\n",
            " input_1 (InputLayer)        [(None, 32, 32, 3)]       0         \n",
            "                                                                 \n",
            " block1_conv1 (Conv2D)       (None, 32, 32, 64)        1792      \n",
            "                                                                 \n",
            " block1_conv2 (Conv2D)       (None, 32, 32, 64)        36928     \n",
            "                                                                 \n",
            " block1_pool (MaxPooling2D)  (None, 16, 16, 64)        0         \n",
            "                                                                 \n",
            " block2_conv1 (Conv2D)       (None, 16, 16, 128)       73856     \n",
            "                                                                 \n",
            " block2_conv2 (Conv2D)       (None, 16, 16, 128)       147584    \n",
            "                                                                 \n",
            " block2_pool (MaxPooling2D)  (None, 8, 8, 128)         0         \n",
            "                                                                 \n",
            " block3_conv1 (Conv2D)       (None, 8, 8, 256)         295168    \n",
            "                                                                 \n",
            " block3_conv2 (Conv2D)       (None, 8, 8, 256)         590080    \n",
            "                                                                 \n",
            " block3_conv3 (Conv2D)       (None, 8, 8, 256)         590080    \n",
            "                                                                 \n",
            " block3_pool (MaxPooling2D)  (None, 4, 4, 256)         0         \n",
            "                                                                 \n",
            " block4_conv1 (Conv2D)       (None, 4, 4, 512)         1180160   \n",
            "                                                                 \n",
            " block4_conv2 (Conv2D)       (None, 4, 4, 512)         2359808   \n",
            "                                                                 \n",
            " block4_conv3 (Conv2D)       (None, 4, 4, 512)         2359808   \n",
            "                                                                 \n",
            " block4_pool (MaxPooling2D)  (None, 2, 2, 512)         0         \n",
            "                                                                 \n",
            " block5_conv1 (Conv2D)       (None, 2, 2, 512)         2359808   \n",
            "                                                                 \n",
            " block5_conv2 (Conv2D)       (None, 2, 2, 512)         2359808   \n",
            "                                                                 \n",
            " block5_conv3 (Conv2D)       (None, 2, 2, 512)         2359808   \n",
            "                                                                 \n",
            " block5_pool (MaxPooling2D)  (None, 1, 1, 512)         0         \n",
            "                                                                 \n",
            "=================================================================\n",
            "Total params: 14,714,688\n",
            "Trainable params: 14,714,688\n",
            "Non-trainable params: 0\n",
            "_________________________________________________________________\n"
          ]
        }
      ]
    },
    {
      "cell_type": "code",
      "metadata": {
        "id": "VSRbItat66zs"
      },
      "source": [
        "def get_output_tensor(name, layers):\n",
        "    # Will throw error for layers that do not exist\n",
        "    output = None\n",
        "    included_layers = 0\n",
        "    for i, layer in enumerate(layers):\n",
        "        if layer.name == name:\n",
        "            output = layer.output\n",
        "            included_layers = i\n",
        "            break\n",
        "\n",
        "        \n",
        "    return output, i\n"
      ],
      "execution_count": 12,
      "outputs": []
    },
    {
      "cell_type": "markdown",
      "metadata": {
        "id": "_DG2VKx3DT_W"
      },
      "source": [
        "# Extended model\n",
        "To extend the model I am linking the input and output of VGG16 together with the newly created layers. \n",
        "- VGG as input and the new layers as output"
      ]
    },
    {
      "cell_type": "code",
      "metadata": {
        "id": "xUgzH59DEscG"
      },
      "source": [
        "from keras.models import Model\n",
        "from keras.layers import Conv2D, MaxPooling2D \n",
        "from keras.layers import Flatten, Dense, Dropout, BatchNormalization\n",
        "\n",
        "def get_extended_model(output_tensor, input_tensor):\n",
        "    x = output_tensor\n",
        "    x = Conv2D(64, kernel_size=(3,3), padding='same', activation='relu')(x)\n",
        "    x = Conv2D(64, kernel_size=(3,3), padding='same', activation='relu')(x)\n",
        "    x = MaxPooling2D(pool_size=(2,2))(x)\n",
        "    x = Dropout(0.25)(x)\n",
        "    x = Conv2D(128, kernel_size=(5,5), padding='same', activation='relu')(x)\n",
        "    x = Conv2D(128, kernel_size=(5,5), padding='same', activation='relu')(x)\n",
        "    x = MaxPooling2D(pool_size=(2,2))(x)\n",
        "    x = Dropout(0.25)(x)\n",
        "    x = Flatten()(x)\n",
        "    x = Dense(128, activation='relu')(x)\n",
        "    x = Dense(10, activation='softmax')(x)\n",
        "    return Model(input_tensor, x)"
      ],
      "execution_count": 26,
      "outputs": []
    },
    {
      "cell_type": "code",
      "metadata": {
        "colab": {
          "base_uri": "https://localhost:8080/"
        },
        "id": "dfcOGcrTCnoP",
        "outputId": "3feb5b66-e038-474f-c4a6-2606807671ff"
      },
      "source": [
        "output_tensor, included_layers = get_output_tensor('block3_pool', vgg.layers)\n",
        "input_tensor = vgg.input\n",
        "extended_model = get_extended_model(output_tensor, input_tensor)\n",
        "extended_model.summary()\n",
        "\n"
      ],
      "execution_count": 28,
      "outputs": [
        {
          "output_type": "stream",
          "name": "stdout",
          "text": [
            "<keras.engine.functional.Functional object at 0x7ff4025cc190>\n",
            "Model: \"model_4\"\n",
            "_________________________________________________________________\n",
            " Layer (type)                Output Shape              Param #   \n",
            "=================================================================\n",
            " input_1 (InputLayer)        [(None, 32, 32, 3)]       0         \n",
            "                                                                 \n",
            " block1_conv1 (Conv2D)       (None, 32, 32, 64)        1792      \n",
            "                                                                 \n",
            " block1_conv2 (Conv2D)       (None, 32, 32, 64)        36928     \n",
            "                                                                 \n",
            " block1_pool (MaxPooling2D)  (None, 16, 16, 64)        0         \n",
            "                                                                 \n",
            " block2_conv1 (Conv2D)       (None, 16, 16, 128)       73856     \n",
            "                                                                 \n",
            " block2_conv2 (Conv2D)       (None, 16, 16, 128)       147584    \n",
            "                                                                 \n",
            " block2_pool (MaxPooling2D)  (None, 8, 8, 128)         0         \n",
            "                                                                 \n",
            " block3_conv1 (Conv2D)       (None, 8, 8, 256)         295168    \n",
            "                                                                 \n",
            " block3_conv2 (Conv2D)       (None, 8, 8, 256)         590080    \n",
            "                                                                 \n",
            " block3_conv3 (Conv2D)       (None, 8, 8, 256)         590080    \n",
            "                                                                 \n",
            " block3_pool (MaxPooling2D)  (None, 4, 4, 256)         0         \n",
            "                                                                 \n",
            " conv2d_8 (Conv2D)           (None, 4, 4, 64)          147520    \n",
            "                                                                 \n",
            " conv2d_9 (Conv2D)           (None, 4, 4, 64)          36928     \n",
            "                                                                 \n",
            " max_pooling2d_4 (MaxPooling  (None, 2, 2, 64)         0         \n",
            " 2D)                                                             \n",
            "                                                                 \n",
            " dropout_4 (Dropout)         (None, 2, 2, 64)          0         \n",
            "                                                                 \n",
            " conv2d_10 (Conv2D)          (None, 2, 2, 128)         204928    \n",
            "                                                                 \n",
            " conv2d_11 (Conv2D)          (None, 2, 2, 128)         409728    \n",
            "                                                                 \n",
            " max_pooling2d_5 (MaxPooling  (None, 1, 1, 128)        0         \n",
            " 2D)                                                             \n",
            "                                                                 \n",
            " dropout_5 (Dropout)         (None, 1, 1, 128)         0         \n",
            "                                                                 \n",
            " flatten_2 (Flatten)         (None, 128)               0         \n",
            "                                                                 \n",
            " dense_4 (Dense)             (None, 128)               16512     \n",
            "                                                                 \n",
            " dense_5 (Dense)             (None, 10)                1290      \n",
            "                                                                 \n",
            "=================================================================\n",
            "Total params: 2,552,394\n",
            "Trainable params: 816,906\n",
            "Non-trainable params: 1,735,488\n",
            "_________________________________________________________________\n"
          ]
        }
      ]
    },
    {
      "cell_type": "markdown",
      "metadata": {
        "id": "ovn9AkyGH7MH"
      },
      "source": [
        "# Turning off trainable for included layers\n",
        "The included layers should not be re-trained in order to take full advantage of transfer learning. Trainable params go from around ~2.5mil to ~100k."
      ]
    },
    {
      "cell_type": "code",
      "metadata": {
        "colab": {
          "base_uri": "https://localhost:8080/"
        },
        "id": "6ub0ApCkHk_0",
        "outputId": "29aac2bf-ceb9-42ee-a4de-896f3a3ea9a4"
      },
      "source": [
        "# Turning off training for included layers\n",
        "for layer in extended_model.layers[:included_layers]:\n",
        "    layer.trainable = False\n",
        "\n",
        "extended_model.summary()"
      ],
      "execution_count": 25,
      "outputs": [
        {
          "output_type": "stream",
          "name": "stdout",
          "text": [
            "input_1\n",
            "block1_conv1\n",
            "block1_conv2\n",
            "block1_pool\n",
            "block2_conv1\n",
            "block2_conv2\n",
            "block2_pool\n",
            "block3_conv1\n",
            "block3_conv2\n",
            "block3_conv3\n",
            "Model: \"model\"\n",
            "_________________________________________________________________\n",
            " Layer (type)                Output Shape              Param #   \n",
            "=================================================================\n",
            " input_1 (InputLayer)        [(None, 32, 32, 3)]       0         \n",
            "                                                                 \n",
            " block1_conv1 (Conv2D)       (None, 32, 32, 64)        1792      \n",
            "                                                                 \n",
            " block1_conv2 (Conv2D)       (None, 32, 32, 64)        36928     \n",
            "                                                                 \n",
            " block1_pool (MaxPooling2D)  (None, 16, 16, 64)        0         \n",
            "                                                                 \n",
            " block2_conv1 (Conv2D)       (None, 16, 16, 128)       73856     \n",
            "                                                                 \n",
            " block2_conv2 (Conv2D)       (None, 16, 16, 128)       147584    \n",
            "                                                                 \n",
            " block2_pool (MaxPooling2D)  (None, 8, 8, 128)         0         \n",
            "                                                                 \n",
            " block3_conv1 (Conv2D)       (None, 8, 8, 256)         295168    \n",
            "                                                                 \n",
            " block3_conv2 (Conv2D)       (None, 8, 8, 256)         590080    \n",
            "                                                                 \n",
            " block3_conv3 (Conv2D)       (None, 8, 8, 256)         590080    \n",
            "                                                                 \n",
            " block3_pool (MaxPooling2D)  (None, 4, 4, 256)         0         \n",
            "                                                                 \n",
            " conv2d (Conv2D)             (None, 4, 4, 64)          147520    \n",
            "                                                                 \n",
            " conv2d_1 (Conv2D)           (None, 4, 4, 64)          36928     \n",
            "                                                                 \n",
            " max_pooling2d (MaxPooling2D  (None, 2, 2, 64)         0         \n",
            " )                                                               \n",
            "                                                                 \n",
            " dropout (Dropout)           (None, 2, 2, 64)          0         \n",
            "                                                                 \n",
            " conv2d_2 (Conv2D)           (None, 2, 2, 128)         204928    \n",
            "                                                                 \n",
            " conv2d_3 (Conv2D)           (None, 2, 2, 128)         409728    \n",
            "                                                                 \n",
            " max_pooling2d_1 (MaxPooling  (None, 1, 1, 128)        0         \n",
            " 2D)                                                             \n",
            "                                                                 \n",
            " dropout_1 (Dropout)         (None, 1, 1, 128)         0         \n",
            "                                                                 \n",
            " flatten (Flatten)           (None, 128)               0         \n",
            "                                                                 \n",
            " dense (Dense)               (None, 128)               16512     \n",
            "                                                                 \n",
            " dense_1 (Dense)             (None, 10)                1290      \n",
            "                                                                 \n",
            "=================================================================\n",
            "Total params: 2,552,394\n",
            "Trainable params: 816,906\n",
            "Non-trainable params: 1,735,488\n",
            "_________________________________________________________________\n"
          ]
        },
        {
          "output_type": "execute_result",
          "data": {
            "text/plain": [
              "<keras.engine.functional.Functional at 0x7ff40270f710>"
            ]
          },
          "metadata": {},
          "execution_count": 25
        }
      ]
    },
    {
      "cell_type": "code",
      "metadata": {
        "id": "TW3dQLLSIZ3U"
      },
      "source": [
        "from tensorflow.keras.optimizers import Adam\n",
        "from tensorflow.keras.callbacks import EarlyStopping\n",
        "EPOCHS = 20 # using earlystop so this doesnt really matter in theory\n",
        "BATCH_SIZE = 32\n",
        "optimizer = Adam(learning_rate=0.0001)\n",
        "early_stop_monitor = EarlyStopping(monitor='val_loss', patience=3, restore_best_weights=True)"
      ],
      "execution_count": 17,
      "outputs": []
    },
    {
      "cell_type": "code",
      "metadata": {
        "id": "Jy4MgqOCJKSp"
      },
      "source": [
        "extended_model.compile(loss='categorical_crossentropy',\n",
        "                       optimizer=optimizer,\n",
        "                       metrics=['categorical_accuracy'])"
      ],
      "execution_count": 34,
      "outputs": []
    },
    {
      "cell_type": "code",
      "metadata": {
        "colab": {
          "base_uri": "https://localhost:8080/"
        },
        "id": "Ae0BQWJdJIUY",
        "outputId": "f355f892-718b-4e65-8bd4-46f5cce0612a"
      },
      "source": [
        "history = extended_model.fit(train_x, train_y,\n",
        "                             epochs=EPOCHS, batch_size=BATCH_SIZE,\n",
        "                             verbose=2, validation_data=(val_x, val_y), \n",
        "                             callbacks=[early_stop_monitor])\n",
        "\n",
        "stopped_at = early_stop_monitor.stopped_epoch"
      ],
      "execution_count": 36,
      "outputs": [
        {
          "output_type": "stream",
          "name": "stdout",
          "text": [
            "Epoch 1/20\n",
            "1500/1500 - 26s - loss: 0.4406 - categorical_accuracy: 0.8406 - val_loss: 0.2782 - val_categorical_accuracy: 0.8979 - 26s/epoch - 17ms/step\n",
            "Epoch 2/20\n",
            "1500/1500 - 24s - loss: 0.2991 - categorical_accuracy: 0.8925 - val_loss: 0.2479 - val_categorical_accuracy: 0.9109 - 24s/epoch - 16ms/step\n",
            "Epoch 3/20\n",
            "1500/1500 - 23s - loss: 0.2663 - categorical_accuracy: 0.9033 - val_loss: 0.2519 - val_categorical_accuracy: 0.9099 - 23s/epoch - 15ms/step\n",
            "Epoch 4/20\n",
            "1500/1500 - 24s - loss: 0.2478 - categorical_accuracy: 0.9113 - val_loss: 0.2274 - val_categorical_accuracy: 0.9178 - 24s/epoch - 16ms/step\n",
            "Epoch 5/20\n",
            "1500/1500 - 23s - loss: 0.2284 - categorical_accuracy: 0.9166 - val_loss: 0.2368 - val_categorical_accuracy: 0.9121 - 23s/epoch - 15ms/step\n",
            "Epoch 6/20\n",
            "1500/1500 - 23s - loss: 0.2197 - categorical_accuracy: 0.9206 - val_loss: 0.2207 - val_categorical_accuracy: 0.9201 - 23s/epoch - 15ms/step\n",
            "Epoch 7/20\n",
            "1500/1500 - 24s - loss: 0.2045 - categorical_accuracy: 0.9252 - val_loss: 0.2161 - val_categorical_accuracy: 0.9190 - 24s/epoch - 16ms/step\n",
            "Epoch 8/20\n",
            "1500/1500 - 24s - loss: 0.1970 - categorical_accuracy: 0.9276 - val_loss: 0.2076 - val_categorical_accuracy: 0.9231 - 24s/epoch - 16ms/step\n",
            "Epoch 9/20\n",
            "1500/1500 - 23s - loss: 0.1879 - categorical_accuracy: 0.9313 - val_loss: 0.2215 - val_categorical_accuracy: 0.9171 - 23s/epoch - 15ms/step\n",
            "Epoch 10/20\n",
            "1500/1500 - 23s - loss: 0.1794 - categorical_accuracy: 0.9335 - val_loss: 0.2129 - val_categorical_accuracy: 0.9222 - 23s/epoch - 15ms/step\n",
            "Epoch 11/20\n",
            "1500/1500 - 24s - loss: 0.1730 - categorical_accuracy: 0.9355 - val_loss: 0.2001 - val_categorical_accuracy: 0.9255 - 24s/epoch - 16ms/step\n",
            "Epoch 12/20\n",
            "1500/1500 - 24s - loss: 0.1641 - categorical_accuracy: 0.9388 - val_loss: 0.2121 - val_categorical_accuracy: 0.9258 - 24s/epoch - 16ms/step\n",
            "Epoch 13/20\n",
            "1500/1500 - 23s - loss: 0.1608 - categorical_accuracy: 0.9408 - val_loss: 0.2047 - val_categorical_accuracy: 0.9272 - 23s/epoch - 15ms/step\n",
            "Epoch 14/20\n",
            "1500/1500 - 23s - loss: 0.1537 - categorical_accuracy: 0.9423 - val_loss: 0.2133 - val_categorical_accuracy: 0.9226 - 23s/epoch - 15ms/step\n"
          ]
        }
      ]
    },
    {
      "cell_type": "code",
      "metadata": {
        "colab": {
          "base_uri": "https://localhost:8080/"
        },
        "id": "gCdHBJ9pMeeL",
        "outputId": "5912f33c-0533-48d1-a2ce-614a00f5cecc"
      },
      "source": [
        "extended_model.evaluate(test_x, test_y)"
      ],
      "execution_count": 37,
      "outputs": [
        {
          "output_type": "stream",
          "name": "stdout",
          "text": [
            "313/313 [==============================] - 4s 14ms/step - loss: 0.2241 - categorical_accuracy: 0.9168\n"
          ]
        },
        {
          "output_type": "execute_result",
          "data": {
            "text/plain": [
              "[0.22409500181674957, 0.9168000221252441]"
            ]
          },
          "metadata": {},
          "execution_count": 37
        }
      ]
    },
    {
      "cell_type": "code",
      "metadata": {
        "id": "94oqmdzvJtJ7"
      },
      "source": [
        "def retrieve(mapping, *keys):\n",
        "    return (mapping[key] for key in keys)"
      ],
      "execution_count": 20,
      "outputs": []
    },
    {
      "cell_type": "code",
      "metadata": {
        "colab": {
          "base_uri": "https://localhost:8080/",
          "height": 573
        },
        "id": "a_nqanF4J2mo",
        "outputId": "bda066fc-36d9-4785-c901-baef48000187"
      },
      "source": [
        " train_loss, train_acc, val_loss, val_acc = retrieve(history.history,\n",
        "                                                     'loss',\n",
        "                                                     'categorical_accuracy',\n",
        "                                                     'val_loss',\n",
        "                                                     'val_categorical_accuracy')\n",
        "\n",
        "epoch_range = range(1, stopped_at + 2)\n",
        "plt.plot(epoch_range, train_acc, 'bo', label='Training accuracy')\n",
        "plt.plot(epoch_range, val_acc, 'b', label='Validation accuracy')\n",
        "plt.title(f'Training and validation accuracy (extended VGG16 model)')\n",
        "plt.xlabel('Epochs')\n",
        "plt.ylabel('Accuracy')\n",
        "plt.legend()\n",
        "plt.show()\n",
        "\n",
        "plt.plot(epoch_range, train_loss, 'bo', color='red', label='Training loss')\n",
        "plt.plot(epoch_range, val_loss, 'b', color='red', label='Validation loss')\n",
        "plt.title(f'Training and validation loss (extended VGG16 model)')\n",
        "plt.xlabel('Epochs')\n",
        "plt.ylabel('Loss')\n",
        "plt.legend()\n",
        "plt.show()"
      ],
      "execution_count": 21,
      "outputs": [
        {
          "output_type": "display_data",
          "data": {
            "image/png": "[encoded data removed]",
            "text/plain": [
              "<Figure size 432x288 with 1 Axes>"
            ]
          },
          "metadata": {
            "needs_background": "light"
          }
        },
        {
          "output_type": "display_data",
          "data": {
            "image/png": "[encoded data removed]",
            "text/plain": [
              "<Figure size 432x288 with 1 Axes>"
            ]
          },
          "metadata": {
            "needs_background": "light"
          }
        }
      ]
    },
    {
      "cell_type": "code",
      "metadata": {
        "id": "X05Uym16jd4t"
      },
      "source": [
        ""
      ],
      "execution_count": null,
      "outputs": []
    }
  ]
}