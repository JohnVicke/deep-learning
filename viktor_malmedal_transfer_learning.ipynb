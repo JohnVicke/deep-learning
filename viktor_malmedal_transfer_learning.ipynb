{
  "nbformat": 4,
  "nbformat_minor": 0,
  "metadata": {
    "colab": {
      "name": "viktor_malmedal_transfer_learning.ipynb",
      "provenance": [],
      "authorship_tag": "ABX9TyP4v8DPKtWeJSy6CAjek30U",
      "include_colab_link": true
    },
    "kernelspec": {
      "name": "python3",
      "display_name": "Python 3"
    },
    "language_info": {
      "name": "python"
    },
    "accelerator": "GPU"
  },
  "cells": [
    {
      "cell_type": "markdown",
      "metadata": {
        "id": "view-in-github",
        "colab_type": "text"
      },
      "source": [
        "<a href=\"https://colab.research.google.com/github/JohnVicke/deep-learning/blob/main/viktor_malmedal_transfer_learning.ipynb\" target=\"_parent\"><img src=\"https://colab.research.google.com/assets/colab-badge.svg\" alt=\"Open In Colab\"/></a>"
      ]
    },
    {
      "cell_type": "markdown",
      "metadata": {
        "id": "2LN2kW1TjWQX"
      },
      "source": [
        "# Transfer learning\n",
        "\n",
        "```\n",
        "Author: Viktor Malmedal\n",
        "Mail:   viktormalmedal@gmail.com\n",
        "umuId:  vima0068\n",
        "```\n",
        "Use a trained model to reach over 91.5% test accuracy on MNIST-Fashion data set\n",
        "\n"
      ]
    },
    {
      "cell_type": "code",
      "metadata": {
        "colab": {
          "base_uri": "https://localhost:8080/"
        },
        "id": "1jCVcD2ijOpc",
        "outputId": "1e728612-8b82-4e9e-d226-475547227af2"
      },
      "source": [
        "import tensorflow as tf\n",
        "import tensorflow.keras\n",
        "import numpy as np\n",
        "from sklearn.model_selection import train_test_split\n",
        "\n",
        "import matplotlib\n",
        "import matplotlib.pyplot as plt\n",
        "print(f'Keras version      = {tensorflow.keras.__version__}')\n",
        "print(f'Tensorflow version = {tf.__version__}')"
      ],
      "execution_count": null,
      "outputs": [
        {
          "output_type": "stream",
          "name": "stdout",
          "text": [
            "Keras version      = 2.7.0\n",
            "Tensorflow version = 2.7.0\n"
          ]
        }
      ]
    },
    {
      "cell_type": "code",
      "metadata": {
        "colab": {
          "base_uri": "https://localhost:8080/"
        },
        "id": "eUBf9Uv7jxjb",
        "outputId": "44520764-5874-4d5d-b6e8-8e50d95e3574"
      },
      "source": [
        "import sys\n",
        "if not tf.config.list_physical_devices('GPU'):\n",
        "    print('No GPU detected. CNNs can be very slow without a GPU')\n",
        "    if 'google.colab' in sys.modules:\n",
        "        print('Go to RunTime > change runtime and select a GPU hardware accelerator')\n",
        "else:\n",
        "    !nvidia-smi -L"
      ],
      "execution_count": null,
      "outputs": [
        {
          "output_type": "stream",
          "name": "stdout",
          "text": [
            "GPU 0: Tesla K80 (UUID: GPU-13922803-c1f7-18eb-4115-aec1ce9f723b)\n"
          ]
        }
      ]
    },
    {
      "cell_type": "code",
      "metadata": {
        "id": "4v8ZQkiVqQFq"
      },
      "source": [
        "def normalize_data(data):\n",
        "    return data.astype('float32') / 255.0"
      ],
      "execution_count": null,
      "outputs": []
    },
    {
      "cell_type": "code",
      "metadata": {
        "id": "nzKjqYVg2ZJd"
      },
      "source": [
        "def resize_data(data, dim=[32,32]):\n",
        "    return np.asarray(tf.image.resize(data, dim, method='nearest'))"
      ],
      "execution_count": null,
      "outputs": []
    },
    {
      "cell_type": "code",
      "metadata": {
        "id": "j1PKO1OunZyv"
      },
      "source": [
        "from keras.preprocessing.image import img_to_array, array_to_img\n",
        "def reshape_data(data):\n",
        "    data = np.expand_dims(data, axis=-1)\n",
        "    data = np.repeat(data, 3, axis=-1)\n",
        "    return data"
      ],
      "execution_count": null,
      "outputs": []
    },
    {
      "cell_type": "code",
      "metadata": {
        "colab": {
          "base_uri": "https://localhost:8080/"
        },
        "id": "-Zqmq7eCkCf5",
        "outputId": "8c93efc4-ab7e-44ad-bd0a-58fc3528fb22"
      },
      "source": [
        "from tensorflow.keras.datasets import fashion_mnist\n",
        "(x_train, y_train), (x_test, y_test) = fashion_mnist.load_data()\n",
        "_, img_width, img_height = x_train.shape\n",
        "print('----- Data -----')\n",
        "print(f'Train: images{x_train.shape} | labels {y_train.shape}')\n",
        "print(f'Test:  images{x_test.shape} | labels {y_test.shape}')\n",
        "print()\n",
        "\n",
        "# Keep original values for analysis\n",
        "train_x = resize_data(reshape_data(normalize_data(x_train)))\n",
        "test_x  = resize_data(reshape_data(normalize_data(x_test)))\n",
        "\n",
        "print('----- Reshaped data ------')\n",
        "print(f'Train: images{train_x.shape}')\n",
        "print(f'Test:  images{test_x.shape}')\n"
      ],
      "execution_count": null,
      "outputs": [
        {
          "output_type": "stream",
          "name": "stdout",
          "text": [
            "----- Data -----\n",
            "Train: images(60000, 28, 28) | labels (60000,)\n",
            "Test:  images(10000, 28, 28) | labels (10000,)\n",
            "\n",
            "----- Reshaped data ------\n",
            "Train: images(60000, 32, 32, 3)\n",
            "Test:  images(10000, 32, 32, 3)\n"
          ]
        }
      ]
    },
    {
      "cell_type": "code",
      "metadata": {
        "colab": {
          "base_uri": "https://localhost:8080/",
          "height": 266
        },
        "id": "7cj74O8GtY-N",
        "outputId": "066430d2-8091-4b6c-83e2-1404154bdc10"
      },
      "source": [
        "# Arbitrary image to see if resize succeeded\n",
        "plt.imshow(train_x[1337], cmap=plt.get_cmap('gray'))\n",
        "plt.show()"
      ],
      "execution_count": null,
      "outputs": [
        {
          "output_type": "display_data",
          "data": {
            "image/png": "[encoded data removed]",
            "text/plain": [
              "<Figure size 432x288 with 1 Axes>"
            ]
          },
          "metadata": {
            "needs_background": "light"
          }
        }
      ]
    },
    {
      "cell_type": "code",
      "metadata": {
        "id": "Um82ORLrqXYJ"
      },
      "source": [
        "from tensorflow.keras.utils import to_categorical\n",
        "RANDOM_STATE = 12\n",
        "test_y = to_categorical(y_test)\n",
        "train_x, val_x, train_y, val_y = train_test_split(train_x,\n",
        "                                                  to_categorical(y_train),\n",
        "                                                  test_size=0.2,\n",
        "                                                  random_state=RANDOM_STATE)\n"
      ],
      "execution_count": null,
      "outputs": []
    },
    {
      "cell_type": "code",
      "metadata": {
        "colab": {
          "base_uri": "https://localhost:8080/"
        },
        "id": "JdlJLaEWrbl2",
        "outputId": "b6ff545c-d866-4add-f177-5010cdc3299d"
      },
      "source": [
        "train_x.shape, val_x.shape, test_x.shape, train_y.shape, val_y.shape, test_y.shape"
      ],
      "execution_count": null,
      "outputs": [
        {
          "output_type": "execute_result",
          "data": {
            "text/plain": [
              "((48000, 32, 32, 3),\n",
              " (12000, 32, 32, 3),\n",
              " (10000, 32, 32, 3),\n",
              " (48000, 10),\n",
              " (12000, 10),\n",
              " (10000, 10))"
            ]
          },
          "metadata": {},
          "execution_count": 112
        }
      ]
    },
    {
      "cell_type": "code",
      "metadata": {
        "id": "OEI1HVLA5nxr"
      },
      "source": [
        "DIM = [32,32]\n",
        "INPUT_SHAPE = (*DIM, 3)"
      ],
      "execution_count": null,
      "outputs": []
    },
    {
      "cell_type": "markdown",
      "metadata": {
        "id": "x8kAMV177a2I"
      },
      "source": [
        "# Explore the VGG16 model\n",
        "Here we have the very deep VGG16 convolutional network developed by the *Visual Geometry Group*. It consits of 19 total layer and has performed a top-5 test accuracy in ImageNet, which are the weights that are going to be used in this laboration. VGG16 was allegedly trained for weeks using NVIDA Titan Black GPUs.\n",
        "\n",
        "Image dimension are going to play a big role in how many layers from VGG16 that can be included because of the subsampling from the maxpooling layers. To include all 4 blocks, the image dimenions has to be atleast 70x70px for pooling layers = (16, 8, 4, 2 ,1)"
      ]
    },
    {
      "cell_type": "code",
      "metadata": {
        "colab": {
          "base_uri": "https://localhost:8080/"
        },
        "id": "2qiX1jNy4Z9D",
        "outputId": "53b24bbb-ee07-4b17-f73b-e0e70d65c8f0"
      },
      "source": [
        "from tensorflow.keras.applications import VGG16\n",
        "\n",
        "vgg = VGG16(\n",
        "    weights='imagenet',\n",
        "    include_top=False, # Doesn't match current input_shape\n",
        "    input_shape=INPUT_SHAPE\n",
        ")\n",
        "vgg.summary()\n"
      ],
      "execution_count": null,
      "outputs": [
        {
          "output_type": "stream",
          "name": "stdout",
          "text": [
            "Model: \"vgg16\"\n",
            "_________________________________________________________________\n",
            " Layer (type)                Output Shape              Param #   \n",
            "=================================================================\n",
            " input_5 (InputLayer)        [(None, 32, 32, 3)]       0         \n",
            "                                                                 \n",
            " block1_conv1 (Conv2D)       (None, 32, 32, 64)        1792      \n",
            "                                                                 \n",
            " block1_conv2 (Conv2D)       (None, 32, 32, 64)        36928     \n",
            "                                                                 \n",
            " block1_pool (MaxPooling2D)  (None, 16, 16, 64)        0         \n",
            "                                                                 \n",
            " block2_conv1 (Conv2D)       (None, 16, 16, 128)       73856     \n",
            "                                                                 \n",
            " block2_conv2 (Conv2D)       (None, 16, 16, 128)       147584    \n",
            "                                                                 \n",
            " block2_pool (MaxPooling2D)  (None, 8, 8, 128)         0         \n",
            "                                                                 \n",
            " block3_conv1 (Conv2D)       (None, 8, 8, 256)         295168    \n",
            "                                                                 \n",
            " block3_conv2 (Conv2D)       (None, 8, 8, 256)         590080    \n",
            "                                                                 \n",
            " block3_conv3 (Conv2D)       (None, 8, 8, 256)         590080    \n",
            "                                                                 \n",
            " block3_pool (MaxPooling2D)  (None, 4, 4, 256)         0         \n",
            "                                                                 \n",
            " block4_conv1 (Conv2D)       (None, 4, 4, 512)         1180160   \n",
            "                                                                 \n",
            " block4_conv2 (Conv2D)       (None, 4, 4, 512)         2359808   \n",
            "                                                                 \n",
            " block4_conv3 (Conv2D)       (None, 4, 4, 512)         2359808   \n",
            "                                                                 \n",
            " block4_pool (MaxPooling2D)  (None, 2, 2, 512)         0         \n",
            "                                                                 \n",
            " block5_conv1 (Conv2D)       (None, 2, 2, 512)         2359808   \n",
            "                                                                 \n",
            " block5_conv2 (Conv2D)       (None, 2, 2, 512)         2359808   \n",
            "                                                                 \n",
            " block5_conv3 (Conv2D)       (None, 2, 2, 512)         2359808   \n",
            "                                                                 \n",
            " block5_pool (MaxPooling2D)  (None, 1, 1, 512)         0         \n",
            "                                                                 \n",
            "=================================================================\n",
            "Total params: 14,714,688\n",
            "Trainable params: 14,714,688\n",
            "Non-trainable params: 0\n",
            "_________________________________________________________________\n"
          ]
        }
      ]
    },
    {
      "cell_type": "code",
      "metadata": {
        "id": "VSRbItat66zs"
      },
      "source": [
        "def get_output_tensor(name, layers):\n",
        "    # Will throw error for layers that do not exist\n",
        "    output = None\n",
        "    included_layers = 0\n",
        "    for i, layer in enumerate(layers):\n",
        "        if layer.name == name:\n",
        "            output = layer.output\n",
        "            included_layers = i\n",
        "            break\n",
        "\n",
        "        \n",
        "    return output, i\n"
      ],
      "execution_count": null,
      "outputs": []
    },
    {
      "cell_type": "markdown",
      "metadata": {
        "id": "_DG2VKx3DT_W"
      },
      "source": [
        "# Extended model\n",
        "To extend the model I am linking the input and output of VGG16 together with the newly created layers. \n",
        "- VGG as input and the new layers as output"
      ]
    },
    {
      "cell_type": "code",
      "metadata": {
        "id": "xUgzH59DEscG"
      },
      "source": [
        "from keras.models import Model\n",
        "from keras.layers import Conv2D, MaxPooling2D \n",
        "from keras.layers import Flatten, Dense, Dropout, BatchNormalization\n",
        "\n",
        "def get_extended_model(output_tensor, input_tensor):\n",
        "    x = output_tensor\n",
        "\n",
        "    x = Conv2D(64, kernel_size=(5,5), padding='same', activation='relu')(x)\n",
        "    x = BatchNormalization()(x)\n",
        "    x = MaxPooling2D(pool_size=(2,2))(x)\n",
        "    x = Dropout(0.25)(x)\n",
        "\n",
        "    x = Conv2D(128, kernel_size=(5,5), padding='same', activation='relu')(x)\n",
        "    x = MaxPooling2D(pool_size=(2,2))(x)\n",
        "    x = Dropout(0.25)(x)\n",
        "    x = Flatten()(x)\n",
        "    x = Dense(256, activation='relu')(x)\n",
        "    x = Dropout(0.25)(x)\n",
        "    x = Dense(10, activation='softmax')(x)\n",
        "    return Model(input_tensor, x)"
      ],
      "execution_count": null,
      "outputs": []
    },
    {
      "cell_type": "code",
      "metadata": {
        "colab": {
          "base_uri": "https://localhost:8080/"
        },
        "id": "dfcOGcrTCnoP",
        "outputId": "11a44575-bb50-4180-fa64-439791184b46"
      },
      "source": [
        "output_tensor, included_layers = get_output_tensor('block3_pool', vgg.layers)\n",
        "input_tensor = vgg.input\n",
        "extended_model = get_extended_model(output_tensor, input_tensor)\n",
        "extended_model.summary()\n",
        "\n"
      ],
      "execution_count": null,
      "outputs": [
        {
          "output_type": "stream",
          "name": "stdout",
          "text": [
            "Model: \"model_8\"\n",
            "_________________________________________________________________\n",
            " Layer (type)                Output Shape              Param #   \n",
            "=================================================================\n",
            " input_5 (InputLayer)        [(None, 32, 32, 3)]       0         \n",
            "                                                                 \n",
            " block1_conv1 (Conv2D)       (None, 32, 32, 64)        1792      \n",
            "                                                                 \n",
            " block1_conv2 (Conv2D)       (None, 32, 32, 64)        36928     \n",
            "                                                                 \n",
            " block1_pool (MaxPooling2D)  (None, 16, 16, 64)        0         \n",
            "                                                                 \n",
            " block2_conv1 (Conv2D)       (None, 16, 16, 128)       73856     \n",
            "                                                                 \n",
            " block2_conv2 (Conv2D)       (None, 16, 16, 128)       147584    \n",
            "                                                                 \n",
            " block2_pool (MaxPooling2D)  (None, 8, 8, 128)         0         \n",
            "                                                                 \n",
            " block3_conv1 (Conv2D)       (None, 8, 8, 256)         295168    \n",
            "                                                                 \n",
            " block3_conv2 (Conv2D)       (None, 8, 8, 256)         590080    \n",
            "                                                                 \n",
            " block3_conv3 (Conv2D)       (None, 8, 8, 256)         590080    \n",
            "                                                                 \n",
            " block3_pool (MaxPooling2D)  (None, 4, 4, 256)         0         \n",
            "                                                                 \n",
            " conv2d_24 (Conv2D)          (None, 4, 4, 64)          409664    \n",
            "                                                                 \n",
            " batch_normalization_6 (Batc  (None, 4, 4, 64)         256       \n",
            " hNormalization)                                                 \n",
            "                                                                 \n",
            " max_pooling2d_12 (MaxPoolin  (None, 2, 2, 64)         0         \n",
            " g2D)                                                            \n",
            "                                                                 \n",
            " dropout_12 (Dropout)        (None, 2, 2, 64)          0         \n",
            "                                                                 \n",
            " conv2d_25 (Conv2D)          (None, 2, 2, 128)         204928    \n",
            "                                                                 \n",
            " batch_normalization_7 (Batc  (None, 2, 2, 128)        512       \n",
            " hNormalization)                                                 \n",
            "                                                                 \n",
            " max_pooling2d_13 (MaxPoolin  (None, 1, 1, 128)        0         \n",
            " g2D)                                                            \n",
            "                                                                 \n",
            " dropout_13 (Dropout)        (None, 1, 1, 128)         0         \n",
            "                                                                 \n",
            " flatten_6 (Flatten)         (None, 128)               0         \n",
            "                                                                 \n",
            " dense_13 (Dense)            (None, 256)               33024     \n",
            "                                                                 \n",
            " dropout_14 (Dropout)        (None, 256)               0         \n",
            "                                                                 \n",
            " dense_14 (Dense)            (None, 10)                2570      \n",
            "                                                                 \n",
            "=================================================================\n",
            "Total params: 2,386,442\n",
            "Trainable params: 2,386,058\n",
            "Non-trainable params: 384\n",
            "_________________________________________________________________\n"
          ]
        }
      ]
    },
    {
      "cell_type": "markdown",
      "metadata": {
        "id": "ovn9AkyGH7MH"
      },
      "source": [
        "# Turning off trainable for included layers\n",
        "The included layers should not be re-trained in order to take full advantage of transfer learning. Trainable params go from around ~2.5mil to ~100k."
      ]
    },
    {
      "cell_type": "code",
      "metadata": {
        "colab": {
          "base_uri": "https://localhost:8080/"
        },
        "id": "6ub0ApCkHk_0",
        "outputId": "5dcb2872-1c43-44e5-e29a-5a7b910d8c26"
      },
      "source": [
        "# Turning off training for included layers\n",
        "for layer in extended_model.layers[:included_layers]:\n",
        "    layer.trainable = False\n",
        "\n",
        "extended_model.summary()"
      ],
      "execution_count": null,
      "outputs": [
        {
          "output_type": "stream",
          "name": "stdout",
          "text": [
            "Model: \"model_8\"\n",
            "_________________________________________________________________\n",
            " Layer (type)                Output Shape              Param #   \n",
            "=================================================================\n",
            " input_5 (InputLayer)        [(None, 32, 32, 3)]       0         \n",
            "                                                                 \n",
            " block1_conv1 (Conv2D)       (None, 32, 32, 64)        1792      \n",
            "                                                                 \n",
            " block1_conv2 (Conv2D)       (None, 32, 32, 64)        36928     \n",
            "                                                                 \n",
            " block1_pool (MaxPooling2D)  (None, 16, 16, 64)        0         \n",
            "                                                                 \n",
            " block2_conv1 (Conv2D)       (None, 16, 16, 128)       73856     \n",
            "                                                                 \n",
            " block2_conv2 (Conv2D)       (None, 16, 16, 128)       147584    \n",
            "                                                                 \n",
            " block2_pool (MaxPooling2D)  (None, 8, 8, 128)         0         \n",
            "                                                                 \n",
            " block3_conv1 (Conv2D)       (None, 8, 8, 256)         295168    \n",
            "                                                                 \n",
            " block3_conv2 (Conv2D)       (None, 8, 8, 256)         590080    \n",
            "                                                                 \n",
            " block3_conv3 (Conv2D)       (None, 8, 8, 256)         590080    \n",
            "                                                                 \n",
            " block3_pool (MaxPooling2D)  (None, 4, 4, 256)         0         \n",
            "                                                                 \n",
            " conv2d_24 (Conv2D)          (None, 4, 4, 64)          409664    \n",
            "                                                                 \n",
            " batch_normalization_6 (Batc  (None, 4, 4, 64)         256       \n",
            " hNormalization)                                                 \n",
            "                                                                 \n",
            " max_pooling2d_12 (MaxPoolin  (None, 2, 2, 64)         0         \n",
            " g2D)                                                            \n",
            "                                                                 \n",
            " dropout_12 (Dropout)        (None, 2, 2, 64)          0         \n",
            "                                                                 \n",
            " conv2d_25 (Conv2D)          (None, 2, 2, 128)         204928    \n",
            "                                                                 \n",
            " batch_normalization_7 (Batc  (None, 2, 2, 128)        512       \n",
            " hNormalization)                                                 \n",
            "                                                                 \n",
            " max_pooling2d_13 (MaxPoolin  (None, 1, 1, 128)        0         \n",
            " g2D)                                                            \n",
            "                                                                 \n",
            " dropout_13 (Dropout)        (None, 1, 1, 128)         0         \n",
            "                                                                 \n",
            " flatten_6 (Flatten)         (None, 128)               0         \n",
            "                                                                 \n",
            " dense_13 (Dense)            (None, 256)               33024     \n",
            "                                                                 \n",
            " dropout_14 (Dropout)        (None, 256)               0         \n",
            "                                                                 \n",
            " dense_14 (Dense)            (None, 10)                2570      \n",
            "                                                                 \n",
            "=================================================================\n",
            "Total params: 2,386,442\n",
            "Trainable params: 650,570\n",
            "Non-trainable params: 1,735,872\n",
            "_________________________________________________________________\n"
          ]
        }
      ]
    },
    {
      "cell_type": "code",
      "metadata": {
        "id": "TW3dQLLSIZ3U"
      },
      "source": [
        "from tensorflow.keras.optimizers import Adam\n",
        "from tensorflow.keras.callbacks import EarlyStopping, ReduceLROnPlateau\n",
        "EPOCHS = 20 # using earlystop so this doesnt really matter in theory\n",
        "BATCH_SIZE = 32\n",
        "optimizer = Adam(learning_rate=0.0001)\n",
        "early_stop_monitor = EarlyStopping(monitor='val_loss', patience=4, restore_best_weights=True, verbose=1)\n",
        "reduce_lr_monitor = ReduceLROnPlateau(monitor='val_loss', factor=0.2, patience=3, min_lr=0, verbose=1, epsilon=0.0001)"
      ],
      "execution_count": null,
      "outputs": []
    },
    {
      "cell_type": "code",
      "metadata": {
        "id": "Jy4MgqOCJKSp"
      },
      "source": [
        "extended_model.compile(loss='categorical_crossentropy',\n",
        "                       optimizer=optimizer,\n",
        "                       metrics=['categorical_accuracy'])"
      ],
      "execution_count": null,
      "outputs": []
    },
    {
      "cell_type": "code",
      "metadata": {
        "colab": {
          "base_uri": "https://localhost:8080/"
        },
        "id": "Ae0BQWJdJIUY",
        "outputId": "36b96354-c488-4143-9d00-2e1fa1841d5b"
      },
      "source": [
        "history = extended_model.fit(train_x, train_y,\n",
        "                             epochs=EPOCHS, batch_size=BATCH_SIZE,\n",
        "                             verbose=2, validation_data=(val_x, val_y), \n",
        "                             callbacks=[early_stop_monitor])\n",
        "\n",
        "stopped_at = early_stop_monitor.stopped_epoch\n",
        "if stopped_at == 0:\n",
        "    stopped_at = EPOCHS - 1"
      ],
      "execution_count": null,
      "outputs": [
        {
          "output_type": "stream",
          "name": "stdout",
          "text": [
            "Epoch 1/20\n",
            "1500/1500 - 22s - loss: 0.5747 - categorical_accuracy: 0.8002 - val_loss: 0.2921 - val_categorical_accuracy: 0.8972 - 22s/epoch - 15ms/step\n",
            "Epoch 2/20\n",
            "1500/1500 - 23s - loss: 0.3626 - categorical_accuracy: 0.8723 - val_loss: 0.2887 - val_categorical_accuracy: 0.8984 - 23s/epoch - 15ms/step\n",
            "Epoch 3/20\n",
            "1500/1500 - 22s - loss: 0.3240 - categorical_accuracy: 0.8861 - val_loss: 0.2462 - val_categorical_accuracy: 0.9106 - 22s/epoch - 15ms/step\n",
            "Epoch 4/20\n",
            "1500/1500 - 20s - loss: 0.2967 - categorical_accuracy: 0.8948 - val_loss: 0.2453 - val_categorical_accuracy: 0.9107 - 20s/epoch - 13ms/step\n",
            "Epoch 5/20\n",
            "1500/1500 - 22s - loss: 0.2737 - categorical_accuracy: 0.9008 - val_loss: 0.2548 - val_categorical_accuracy: 0.9048 - 22s/epoch - 15ms/step\n",
            "Epoch 6/20\n",
            "1500/1500 - 20s - loss: 0.2567 - categorical_accuracy: 0.9068 - val_loss: 0.2298 - val_categorical_accuracy: 0.9158 - 20s/epoch - 13ms/step\n",
            "Epoch 7/20\n",
            "1500/1500 - 20s - loss: 0.2451 - categorical_accuracy: 0.9114 - val_loss: 0.2136 - val_categorical_accuracy: 0.9203 - 20s/epoch - 13ms/step\n",
            "Epoch 8/20\n",
            "1500/1500 - 22s - loss: 0.2358 - categorical_accuracy: 0.9141 - val_loss: 0.2139 - val_categorical_accuracy: 0.9204 - 22s/epoch - 15ms/step\n",
            "Epoch 9/20\n",
            "1500/1500 - 22s - loss: 0.2251 - categorical_accuracy: 0.9184 - val_loss: 0.2093 - val_categorical_accuracy: 0.9255 - 22s/epoch - 15ms/step\n",
            "Epoch 10/20\n",
            "1500/1500 - 20s - loss: 0.2182 - categorical_accuracy: 0.9203 - val_loss: 0.2095 - val_categorical_accuracy: 0.9243 - 20s/epoch - 13ms/step\n",
            "Epoch 11/20\n",
            "1500/1500 - 20s - loss: 0.2094 - categorical_accuracy: 0.9239 - val_loss: 0.2233 - val_categorical_accuracy: 0.9173 - 20s/epoch - 13ms/step\n",
            "Epoch 12/20\n",
            "1500/1500 - 20s - loss: 0.2020 - categorical_accuracy: 0.9268 - val_loss: 0.2008 - val_categorical_accuracy: 0.9252 - 20s/epoch - 13ms/step\n",
            "Epoch 13/20\n",
            "1500/1500 - 20s - loss: 0.1990 - categorical_accuracy: 0.9269 - val_loss: 0.2038 - val_categorical_accuracy: 0.9277 - 20s/epoch - 13ms/step\n",
            "Epoch 14/20\n",
            "1500/1500 - 22s - loss: 0.1955 - categorical_accuracy: 0.9290 - val_loss: 0.2022 - val_categorical_accuracy: 0.9257 - 22s/epoch - 15ms/step\n",
            "Epoch 15/20\n",
            "1500/1500 - 20s - loss: 0.1864 - categorical_accuracy: 0.9321 - val_loss: 0.2016 - val_categorical_accuracy: 0.9260 - 20s/epoch - 13ms/step\n"
          ]
        }
      ]
    },
    {
      "cell_type": "code",
      "metadata": {
        "colab": {
          "base_uri": "https://localhost:8080/"
        },
        "id": "gCdHBJ9pMeeL",
        "outputId": "3719e521-c4fe-45bd-a6a4-99291149b1de"
      },
      "source": [
        "extended_model.evaluate(test_x, test_y)\n",
        "print(stopped_at)"
      ],
      "execution_count": null,
      "outputs": [
        {
          "output_type": "stream",
          "name": "stdout",
          "text": [
            "313/313 [==============================] - 4s 12ms/step - loss: 0.2218 - categorical_accuracy: 0.9193\n",
            "14\n"
          ]
        }
      ]
    },
    {
      "cell_type": "code",
      "metadata": {
        "id": "94oqmdzvJtJ7"
      },
      "source": [
        "def retrieve(mapping, *keys):\n",
        "    return (mapping[key] for key in keys)"
      ],
      "execution_count": null,
      "outputs": []
    },
    {
      "cell_type": "code",
      "metadata": {
        "colab": {
          "base_uri": "https://localhost:8080/",
          "height": 573
        },
        "id": "a_nqanF4J2mo",
        "outputId": "5dabae23-409e-4724-e3c2-cfd7e80e3079"
      },
      "source": [
        " train_loss, train_acc, val_loss, val_acc = retrieve(history.history,\n",
        "                                                     'loss',\n",
        "                                                     'categorical_accuracy',\n",
        "                                                     'val_loss',\n",
        "                                                     'val_categorical_accuracy')\n",
        "\n",
        "epoch_range = range(1, stopped_at + 2)\n",
        "plt.plot(epoch_range, train_acc, 'bo', label='Training accuracy')\n",
        "plt.plot(epoch_range, val_acc, 'b', label='Validation accuracy')\n",
        "plt.title(f'Training and validation accuracy (extended VGG16 model)')\n",
        "plt.xlabel('Epochs')\n",
        "plt.ylabel('Accuracy')\n",
        "plt.legend()\n",
        "plt.show()\n",
        "\n",
        "plt.plot(epoch_range, train_loss, 'bo', color='red', label='Training loss')\n",
        "plt.plot(epoch_range, val_loss, 'b', color='red', label='Validation loss')\n",
        "plt.title(f'Training and validation loss (extended VGG16 model)')\n",
        "plt.xlabel('Epochs')\n",
        "plt.ylabel('Loss')\n",
        "plt.legend()\n",
        "plt.show()"
      ],
      "execution_count": null,
      "outputs": [
        {
          "output_type": "display_data",
          "data": {
            "image/png": "[encoded data removed]",
            "text/plain": [
              "<Figure size 432x288 with 1 Axes>"
            ]
          },
          "metadata": {
            "needs_background": "light"
          }
        },
        {
          "output_type": "display_data",
          "data": {
            "image/png": "[encoded data removed]",
            "text/plain": [
              "<Figure size 432x288 with 1 Axes>"
            ]
          },
          "metadata": {
            "needs_background": "light"
          }
        }
      ]
    },
    {
      "cell_type": "code",
      "metadata": {
        "id": "X05Uym16jd4t"
      },
      "source": [
        ""
      ],
      "execution_count": null,
      "outputs": []
    }
  ]
}