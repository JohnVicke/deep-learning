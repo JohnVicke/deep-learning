{
  "nbformat": 4,
  "nbformat_minor": 0,
  "metadata": {
    "colab": {
      "name": "viktor_malmedal_transfer_learning.ipynb",
      "provenance": [],
      "authorship_tag": "ABX9TyM1q/PlHKmiskxCJB/dvHCP",
      "include_colab_link": true
    },
    "kernelspec": {
      "name": "python3",
      "display_name": "Python 3"
    },
    "language_info": {
      "name": "python"
    },
    "accelerator": "GPU"
  },
  "cells": [
    {
      "cell_type": "markdown",
      "metadata": {
        "id": "view-in-github",
        "colab_type": "text"
      },
      "source": [
        "<a href=\"https://colab.research.google.com/github/JohnVicke/deep-learning/blob/main/viktor_malmedal_transfer_learning.ipynb\" target=\"_parent\"><img src=\"https://colab.research.google.com/assets/colab-badge.svg\" alt=\"Open In Colab\"/></a>"
      ]
    },
    {
      "cell_type": "markdown",
      "metadata": {
        "id": "2LN2kW1TjWQX"
      },
      "source": [
        "# Transfer learning\n",
        "\n",
        "```\n",
        "Author: Viktor Malmedal\n",
        "Mail:   viktormalmedal@gmail.com\n",
        "umuId:  vima0068\n",
        "```\n",
        "Use a trained model to reach over 91.5% test accuracy on MNIST-Fashion data set\n",
        "\n"
      ]
    },
    {
      "cell_type": "code",
      "metadata": {
        "colab": {
          "base_uri": "https://localhost:8080/"
        },
        "id": "1jCVcD2ijOpc",
        "outputId": "2f83cde7-1276-4e0b-e41e-a0e67ae74656"
      },
      "source": [
        "import tensorflow as tf\n",
        "import tensorflow.keras\n",
        "import numpy as np\n",
        "from sklearn.model_selection import train_test_split\n",
        "\n",
        "import matplotlib\n",
        "import matplotlib.pyplot as plt\n",
        "print(f'Keras version      = {tensorflow.keras.__version__}')\n",
        "print(f'Tensorflow version = {tf.__version__}')"
      ],
      "execution_count": null,
      "outputs": [
        {
          "output_type": "stream",
          "name": "stdout",
          "text": [
            "Keras version      = 2.7.0\n",
            "Tensorflow version = 2.7.0\n"
          ]
        }
      ]
    },
    {
      "cell_type": "code",
      "metadata": {
        "colab": {
          "base_uri": "https://localhost:8080/"
        },
        "id": "eUBf9Uv7jxjb",
        "outputId": "487bb3da-2493-4db0-8502-7cb895531f47"
      },
      "source": [
        "import sys\n",
        "if not tf.config.list_physical_devices('GPU'):\n",
        "    print('No GPU detected. CNNs can be very slow without a GPU')\n",
        "    if 'google.colab' in sys.modules:\n",
        "        print('Go to RunTime > change runtime and select a GPU hardware accelerator')\n",
        "else:\n",
        "    !nvidia-smi -L"
      ],
      "execution_count": null,
      "outputs": [
        {
          "output_type": "stream",
          "name": "stdout",
          "text": [
            "GPU 0: Tesla K80 (UUID: GPU-312c6c20-688b-dabb-0400-0f62f8dd0c9b)\n"
          ]
        }
      ]
    },
    {
      "cell_type": "code",
      "metadata": {
        "id": "4v8ZQkiVqQFq"
      },
      "source": [
        "def normalize_data(data):\n",
        "    return data.astype('float32') / 255.0"
      ],
      "execution_count": null,
      "outputs": []
    },
    {
      "cell_type": "code",
      "metadata": {
        "id": "nzKjqYVg2ZJd"
      },
      "source": [
        "def resize_data(data, dim=[32,32]):\n",
        "    return np.asarray(tf.image.resize(data, dim, method='nearest'))"
      ],
      "execution_count": null,
      "outputs": []
    },
    {
      "cell_type": "code",
      "metadata": {
        "id": "j1PKO1OunZyv"
      },
      "source": [
        "from keras.preprocessing.image import img_to_array, array_to_img\n",
        "def reshape_data(data):\n",
        "    data = np.expand_dims(data, axis=-1)\n",
        "    data = np.repeat(data, 3, axis=-1)\n",
        "    return data"
      ],
      "execution_count": null,
      "outputs": []
    },
    {
      "cell_type": "code",
      "metadata": {
        "colab": {
          "base_uri": "https://localhost:8080/"
        },
        "id": "-Zqmq7eCkCf5",
        "outputId": "f9b13af5-ab23-4605-cedf-d52947936303"
      },
      "source": [
        "from tensorflow.keras.datasets import fashion_mnist\n",
        "(x_train, y_train), (x_test, y_test) = fashion_mnist.load_data()\n",
        "_, img_width, img_height = x_train.shape\n",
        "print('----- Data -----')\n",
        "print(f'Train: images{x_train.shape} | labels {y_train.shape}')\n",
        "print(f'Test:  images{x_test.shape} | labels {y_test.shape}')\n",
        "print()\n",
        "\n",
        "# Keep original values for analysis\n",
        "train_x = resize_data(reshape_data(normalize_data(x_train)))\n",
        "test_x  = resize_data(reshape_data(normalize_data(x_test)))\n",
        "\n",
        "print('----- Reshaped data ------')\n",
        "print(f'Train: images{train_x.shape}')\n",
        "print(f'Test:  images{test_x.shape}')\n"
      ],
      "execution_count": null,
      "outputs": [
        {
          "output_type": "stream",
          "name": "stdout",
          "text": [
            "Downloading data from https://storage.googleapis.com/tensorflow/tf-keras-datasets/train-labels-idx1-ubyte.gz\n",
            "32768/29515 [=================================] - 0s 0us/step\n",
            "40960/29515 [=========================================] - 0s 0us/step\n",
            "Downloading data from https://storage.googleapis.com/tensorflow/tf-keras-datasets/train-images-idx3-ubyte.gz\n",
            "26427392/26421880 [==============================] - 0s 0us/step\n",
            "26435584/26421880 [==============================] - 0s 0us/step\n",
            "Downloading data from https://storage.googleapis.com/tensorflow/tf-keras-datasets/t10k-labels-idx1-ubyte.gz\n",
            "16384/5148 [===============================================================================================] - 0s 0us/step\n",
            "Downloading data from https://storage.googleapis.com/tensorflow/tf-keras-datasets/t10k-images-idx3-ubyte.gz\n",
            "4423680/4422102 [==============================] - 0s 0us/step\n",
            "4431872/4422102 [==============================] - 0s 0us/step\n",
            "----- Data -----\n",
            "Train: images(60000, 28, 28) | labels (60000,)\n",
            "Test:  images(10000, 28, 28) | labels (10000,)\n",
            "\n",
            "----- Reshaped data ------\n",
            "Train: images(60000, 32, 32, 3)\n",
            "Test:  images(10000, 32, 32, 3)\n"
          ]
        }
      ]
    },
    {
      "cell_type": "code",
      "metadata": {
        "colab": {
          "base_uri": "https://localhost:8080/",
          "height": 266
        },
        "id": "7cj74O8GtY-N",
        "outputId": "56f76a70-8325-4ebe-8228-4f3b7755dff1"
      },
      "source": [
        "# Arbitrary image to see if resize succeeded\n",
        "plt.imshow(train_x[1337], cmap=plt.get_cmap('gray'))\n",
        "plt.show()"
      ],
      "execution_count": null,
      "outputs": [
        {
          "output_type": "display_data",
          "data": {
            "image/png": "[encoded data removed]",
            "text/plain": [
              "<Figure size 432x288 with 1 Axes>"
            ]
          },
          "metadata": {
            "needs_background": "light"
          }
        }
      ]
    },
    {
      "cell_type": "code",
      "metadata": {
        "id": "Um82ORLrqXYJ"
      },
      "source": [
        "from tensorflow.keras.utils import to_categorical\n",
        "RANDOM_STATE = 12\n",
        "test_y = to_categorical(y_test)\n",
        "train_x, val_x, train_y, val_y = train_test_split(train_x,\n",
        "                                                  to_categorical(y_train),\n",
        "                                                  test_size=0.2,\n",
        "                                                  random_state=RANDOM_STATE)\n"
      ],
      "execution_count": null,
      "outputs": []
    },
    {
      "cell_type": "code",
      "metadata": {
        "colab": {
          "base_uri": "https://localhost:8080/"
        },
        "id": "JdlJLaEWrbl2",
        "outputId": "4cebfd13-c86b-4875-c6fc-5c5ed02654c5"
      },
      "source": [
        "train_x.shape, val_x.shape, test_x.shape, train_y.shape, val_y.shape, test_y.shape"
      ],
      "execution_count": null,
      "outputs": [
        {
          "output_type": "execute_result",
          "data": {
            "text/plain": [
              "((48000, 32, 32, 3),\n",
              " (12000, 32, 32, 3),\n",
              " (10000, 32, 32, 3),\n",
              " (48000, 10),\n",
              " (12000, 10),\n",
              " (10000, 10))"
            ]
          },
          "metadata": {},
          "execution_count": 9
        }
      ]
    },
    {
      "cell_type": "code",
      "metadata": {
        "id": "OEI1HVLA5nxr"
      },
      "source": [
        "DIM = [32,32]\n",
        "INPUT_SHAPE = (*DIM, 3)"
      ],
      "execution_count": null,
      "outputs": []
    },
    {
      "cell_type": "markdown",
      "metadata": {
        "id": "x8kAMV177a2I"
      },
      "source": [
        "# Explore the VGG16 model\n",
        "Here we have the very deep VGG16 convolutional network developed by the *Visual Geometry Group*. It consits of 19 total layer and has performed a top-5 test accuracy in ImageNet, which are the weights that are going to be used in this laboration. VGG16 was allegedly trained for weeks using NVIDA Titan Black GPUs.\n",
        "\n",
        "Image dimension are going to play a big role in how many layers from VGG16 that can be included because of the subsampling from the maxpooling layers. To include all 4 blocks, the image dimenions has to be atleast 70x70px for pooling layers = (16, 8, 4, 2 ,1)"
      ]
    },
    {
      "cell_type": "code",
      "metadata": {
        "colab": {
          "base_uri": "https://localhost:8080/"
        },
        "id": "2qiX1jNy4Z9D",
        "outputId": "51ed6a65-8676-4d89-db44-538903b520d4"
      },
      "source": [
        "from tensorflow.keras.applications import VGG16\n",
        "\n",
        "vgg = VGG16(\n",
        "    weights='imagenet',\n",
        "    include_top=False, # Doesn't match current input_shape\n",
        "    input_shape=INPUT_SHAPE\n",
        ")\n",
        "vgg.summary()\n"
      ],
      "execution_count": null,
      "outputs": [
        {
          "output_type": "stream",
          "name": "stdout",
          "text": [
            "Downloading data from https://storage.googleapis.com/tensorflow/keras-applications/vgg16/vgg16_weights_tf_dim_ordering_tf_kernels_notop.h5\n",
            "58892288/58889256 [==============================] - 1s 0us/step\n",
            "58900480/58889256 [==============================] - 1s 0us/step\n",
            "Model: \"vgg16\"\n",
            "_________________________________________________________________\n",
            " Layer (type)                Output Shape              Param #   \n",
            "=================================================================\n",
            " input_1 (InputLayer)        [(None, 32, 32, 3)]       0         \n",
            "                                                                 \n",
            " block1_conv1 (Conv2D)       (None, 32, 32, 64)        1792      \n",
            "                                                                 \n",
            " block1_conv2 (Conv2D)       (None, 32, 32, 64)        36928     \n",
            "                                                                 \n",
            " block1_pool (MaxPooling2D)  (None, 16, 16, 64)        0         \n",
            "                                                                 \n",
            " block2_conv1 (Conv2D)       (None, 16, 16, 128)       73856     \n",
            "                                                                 \n",
            " block2_conv2 (Conv2D)       (None, 16, 16, 128)       147584    \n",
            "                                                                 \n",
            " block2_pool (MaxPooling2D)  (None, 8, 8, 128)         0         \n",
            "                                                                 \n",
            " block3_conv1 (Conv2D)       (None, 8, 8, 256)         295168    \n",
            "                                                                 \n",
            " block3_conv2 (Conv2D)       (None, 8, 8, 256)         590080    \n",
            "                                                                 \n",
            " block3_conv3 (Conv2D)       (None, 8, 8, 256)         590080    \n",
            "                                                                 \n",
            " block3_pool (MaxPooling2D)  (None, 4, 4, 256)         0         \n",
            "                                                                 \n",
            " block4_conv1 (Conv2D)       (None, 4, 4, 512)         1180160   \n",
            "                                                                 \n",
            " block4_conv2 (Conv2D)       (None, 4, 4, 512)         2359808   \n",
            "                                                                 \n",
            " block4_conv3 (Conv2D)       (None, 4, 4, 512)         2359808   \n",
            "                                                                 \n",
            " block4_pool (MaxPooling2D)  (None, 2, 2, 512)         0         \n",
            "                                                                 \n",
            " block5_conv1 (Conv2D)       (None, 2, 2, 512)         2359808   \n",
            "                                                                 \n",
            " block5_conv2 (Conv2D)       (None, 2, 2, 512)         2359808   \n",
            "                                                                 \n",
            " block5_conv3 (Conv2D)       (None, 2, 2, 512)         2359808   \n",
            "                                                                 \n",
            " block5_pool (MaxPooling2D)  (None, 1, 1, 512)         0         \n",
            "                                                                 \n",
            "=================================================================\n",
            "Total params: 14,714,688\n",
            "Trainable params: 14,714,688\n",
            "Non-trainable params: 0\n",
            "_________________________________________________________________\n"
          ]
        }
      ]
    },
    {
      "cell_type": "code",
      "metadata": {
        "id": "VSRbItat66zs"
      },
      "source": [
        "def get_output_tensor(name, layers):\n",
        "    # Will throw error for layers that do not exist\n",
        "    output = None\n",
        "    included_layers = 0\n",
        "    for i, layer in enumerate(layers):\n",
        "        if layer.name == name:\n",
        "            output = layer.output\n",
        "            included_layers = i\n",
        "            break\n",
        "\n",
        "        \n",
        "    return output, included_layers\n"
      ],
      "execution_count": null,
      "outputs": []
    },
    {
      "cell_type": "markdown",
      "metadata": {
        "id": "_DG2VKx3DT_W"
      },
      "source": [
        "# Extended model\n",
        "To extend the model I am linking the input and output of VGG16 together with the newly created layers. \n",
        "- VGG as input and the new layers as output"
      ]
    },
    {
      "cell_type": "code",
      "metadata": {
        "id": "xUgzH59DEscG"
      },
      "source": [
        "from keras.models import Model\n",
        "from keras.layers import Conv2D, MaxPooling2D \n",
        "from keras.layers import Flatten, Dense, Dropout, BatchNormalization\n",
        "\n",
        "def get_extended_model(output_tensor, input_tensor):\n",
        "    x = output_tensor\n",
        "\n",
        "    x = Conv2D(64, kernel_size=(5,5), padding='same', activation='relu')(x)\n",
        "    x = BatchNormalization()(x)\n",
        "    x = MaxPooling2D(pool_size=(2,2))(x)\n",
        "    x = Dropout(0.25)(x)\n",
        "\n",
        "    x = Conv2D(128, kernel_size=(5,5), padding='same', activation='relu')(x)\n",
        "    x = MaxPooling2D(pool_size=(2,2))(x)\n",
        "    x = Dropout(0.25)(x)\n",
        "    x = Flatten()(x)\n",
        "    x = Dense(256, activation='relu')(x)\n",
        "    x = Dropout(0.25)(x)\n",
        "    x = Dense(10, activation='softmax')(x)\n",
        "    return Model(input_tensor, x)"
      ],
      "execution_count": null,
      "outputs": []
    },
    {
      "cell_type": "code",
      "metadata": {
        "colab": {
          "base_uri": "https://localhost:8080/"
        },
        "id": "dfcOGcrTCnoP",
        "outputId": "4655267c-8263-41e8-eb3d-ecd68f34bc9d"
      },
      "source": [
        "output_tensor, included_layers = get_output_tensor('block3_pool', vgg.layers)\n",
        "input_tensor = vgg.input\n",
        "extended_model = get_extended_model(output_tensor, input_tensor)\n",
        "extended_model.summary()\n",
        "\n"
      ],
      "execution_count": null,
      "outputs": [
        {
          "output_type": "stream",
          "name": "stdout",
          "text": [
            "Model: \"model\"\n",
            "_________________________________________________________________\n",
            " Layer (type)                Output Shape              Param #   \n",
            "=================================================================\n",
            " input_1 (InputLayer)        [(None, 32, 32, 3)]       0         \n",
            "                                                                 \n",
            " block1_conv1 (Conv2D)       (None, 32, 32, 64)        1792      \n",
            "                                                                 \n",
            " block1_conv2 (Conv2D)       (None, 32, 32, 64)        36928     \n",
            "                                                                 \n",
            " block1_pool (MaxPooling2D)  (None, 16, 16, 64)        0         \n",
            "                                                                 \n",
            " block2_conv1 (Conv2D)       (None, 16, 16, 128)       73856     \n",
            "                                                                 \n",
            " block2_conv2 (Conv2D)       (None, 16, 16, 128)       147584    \n",
            "                                                                 \n",
            " block2_pool (MaxPooling2D)  (None, 8, 8, 128)         0         \n",
            "                                                                 \n",
            " block3_conv1 (Conv2D)       (None, 8, 8, 256)         295168    \n",
            "                                                                 \n",
            " block3_conv2 (Conv2D)       (None, 8, 8, 256)         590080    \n",
            "                                                                 \n",
            " block3_conv3 (Conv2D)       (None, 8, 8, 256)         590080    \n",
            "                                                                 \n",
            " block3_pool (MaxPooling2D)  (None, 4, 4, 256)         0         \n",
            "                                                                 \n",
            " conv2d (Conv2D)             (None, 4, 4, 64)          409664    \n",
            "                                                                 \n",
            " batch_normalization (BatchN  (None, 4, 4, 64)         256       \n",
            " ormalization)                                                   \n",
            "                                                                 \n",
            " max_pooling2d (MaxPooling2D  (None, 2, 2, 64)         0         \n",
            " )                                                               \n",
            "                                                                 \n",
            " dropout (Dropout)           (None, 2, 2, 64)          0         \n",
            "                                                                 \n",
            " conv2d_1 (Conv2D)           (None, 2, 2, 128)         204928    \n",
            "                                                                 \n",
            " max_pooling2d_1 (MaxPooling  (None, 1, 1, 128)        0         \n",
            " 2D)                                                             \n",
            "                                                                 \n",
            " dropout_1 (Dropout)         (None, 1, 1, 128)         0         \n",
            "                                                                 \n",
            " flatten (Flatten)           (None, 128)               0         \n",
            "                                                                 \n",
            " dense (Dense)               (None, 256)               33024     \n",
            "                                                                 \n",
            " dropout_2 (Dropout)         (None, 256)               0         \n",
            "                                                                 \n",
            " dense_1 (Dense)             (None, 10)                2570      \n",
            "                                                                 \n",
            "=================================================================\n",
            "Total params: 2,385,930\n",
            "Trainable params: 2,385,802\n",
            "Non-trainable params: 128\n",
            "_________________________________________________________________\n"
          ]
        }
      ]
    },
    {
      "cell_type": "markdown",
      "metadata": {
        "id": "ovn9AkyGH7MH"
      },
      "source": [
        "# Turning off trainable for included layers\n",
        "The included layers should not be re-trained in order to take full advantage of transfer learning. Trainable params go from around ~2.5mil to ~650k."
      ]
    },
    {
      "cell_type": "code",
      "metadata": {
        "colab": {
          "base_uri": "https://localhost:8080/"
        },
        "id": "6ub0ApCkHk_0",
        "outputId": "7f44efee-911c-40a8-fa1f-d5ed4b31bdbd"
      },
      "source": [
        "for layer in extended_model.layers[:included_layers]:\n",
        "    layer.trainable = False\n",
        "\n",
        "extended_model.summary()"
      ],
      "execution_count": null,
      "outputs": [
        {
          "output_type": "stream",
          "name": "stdout",
          "text": [
            "Model: \"model\"\n",
            "_________________________________________________________________\n",
            " Layer (type)                Output Shape              Param #   \n",
            "=================================================================\n",
            " input_1 (InputLayer)        [(None, 32, 32, 3)]       0         \n",
            "                                                                 \n",
            " block1_conv1 (Conv2D)       (None, 32, 32, 64)        1792      \n",
            "                                                                 \n",
            " block1_conv2 (Conv2D)       (None, 32, 32, 64)        36928     \n",
            "                                                                 \n",
            " block1_pool (MaxPooling2D)  (None, 16, 16, 64)        0         \n",
            "                                                                 \n",
            " block2_conv1 (Conv2D)       (None, 16, 16, 128)       73856     \n",
            "                                                                 \n",
            " block2_conv2 (Conv2D)       (None, 16, 16, 128)       147584    \n",
            "                                                                 \n",
            " block2_pool (MaxPooling2D)  (None, 8, 8, 128)         0         \n",
            "                                                                 \n",
            " block3_conv1 (Conv2D)       (None, 8, 8, 256)         295168    \n",
            "                                                                 \n",
            " block3_conv2 (Conv2D)       (None, 8, 8, 256)         590080    \n",
            "                                                                 \n",
            " block3_conv3 (Conv2D)       (None, 8, 8, 256)         590080    \n",
            "                                                                 \n",
            " block3_pool (MaxPooling2D)  (None, 4, 4, 256)         0         \n",
            "                                                                 \n",
            " conv2d (Conv2D)             (None, 4, 4, 64)          409664    \n",
            "                                                                 \n",
            " batch_normalization (BatchN  (None, 4, 4, 64)         256       \n",
            " ormalization)                                                   \n",
            "                                                                 \n",
            " max_pooling2d (MaxPooling2D  (None, 2, 2, 64)         0         \n",
            " )                                                               \n",
            "                                                                 \n",
            " dropout (Dropout)           (None, 2, 2, 64)          0         \n",
            "                                                                 \n",
            " conv2d_1 (Conv2D)           (None, 2, 2, 128)         204928    \n",
            "                                                                 \n",
            " max_pooling2d_1 (MaxPooling  (None, 1, 1, 128)        0         \n",
            " 2D)                                                             \n",
            "                                                                 \n",
            " dropout_1 (Dropout)         (None, 1, 1, 128)         0         \n",
            "                                                                 \n",
            " flatten (Flatten)           (None, 128)               0         \n",
            "                                                                 \n",
            " dense (Dense)               (None, 256)               33024     \n",
            "                                                                 \n",
            " dropout_2 (Dropout)         (None, 256)               0         \n",
            "                                                                 \n",
            " dense_1 (Dense)             (None, 10)                2570      \n",
            "                                                                 \n",
            "=================================================================\n",
            "Total params: 2,385,930\n",
            "Trainable params: 650,314\n",
            "Non-trainable params: 1,735,616\n",
            "_________________________________________________________________\n"
          ]
        }
      ]
    },
    {
      "cell_type": "code",
      "metadata": {
        "id": "TW3dQLLSIZ3U",
        "colab": {
          "base_uri": "https://localhost:8080/"
        },
        "outputId": "59dd3fae-5832-4d09-9204-bf8f0f26d816"
      },
      "source": [
        "from tensorflow.keras.optimizers import Adam\n",
        "from tensorflow.keras.callbacks import EarlyStopping, ReduceLROnPlateau\n",
        "EPOCHS = 20 \n",
        "BATCH_SIZE = 32\n",
        "optimizer = Adam(learning_rate=0.0001)\n",
        "early_stop_monitor = EarlyStopping(monitor='val_loss', patience=4, restore_best_weights=True, verbose=1)\n",
        "reduce_lr_monitor = ReduceLROnPlateau(monitor='val_loss', factor=0.2, patience=3, min_lr=0, verbose=1, min_delta=0.0001)"
      ],
      "execution_count": null,
      "outputs": [
        {
          "output_type": "stream",
          "name": "stdout",
          "text": [
            "WARNING:tensorflow:`epsilon` argument is deprecated and will be removed, use `min_delta` instead.\n"
          ]
        }
      ]
    },
    {
      "cell_type": "code",
      "metadata": {
        "id": "Jy4MgqOCJKSp"
      },
      "source": [
        "extended_model.compile(loss='categorical_crossentropy',\n",
        "                       optimizer=optimizer,\n",
        "                       metrics=['categorical_accuracy'])"
      ],
      "execution_count": null,
      "outputs": []
    },
    {
      "cell_type": "code",
      "metadata": {
        "colab": {
          "base_uri": "https://localhost:8080/"
        },
        "id": "Ae0BQWJdJIUY",
        "outputId": "bc44e3c3-e065-4da9-ac19-55aa5d61cb92"
      },
      "source": [
        "import time\n",
        "print(f'Starting to train model....')\n",
        "global_start_time = time.time()\n",
        "\n",
        "history = extended_model.fit(train_x, train_y,\n",
        "                             shuffle=True,\n",
        "                             epochs=EPOCHS, batch_size=BATCH_SIZE,\n",
        "                             verbose=2, validation_data=(val_x, val_y), \n",
        "                             callbacks=[early_stop_monitor, reduce_lr_monitor])\n",
        "\n",
        "stopped_at = early_stop_monitor.stopped_epoch\n",
        "if stopped_at == 0:\n",
        "    stopped_at = EPOCHS - 1\n",
        "\n",
        "global_elapsed_time = time.time() - global_start_time\n",
        "print(f'Finisihed training all model in {hms_string(global_elapsed_time)}')"
      ],
      "execution_count": null,
      "outputs": [
        {
          "output_type": "stream",
          "name": "stdout",
          "text": [
            "Epoch 1/20\n",
            "1500/1500 - 32s - loss: 0.5198 - categorical_accuracy: 0.8221 - val_loss: 0.2823 - val_categorical_accuracy: 0.9001 - lr: 1.0000e-04 - 32s/epoch - 21ms/step\n",
            "Epoch 2/20\n",
            "1500/1500 - 22s - loss: 0.3353 - categorical_accuracy: 0.8817 - val_loss: 0.2665 - val_categorical_accuracy: 0.9031 - lr: 1.0000e-04 - 22s/epoch - 15ms/step\n",
            "Epoch 3/20\n",
            "1500/1500 - 22s - loss: 0.3012 - categorical_accuracy: 0.8934 - val_loss: 0.2417 - val_categorical_accuracy: 0.9138 - lr: 1.0000e-04 - 22s/epoch - 15ms/step\n",
            "Epoch 4/20\n",
            "1500/1500 - 20s - loss: 0.2732 - categorical_accuracy: 0.9022 - val_loss: 0.2350 - val_categorical_accuracy: 0.9160 - lr: 1.0000e-04 - 20s/epoch - 13ms/step\n",
            "Epoch 5/20\n",
            "1500/1500 - 22s - loss: 0.2601 - categorical_accuracy: 0.9070 - val_loss: 0.2252 - val_categorical_accuracy: 0.9198 - lr: 1.0000e-04 - 22s/epoch - 15ms/step\n",
            "Epoch 6/20\n",
            "1500/1500 - 20s - loss: 0.2460 - categorical_accuracy: 0.9115 - val_loss: 0.2248 - val_categorical_accuracy: 0.9193 - lr: 1.0000e-04 - 20s/epoch - 13ms/step\n",
            "Epoch 7/20\n",
            "1500/1500 - 22s - loss: 0.2364 - categorical_accuracy: 0.9147 - val_loss: 0.2396 - val_categorical_accuracy: 0.9122 - lr: 1.0000e-04 - 22s/epoch - 15ms/step\n",
            "Epoch 8/20\n",
            "1500/1500 - 20s - loss: 0.2247 - categorical_accuracy: 0.9182 - val_loss: 0.2190 - val_categorical_accuracy: 0.9226 - lr: 1.0000e-04 - 20s/epoch - 13ms/step\n",
            "Epoch 9/20\n",
            "1500/1500 - 20s - loss: 0.2171 - categorical_accuracy: 0.9213 - val_loss: 0.2079 - val_categorical_accuracy: 0.9240 - lr: 1.0000e-04 - 20s/epoch - 13ms/step\n",
            "Epoch 10/20\n",
            "1500/1500 - 22s - loss: 0.2084 - categorical_accuracy: 0.9246 - val_loss: 0.2482 - val_categorical_accuracy: 0.9119 - lr: 1.0000e-04 - 22s/epoch - 15ms/step\n",
            "Epoch 11/20\n",
            "1500/1500 - 20s - loss: 0.2047 - categorical_accuracy: 0.9253 - val_loss: 0.2120 - val_categorical_accuracy: 0.9239 - lr: 1.0000e-04 - 20s/epoch - 13ms/step\n",
            "Epoch 12/20\n",
            "\n",
            "Epoch 00012: ReduceLROnPlateau reducing learning rate to 1.9999999494757503e-05.\n",
            "1500/1500 - 22s - loss: 0.1978 - categorical_accuracy: 0.9281 - val_loss: 0.2078 - val_categorical_accuracy: 0.9227 - lr: 1.0000e-04 - 22s/epoch - 15ms/step\n",
            "Epoch 13/20\n",
            "1500/1500 - 20s - loss: 0.1652 - categorical_accuracy: 0.9397 - val_loss: 0.1853 - val_categorical_accuracy: 0.9310 - lr: 2.0000e-05 - 20s/epoch - 13ms/step\n",
            "Epoch 14/20\n",
            "1500/1500 - 20s - loss: 0.1547 - categorical_accuracy: 0.9439 - val_loss: 0.1868 - val_categorical_accuracy: 0.9323 - lr: 2.0000e-05 - 20s/epoch - 13ms/step\n",
            "Epoch 15/20\n",
            "1500/1500 - 20s - loss: 0.1497 - categorical_accuracy: 0.9450 - val_loss: 0.1850 - val_categorical_accuracy: 0.9327 - lr: 2.0000e-05 - 20s/epoch - 13ms/step\n",
            "Epoch 16/20\n",
            "1500/1500 - 22s - loss: 0.1464 - categorical_accuracy: 0.9459 - val_loss: 0.1841 - val_categorical_accuracy: 0.9332 - lr: 2.0000e-05 - 22s/epoch - 15ms/step\n",
            "Epoch 17/20\n",
            "1500/1500 - 22s - loss: 0.1432 - categorical_accuracy: 0.9480 - val_loss: 0.1882 - val_categorical_accuracy: 0.9325 - lr: 2.0000e-05 - 22s/epoch - 15ms/step\n",
            "Epoch 18/20\n",
            "1500/1500 - 20s - loss: 0.1388 - categorical_accuracy: 0.9486 - val_loss: 0.1853 - val_categorical_accuracy: 0.9332 - lr: 2.0000e-05 - 20s/epoch - 13ms/step\n",
            "Epoch 19/20\n",
            "\n",
            "Epoch 00019: ReduceLROnPlateau reducing learning rate to 3.999999898951501e-06.\n",
            "1500/1500 - 20s - loss: 0.1385 - categorical_accuracy: 0.9496 - val_loss: 0.1882 - val_categorical_accuracy: 0.9332 - lr: 2.0000e-05 - 20s/epoch - 13ms/step\n",
            "Epoch 20/20\n",
            "1500/1500 - 22s - loss: 0.1297 - categorical_accuracy: 0.9541 - val_loss: 0.1819 - val_categorical_accuracy: 0.9356 - lr: 4.0000e-06 - 22s/epoch - 15ms/step\n"
          ]
        }
      ]
    },
    {
      "cell_type": "code",
      "metadata": {
        "colab": {
          "base_uri": "https://localhost:8080/"
        },
        "id": "gCdHBJ9pMeeL",
        "outputId": "07849187-546c-44c8-c68f-e84884b281ea"
      },
      "source": [
        "extended_model.evaluate(test_x, test_y)\n",
        "print(stopped_at)"
      ],
      "execution_count": null,
      "outputs": [
        {
          "output_type": "stream",
          "name": "stdout",
          "text": [
            "313/313 [==============================] - 4s 13ms/step - loss: 0.2083 - categorical_accuracy: 0.9285\n",
            "19\n"
          ]
        }
      ]
    },
    {
      "cell_type": "code",
      "metadata": {
        "id": "94oqmdzvJtJ7"
      },
      "source": [
        "def retrieve(mapping, *keys):\n",
        "    return (mapping[key] for key in keys)"
      ],
      "execution_count": null,
      "outputs": []
    },
    {
      "cell_type": "code",
      "metadata": {
        "colab": {
          "base_uri": "https://localhost:8080/",
          "height": 573
        },
        "id": "a_nqanF4J2mo",
        "outputId": "ffa2def5-b81c-423b-d629-e00a75733704"
      },
      "source": [
        " train_loss, train_acc, val_loss, val_acc = retrieve(history.history,\n",
        "                                                     'loss',\n",
        "                                                     'categorical_accuracy',\n",
        "                                                     'val_loss',\n",
        "                                                     'val_categorical_accuracy')\n",
        "\n",
        "epoch_range = range(1, stopped_at + 2)\n",
        "plt.plot(epoch_range, train_acc, 'bo', label='Training accuracy')\n",
        "plt.plot(epoch_range, val_acc, 'b', label='Validation accuracy')\n",
        "plt.title(f'Training and validation accuracy (extended VGG16 model)')\n",
        "plt.xlabel('Epochs')\n",
        "plt.ylabel('Accuracy')\n",
        "plt.legend()\n",
        "plt.show()\n",
        "\n",
        "plt.plot(epoch_range, train_loss, 'bo', color='red', label='Training loss')\n",
        "plt.plot(epoch_range, val_loss, 'b', color='red', label='Validation loss')\n",
        "plt.title(f'Training and validation loss (extended VGG16 model)')\n",
        "plt.xlabel('Epochs')\n",
        "plt.ylabel('Loss')\n",
        "plt.legend()\n",
        "plt.show()"
      ],
      "execution_count": null,
      "outputs": [
        {
          "output_type": "display_data",
          "data": {
            "image/png": "[encoded data removed]",
            "text/plain": [
              "<Figure size 432x288 with 1 Axes>"
            ]
          },
          "metadata": {
            "needs_background": "light"
          }
        },
        {
          "output_type": "display_data",
          "data": {
            "image/png": "[encoded data removed]",
            "text/plain": [
              "<Figure size 432x288 with 1 Axes>"
            ]
          },
          "metadata": {
            "needs_background": "light"
          }
        }
      ]
    },
    {
      "cell_type": "markdown",
      "metadata": {
        "id": "nSOnajm7gdFn"
      },
      "source": [
        "# Conclusion\n",
        "I managed to get around ~93% testing accuracy with my proposed solution. I've experimented with a lot of different techniques, data augmentation, random sampling, different image scaling etc. In the graph we can see that the training accuracy suddenly increases around 12 epochs, which is where the reduced learning callback kicks in. It might increase the probability that the model will overfit, however it also provides a better test score (which is what this laboration uses as a measurment for success) so I kept it in. \n",
        "\n",
        "Using pretrained parameters (weights) as a base decreases the amount of trainable parameters which also greatly decreases the amount of time it takes to train the model. However, I personally think that this model is a bit of an overkill for the assignment. When we are looking at how my models in earlier laborations performed with relativley small networks (low nr of layers and complexity) comapred to this one, the small difference in performance is almost negliable, if there is any at all.\n",
        "\n",
        "For other tasks, I think that this method could be super advantegous. Instead of building, testing and training such a complex model for weeks (months, years?) we can use something that someone much smarter has developed, add our own layers for our specific task and minimize a lot of time and effort required to produce superb results. "
      ]
    }
  ]
}