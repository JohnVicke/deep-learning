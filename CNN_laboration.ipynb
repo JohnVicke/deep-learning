{
  "nbformat": 4,
  "nbformat_minor": 0,
  "metadata": {
    "accelerator": "GPU",
    "colab": {
      "name": "CNN_laboration.ipynb",
      "provenance": [],
      "authorship_tag": "ABX9TyOfrqFV0naJp7fJEOomiaKw",
      "include_colab_link": true
    },
    "kernelspec": {
      "display_name": "Python 3",
      "name": "python3"
    },
    "language_info": {
      "name": "python"
    }
  },
  "cells": [
    {
      "cell_type": "markdown",
      "metadata": {
        "id": "view-in-github",
        "colab_type": "text"
      },
      "source": [
        "<a href=\"https://colab.research.google.com/github/JohnVicke/deep-learning/blob/main/CNN_laboration.ipynb\" target=\"_parent\"><img src=\"https://colab.research.google.com/assets/colab-badge.svg\" alt=\"Open In Colab\"/></a>"
      ]
    },
    {
      "cell_type": "markdown",
      "metadata": {
        "id": "hYqlvJKQ9tgx"
      },
      "source": [
        "# CNN_Laboration\n",
        "CNN laboration analyzing 4 different models with different parameters/layers that are trained on the MNIST fashion data set.\n",
        "```\n",
        "Author: Viktor Malmedal\n",
        "Mail:   viktormalmedal@gmail.com\n",
        "umuId:  vima0068\n",
        "```"
      ]
    },
    {
      "cell_type": "code",
      "metadata": {
        "colab": {
          "base_uri": "https://localhost:8080/"
        },
        "id": "XJaoy3aHsx-O",
        "outputId": "e42e7a32-ea79-4414-e8ba-ad95bafa5d0f"
      },
      "source": [
        "import tensorflow as tf\n",
        "print(f'TensorFlow version: {tf.__version__}')\n",
        "\n",
        "import tensorflow.keras \n",
        "print(f'Keras version:      {tensorflow.keras.__version__}')\n",
        "\n",
        "import numpy as np\n",
        "import sklearn\n",
        "from sklearn.model_selection import train_test_split\n",
        "\n",
        "import matplotlib\n",
        "import matplotlib.pyplot as plt"
      ],
      "execution_count": 187,
      "outputs": [
        {
          "output_type": "stream",
          "name": "stdout",
          "text": [
            "TensorFlow version: 2.7.0\n",
            "Keras version:      2.7.0\n"
          ]
        }
      ]
    },
    {
      "cell_type": "code",
      "metadata": {
        "colab": {
          "base_uri": "https://localhost:8080/"
        },
        "id": "FGBiAtkduwUq",
        "outputId": "1751543e-b037-4fa1-fecd-16d607ded72d"
      },
      "source": [
        "import sys\n",
        "if not tf.config.list_physical_devices('GPU'):\n",
        "    print('No GPU detected. CNNs can be very slow without a GPU')\n",
        "    if 'google.colab' in sys.modules:\n",
        "        print('Go to RunTime > change runtime and select a GPU hardware accelerator')\n",
        "else:\n",
        "    !nvidia-smi -L"
      ],
      "execution_count": 188,
      "outputs": [
        {
          "output_type": "stream",
          "name": "stdout",
          "text": [
            "No GPU detected. CNNs can be very slow without a GPU\n",
            "Go to RunTime > change runtime and select a GPU hardware accelerator\n"
          ]
        }
      ]
    },
    {
      "cell_type": "code",
      "metadata": {
        "id": "Uzj3N6KIHkA5"
      },
      "source": [
        "def split_random(data, labels, percent_train=80):\n",
        "    print('Splitting data into training and validation')\n",
        "    print(f'Training split     = {percent_train}%')\n",
        "    print(f'Validation split   = {100-percent_train}%')\n",
        "    indicies = np.arange(data.shape[0])\n",
        "\n",
        "    for _ in range(4): \n",
        "        indicies = np.random.permutation(indicies)\n",
        "\n",
        "    \n",
        "    labels = labels[indicies]\n",
        "    data = data[indicies]\n",
        "    rows = data.shape[0]\n",
        "\n",
        "    end_index = int(rows*percent_train/100)\n",
        "\n",
        "    train_x = data[:end_index]\n",
        "    train_y = labels[:end_index]\n",
        "\n",
        "    validation_x = data[end_index:]\n",
        "    validation_y = labels[end_index:]\n",
        "\n",
        "    return (train_x, train_y), (validation_x, validation_y)"
      ],
      "execution_count": 189,
      "outputs": []
    },
    {
      "cell_type": "code",
      "metadata": {
        "id": "68itxAcAHo09"
      },
      "source": [
        "def validate_data(data, labels, data_set_name):\n",
        "    \"\"\"\n",
        "        Naive validation, only validets shape of data compared to labels\n",
        "    \"\"\"\n",
        "\n",
        "    nr_images, x, y = data.shape\n",
        "    print(f'\\nRunning validation on {data_set_name}')\n",
        "    print(f'Number of images   = {nr_images}')\n",
        "    print(f'Number of labels   = {len(labels)}')\n",
        "    print(f'Image dimension    = {x}x{y}')\n",
        "    if nr_images != len(labels):\n",
        "        print('Number of images does not match number of labels')\n",
        "    else:\n",
        "        print('Data is OK ✅')"
      ],
      "execution_count": 190,
      "outputs": []
    },
    {
      "cell_type": "code",
      "metadata": {
        "id": "DdgPlbo1HtTl"
      },
      "source": [
        "def get_class_dist(data):\n",
        "    dist = {}\n",
        "    for label in data:\n",
        "        if label in dist:\n",
        "            dist[label] += 1\n",
        "        else:\n",
        "            dist[label] = 1\n",
        "    return dist\n"
      ],
      "execution_count": 191,
      "outputs": []
    },
    {
      "cell_type": "markdown",
      "metadata": {
        "id": "FO7SNtzuAqm8"
      },
      "source": [
        "# Loading and visualising the data\n",
        "- Splits the training data set into a training / validation split (80/20)%\n",
        "- Runs a naive validation on all data sets to see if the length of labels and images are matching.\n",
        "- Visualize the data."
      ]
    },
    {
      "cell_type": "code",
      "metadata": {
        "colab": {
          "base_uri": "https://localhost:8080/"
        },
        "id": "haXQitOUwUjs",
        "outputId": "617fe517-7c35-4419-a106-185dad90cc3d"
      },
      "source": [
        "from tensorflow.keras.datasets import fashion_mnist\n",
        "(x_train, y_train), (x_test, y_test) = fashion_mnist.load_data()\n",
        "label_descriptions = ['t-shirt/top', 'trouser', 'pullover', 'dress', 'coat',\n",
        "                      'sandals', 'shirt', 'sneaker', 'bag', 'ankle boots']\n",
        "\n",
        "(train_x, train_y), (validation_x, validation_y) = split_random(x_train, y_train)\n",
        "\n",
        "# increase readability since i will use train_x, train_y from here on \n",
        "test_x = x_test\n",
        "test_y = y_test\n",
        "test_labels = y_test\n",
        "\n",
        "validate_data(train_x, train_y, \"training\")\n",
        "validate_data(validation_x, validation_y, \"validation\")\n",
        "validate_data(test_x, test_y, \"test\")\n",
        "distribution = get_class_dist(train_y)\n",
        "\n",
        "print(f'\\nTrain shape         = {train_x.shape}')\n",
        "print(f'Validation shape    = {validation_x.shape}')\n",
        "print(f'Test shape          = {x_test.shape}')\n",
        "print(f'Unique labels       = {np.unique(train_y)}')\n",
        "print('Label translation   = ---------------------')\n",
        "for i, label in enumerate(label_descriptions):\n",
        "    print(f'                     [{i}]: {label}')\n",
        "print('Train distribution  = ---------------------')\n",
        "for i, label in enumerate(label_descriptions):\n",
        "    print('                     {:<20s}: {}'.format(label_descriptions[i], distribution[i]))\n",
        "print('                     ---------------------')"
      ],
      "execution_count": 192,
      "outputs": [
        {
          "output_type": "stream",
          "name": "stdout",
          "text": [
            "Splitting data into training and validation\n",
            "Training split     = 80%\n",
            "Validation split   = 20%\n",
            "\n",
            "Running validation on training\n",
            "Number of images   = 48000\n",
            "Number of labels   = 48000\n",
            "Image dimension    = 28x28\n",
            "Data is OK ✅\n",
            "\n",
            "Running validation on validation\n",
            "Number of images   = 12000\n",
            "Number of labels   = 12000\n",
            "Image dimension    = 28x28\n",
            "Data is OK ✅\n",
            "\n",
            "Running validation on test\n",
            "Number of images   = 10000\n",
            "Number of labels   = 10000\n",
            "Image dimension    = 28x28\n",
            "Data is OK ✅\n",
            "\n",
            "Train shape         = (48000, 28, 28)\n",
            "Validation shape    = (12000, 28, 28)\n",
            "Test shape          = (10000, 28, 28)\n",
            "Unique labels       = [0 1 2 3 4 5 6 7 8 9]\n",
            "Label translation   = ---------------------\n",
            "                     [0]: t-shirt/top\n",
            "                     [1]: trouser\n",
            "                     [2]: pullover\n",
            "                     [3]: dress\n",
            "                     [4]: coat\n",
            "                     [5]: sandals\n",
            "                     [6]: shirt\n",
            "                     [7]: sneaker\n",
            "                     [8]: bag\n",
            "                     [9]: ankle boots\n",
            "Train distribution  = ---------------------\n",
            "                     t-shirt/top         : 4796\n",
            "                     trouser             : 4775\n",
            "                     pullover            : 4828\n",
            "                     dress               : 4796\n",
            "                     coat                : 4768\n",
            "                     sandals             : 4776\n",
            "                     shirt               : 4852\n",
            "                     sneaker             : 4744\n",
            "                     bag                 : 4793\n",
            "                     ankle boots         : 4872\n",
            "                     ---------------------\n"
          ]
        }
      ]
    },
    {
      "cell_type": "code",
      "metadata": {
        "colab": {
          "base_uri": "https://localhost:8080/",
          "height": 296
        },
        "id": "-l626P76x6yX",
        "outputId": "9cc71420-3293-4598-c847-014c61fc4773"
      },
      "source": [
        "from random import randrange\n",
        "def plot_image(digit):\n",
        "    plt.figure()\n",
        "    plt.imshow(train_x[digit], cmap='gray', interpolation='nearest')\n",
        "    plt.title(f'Image #{digit} which is digit \"{train_y[digit]}\" ({label_descriptions[train_y[digit]]})\\n')\n",
        "    plt.show(block=False)\n",
        "\n",
        "ran_range = len(train_x) - 1\n",
        "image_digits = [randrange(ran_range)]\n",
        "plots = [plot_image(a) for a in image_digits]\n"
      ],
      "execution_count": 193,
      "outputs": [
        {
          "output_type": "display_data",
          "data": {
            "image/png": "[encoded data removed]",
            "text/plain": [
              "<Figure size 432x288 with 1 Axes>"
            ]
          },
          "metadata": {
            "needs_background": "light"
          }
        }
      ]
    },
    {
      "cell_type": "code",
      "metadata": {
        "colab": {
          "base_uri": "https://localhost:8080/",
          "height": 458
        },
        "id": "ow79ZdGP9ao4",
        "outputId": "b582abd9-c66f-4fb0-c558-5ee6591ab359"
      },
      "source": [
        "from random import sample\n",
        "ROWS = 6\n",
        "random_indicies = sample(range(train_x.shape[0]), ROWS*ROWS)\n",
        "sample_images = train_x[random_indicies, :]\n",
        "plt.clf()\n",
        "fig, axes = plt.subplots(ROWS, ROWS, \n",
        "                         figsize=(ROWS, ROWS),\n",
        "                         sharex=True, sharey=True)\n",
        "\n",
        "for i in range(ROWS*ROWS):\n",
        "    subplot_row = i // ROWS\n",
        "    subplot_col = i % ROWS\n",
        "    ax = axes[subplot_row, subplot_col]\n",
        "    plottable_image = np.reshape(sample_images[i,:], (28,28))\n",
        "    ax.imshow(plottable_image, cmap='gray_r')\n",
        "    ax.set_xbound([0, 28])\n",
        "\n",
        "plt.tight_layout()\n",
        "plt.show()"
      ],
      "execution_count": 194,
      "outputs": [
        {
          "output_type": "display_data",
          "data": {
            "text/plain": [
              "<Figure size 432x288 with 0 Axes>"
            ]
          },
          "metadata": {}
        },
        {
          "output_type": "display_data",
          "data": {
            "image/png": "[encoded data removed]",
            "text/plain": [
              "<Figure size 432x432 with 36 Axes>"
            ]
          },
          "metadata": {
            "needs_background": "light"
          }
        }
      ]
    },
    {
      "cell_type": "markdown",
      "metadata": {
        "id": "GbYQYrMyBV9q"
      },
      "source": [
        "# Reshaping the data\n",
        "- Normalize the images (0-255 grayscale into 0-1 float)\n",
        "- Reshape into correct shape"
      ]
    },
    {
      "cell_type": "code",
      "metadata": {
        "id": "HwE_WE72rumO"
      },
      "source": [
        "def reshape_data(data, img_width, img_height, channels_first):\n",
        "    data = data.astype('float32') / 255.0\n",
        "\n",
        "    if channels_first:\n",
        "        data = data.reshape(data.shape[0], 1, img_width, img_height)\n",
        "    else:\n",
        "       data = data.reshape(data.shape[0], img_width, img_height, 1) \n",
        "\n",
        "    return data\n"
      ],
      "execution_count": 195,
      "outputs": []
    },
    {
      "cell_type": "code",
      "metadata": {
        "id": "QvJbRJwAYBhg"
      },
      "source": [
        "def hms_string(sec_elapsed):\n",
        "    h = int(sec_elapsed / (60 * 60))\n",
        "    m = int((sec_elapsed % (60 * 60)) / 60)\n",
        "    s = sec_elapsed % 60\n",
        "    return f\"{h}:{m:>02}:{s:>05.2f}\""
      ],
      "execution_count": 196,
      "outputs": []
    },
    {
      "cell_type": "code",
      "metadata": {
        "id": "nvA970Dtsh3b"
      },
      "source": [
        "def retrieve(mapping, *keys):\n",
        "    return (mapping[key] for key in keys)"
      ],
      "execution_count": 197,
      "outputs": []
    },
    {
      "cell_type": "code",
      "metadata": {
        "id": "f_t6uezWybRb"
      },
      "source": [
        "from tensorflow.keras.utils import to_categorical\n",
        "from tensorflow.keras import backend\n",
        "from tensorflow.keras import optimizers\n",
        "from tensorflow.keras.models import Sequential\n",
        "from tensorflow.keras.layers import Conv2D, MaxPooling2D, GlobalAveragePooling2D, Activation\n",
        "from tensorflow.keras.layers import Dense, Flatten, Dropout, BatchNormalization\n",
        "from tensorflow.keras.callbacks import EarlyStopping\n",
        "\n",
        "# Declaring global variables\n",
        "nr_classes = len(np.unique(train_y))\n",
        "_, img_width, img_height = train_x.shape\n",
        "is_channels_first = backend.image_data_format() == 'channels_first'\n",
        "input_shape = (1, img_width, img_height) if is_channels_first else (img_width, img_height, 1)\n",
        "\n",
        "train_x = reshape_data(train_x, img_width, img_height, is_channels_first)\n",
        "test_x = reshape_data(test_x, img_width, img_height, is_channels_first)\n",
        "validation_x = reshape_data(validation_x, img_width, img_height, is_channels_first)\n",
        "\n",
        "train_y = to_categorical(train_y, nr_classes)\n",
        "test_y = to_categorical(test_y, nr_classes)\n",
        "validation_y = to_categorical(validation_y, nr_classes)\n",
        "\n",
        "training_data = (train_x, train_y)\n",
        "validation_data = (validation_x, validation_y)\n",
        "test_data = (test_x, test_y)\n",
        "models = []"
      ],
      "execution_count": 198,
      "outputs": []
    },
    {
      "cell_type": "markdown",
      "metadata": {
        "id": "mbrNCLphCKg2"
      },
      "source": [
        "# CNN Model\n",
        "Defines a CNNModel, storing values for the history/score and provides an easy interface to create new models that will all share a common training and testing strategy. Creating a new model requires a Sequential model in the constructor. This design decicion was made to simplify creating and analyzing different CNN models.\n",
        "\n",
        "# Main charactaristics\n",
        "\n",
        "- Using default batchsize (32)\n",
        "- Running training in 15 epochs with an early stop callback for all models\n",
        "    - Early stopping is using 3 in patience, which means that it can go back 3 iterations (epochs) and will choose the best weights that it has encountered if the models validation loss starts to increase instead of decreasing (diverging).\n",
        "- Learning rate is reduced to decrease overfitting (0.001 seems to be a bit too fast in this scenario).\n",
        "- Using adam as optimizer for adaptive learning rates (considered among the best, if not the best!)\n",
        "- Using **categorical_crossentropy** for loss & **categorical_accuracy** for accuracy\n",
        "\n",
        "\n",
        "### Note\n",
        "```\n",
        "I know that layers and models can be extended upon using subclasses, \n",
        "however I thought that this solution is adequate for the given assignment.\n",
        "```"
      ]
    },
    {
      "cell_type": "code",
      "metadata": {
        "id": "ao7Ie_5KjUqj"
      },
      "source": [
        "class CNNModel():\n",
        "    batch_size = 32\n",
        "    epochs     = 15\n",
        "\n",
        "    sequential = None\n",
        "    stopped_at = None\n",
        "    history    = None\n",
        "    score      = None\n",
        "\n",
        "\n",
        "    def __init__(self, sequential, name):\n",
        "        self.name = name\n",
        "        self.sequential = sequential\n",
        "        self.stopped_at = self.epochs\n",
        "        self.sequential.summary()\n",
        "\n",
        "    def compile(self):\n",
        "        optimizer = optimizers.Adam(learning_rate=0.0001)\n",
        "        self.sequential.compile(loss='categorical_crossentropy',\n",
        "                                optimizer=optimizer,\n",
        "                                metrics=['categorical_accuracy'])\n",
        "    \n",
        "    def train(self, training_data, validation_data, verbose=1):\n",
        "        early_stop_monitor = EarlyStopping(monitor='val_loss', patience=3, restore_best_weights=True)\n",
        "        callbacks = [early_stop_monitor]\n",
        "        train_x, train_y = training_data\n",
        "        history = self.sequential.fit(train_x, train_y,\n",
        "                                      batch_size=self.batch_size, \n",
        "                                      epochs=self.epochs,\n",
        "                                      verbose=verbose,\n",
        "                                      validation_data=validation_data,\n",
        "                                      callbacks=callbacks)\n",
        "\n",
        "        # Early stopped\n",
        "        if early_stop_monitor.stopped_epoch != 0:\n",
        "            self.stopped_at = early_stop_monitor.stopped_epoch\n",
        "\n",
        "        self.history = history.history\n",
        "    \n",
        "    def evaluate(self, test_data):\n",
        "        test_x, test_y = test_data\n",
        "        score = self.sequential.evaluate(test_x, test_y)\n",
        "        self.score = score\n",
        "\n",
        "    def plot_history(self):\n",
        "        train_loss, train_acc, val_loss, val_acc = retrieve(self.history, \n",
        "                                                            'loss',\n",
        "                                                            'categorical_accuracy',\n",
        "                                                            'val_loss',\n",
        "                                                            'val_categorical_accuracy')\n",
        "        early_stop_label = f'Stopped at {self.stopped_at}'\n",
        "        epoch_range = range(1, self.stopped_at + 1)\n",
        "        plt.plot(epoch_range, train_acc, 'bo', label='Training accuracy')\n",
        "        plt.plot(epoch_range, val_acc, 'b', label='Validation accuracy')\n",
        "        plt.title(f'Training and validation accuracy ({self.name})')\n",
        "        plt.xlabel('Epochs')\n",
        "        plt.ylabel('Accuracy')\n",
        "        plt.axvline(x=self.stopped_at, label=early_stop_label, color='k', ls='--')\n",
        "        plt.legend()\n",
        "        plt.show()\n",
        "\n",
        "        plt.plot(epoch_range, train_loss, 'bo', color='red', label='Training loss')\n",
        "        plt.plot(epoch_range, val_loss, 'b', color='red', label='Validation loss')\n",
        "        plt.title(f'Training and validation loss ({self.name})')\n",
        "        plt.xlabel('Epochs')\n",
        "        plt.ylabel('Loss')\n",
        "        plt.axvline(x=self.stopped_at, label=early_stop_label, color='k', ls='--')\n",
        "        plt.legend()\n",
        "        plt.show()\n",
        "        print()\n",
        "    "
      ],
      "execution_count": 199,
      "outputs": []
    },
    {
      "cell_type": "markdown",
      "metadata": {
        "id": "yolLeMDuFY1l"
      },
      "source": [
        "# One layered simple CNN"
      ]
    },
    {
      "cell_type": "code",
      "metadata": {
        "id": "NAne2ww4K9TO",
        "colab": {
          "base_uri": "https://localhost:8080/"
        },
        "outputId": "4e7ee503-b890-4e81-b6a7-31fe3d71c151"
      },
      "source": [
        "one_layer_cnn = Sequential([\n",
        "    Conv2D(32, kernel_size=(3,3), \n",
        "           activation='relu', \n",
        "           input_shape=input_shape),\n",
        "    MaxPooling2D(pool_size=(2,2), padding='same'),\n",
        "    Dropout(0.25),\n",
        "    Flatten(),\n",
        "    Dense(128, activation='relu'),\n",
        "    Dense(nr_classes, activation='softmax')\n",
        "])\n",
        "\n",
        "models.append(CNNModel(one_layer_cnn, 'One layer CNN with 3x3 kernel'))"
      ],
      "execution_count": 200,
      "outputs": [
        {
          "output_type": "stream",
          "name": "stdout",
          "text": [
            "Model: \"sequential_30\"\n",
            "_________________________________________________________________\n",
            " Layer (type)                Output Shape              Param #   \n",
            "=================================================================\n",
            " conv2d_61 (Conv2D)          (None, 26, 26, 32)        320       \n",
            "                                                                 \n",
            " max_pooling2d_45 (MaxPoolin  (None, 13, 13, 32)       0         \n",
            " g2D)                                                            \n",
            "                                                                 \n",
            " dropout_45 (Dropout)        (None, 13, 13, 32)        0         \n",
            "                                                                 \n",
            " flatten_30 (Flatten)        (None, 5408)              0         \n",
            "                                                                 \n",
            " dense_60 (Dense)            (None, 128)               692352    \n",
            "                                                                 \n",
            " dense_61 (Dense)            (None, 10)                1290      \n",
            "                                                                 \n",
            "=================================================================\n",
            "Total params: 693,962\n",
            "Trainable params: 693,962\n",
            "Non-trainable params: 0\n",
            "_________________________________________________________________\n"
          ]
        }
      ]
    },
    {
      "cell_type": "markdown",
      "metadata": {
        "id": "LkxRAB5zFekl"
      },
      "source": [
        "# One layered CNN with a 6x6 kernel size"
      ]
    },
    {
      "cell_type": "code",
      "metadata": {
        "id": "rbbqRZyeNP9-",
        "colab": {
          "base_uri": "https://localhost:8080/"
        },
        "outputId": "283105a7-dd00-44ca-de57-b664766622f4"
      },
      "source": [
        "seq_6x6 = Sequential([\n",
        "    Conv2D(32, kernel_size=(6,6), activation='relu', input_shape=input_shape),\n",
        "    MaxPooling2D(pool_size=(2,2)),\n",
        "    Dropout(0.25),\n",
        "    Flatten(),\n",
        "    Dense(128, activation='relu'),\n",
        "    Dense(nr_classes, activation='softmax')\n",
        "])\n",
        "\n",
        "models.append(CNNModel(seq_6x6, 'One layered CNN with 6x6 kernel'))"
      ],
      "execution_count": 201,
      "outputs": [
        {
          "output_type": "stream",
          "name": "stdout",
          "text": [
            "Model: \"sequential_31\"\n",
            "_________________________________________________________________\n",
            " Layer (type)                Output Shape              Param #   \n",
            "=================================================================\n",
            " conv2d_62 (Conv2D)          (None, 23, 23, 32)        1184      \n",
            "                                                                 \n",
            " max_pooling2d_46 (MaxPoolin  (None, 11, 11, 32)       0         \n",
            " g2D)                                                            \n",
            "                                                                 \n",
            " dropout_46 (Dropout)        (None, 11, 11, 32)        0         \n",
            "                                                                 \n",
            " flatten_31 (Flatten)        (None, 3872)              0         \n",
            "                                                                 \n",
            " dense_62 (Dense)            (None, 128)               495744    \n",
            "                                                                 \n",
            " dense_63 (Dense)            (None, 10)                1290      \n",
            "                                                                 \n",
            "=================================================================\n",
            "Total params: 498,218\n",
            "Trainable params: 498,218\n",
            "Non-trainable params: 0\n",
            "_________________________________________________________________\n"
          ]
        }
      ]
    },
    {
      "cell_type": "markdown",
      "metadata": {
        "id": "G0md6sKNFk6-"
      },
      "source": [
        "# Two layered CNN"
      ]
    },
    {
      "cell_type": "code",
      "metadata": {
        "id": "qacsPPCX40ID",
        "colab": {
          "base_uri": "https://localhost:8080/"
        },
        "outputId": "927bc003-e4d6-4eae-94d8-8864df38ece5"
      },
      "source": [
        "two_layer_cnn = Sequential([\n",
        "    Conv2D(32, kernel_size=(3,3), \n",
        "           activation='relu', \n",
        "           input_shape=input_shape),\n",
        "    MaxPooling2D(pool_size=(2,2), padding='same'),\n",
        "    Dropout(0.25),\n",
        "    Conv2D(64, kernel_size=(3,3), activation='relu'),\n",
        "    MaxPooling2D(pool_size=(2,2), padding='same'),\n",
        "    Dropout(0.25),\n",
        "    Flatten(),\n",
        "    Dense(128, activation='relu'),\n",
        "    Dense(nr_classes, activation='softmax')\n",
        "])\n",
        "\n",
        "models.append(CNNModel(two_layer_cnn, 'Two layered CNN'))"
      ],
      "execution_count": 202,
      "outputs": [
        {
          "output_type": "stream",
          "name": "stdout",
          "text": [
            "Model: \"sequential_32\"\n",
            "_________________________________________________________________\n",
            " Layer (type)                Output Shape              Param #   \n",
            "=================================================================\n",
            " conv2d_63 (Conv2D)          (None, 26, 26, 32)        320       \n",
            "                                                                 \n",
            " max_pooling2d_47 (MaxPoolin  (None, 13, 13, 32)       0         \n",
            " g2D)                                                            \n",
            "                                                                 \n",
            " dropout_47 (Dropout)        (None, 13, 13, 32)        0         \n",
            "                                                                 \n",
            " conv2d_64 (Conv2D)          (None, 11, 11, 64)        18496     \n",
            "                                                                 \n",
            " max_pooling2d_48 (MaxPoolin  (None, 6, 6, 64)         0         \n",
            " g2D)                                                            \n",
            "                                                                 \n",
            " dropout_48 (Dropout)        (None, 6, 6, 64)          0         \n",
            "                                                                 \n",
            " flatten_32 (Flatten)        (None, 2304)              0         \n",
            "                                                                 \n",
            " dense_64 (Dense)            (None, 128)               295040    \n",
            "                                                                 \n",
            " dense_65 (Dense)            (None, 10)                1290      \n",
            "                                                                 \n",
            "=================================================================\n",
            "Total params: 315,146\n",
            "Trainable params: 315,146\n",
            "Non-trainable params: 0\n",
            "_________________________________________________________________\n"
          ]
        }
      ]
    },
    {
      "cell_type": "markdown",
      "metadata": {
        "id": "WQ-Rz1U7Fn3c"
      },
      "source": [
        "# Complex multilayered CNN"
      ]
    },
    {
      "cell_type": "code",
      "metadata": {
        "id": "pnvxDQRJ5N2O",
        "colab": {
          "base_uri": "https://localhost:8080/"
        },
        "outputId": "6abc34d5-2b78-430c-9b62-2fcc4309fcd9"
      },
      "source": [
        "complex_cnn = Sequential([\n",
        "\n",
        "    Conv2D(32, kernel_size=(3,3), padding='same', \n",
        "           activation='relu',\n",
        "           input_shape=input_shape),\n",
        "    Conv2D(32, kernel_size=(3,3), padding='same', activation='relu'),\n",
        "    MaxPooling2D(pool_size=(2,2)),\n",
        "    Dropout(0.25),\n",
        "\n",
        "    Conv2D(64, kernel_size=(3,3), padding='same', activation='relu'),\n",
        "    Conv2D(64, kernel_size=(3,3), padding='same', activation='relu'),\n",
        "    MaxPooling2D(pool_size=(2,2)),\n",
        "    Dropout(0.25),\n",
        "\n",
        "    Flatten(),\n",
        "    Dense(128, activation='relu'),\n",
        "    Dense(nr_classes, activation='softmax'),\n",
        "])\n",
        "\n",
        "models.append(CNNModel(complex_cnn, 'Complex multilayered CNN'))"
      ],
      "execution_count": 203,
      "outputs": [
        {
          "output_type": "stream",
          "name": "stdout",
          "text": [
            "Model: \"sequential_33\"\n",
            "_________________________________________________________________\n",
            " Layer (type)                Output Shape              Param #   \n",
            "=================================================================\n",
            " conv2d_65 (Conv2D)          (None, 28, 28, 32)        320       \n",
            "                                                                 \n",
            " conv2d_66 (Conv2D)          (None, 28, 28, 32)        9248      \n",
            "                                                                 \n",
            " max_pooling2d_49 (MaxPoolin  (None, 14, 14, 32)       0         \n",
            " g2D)                                                            \n",
            "                                                                 \n",
            " dropout_49 (Dropout)        (None, 14, 14, 32)        0         \n",
            "                                                                 \n",
            " conv2d_67 (Conv2D)          (None, 14, 14, 64)        18496     \n",
            "                                                                 \n",
            " conv2d_68 (Conv2D)          (None, 14, 14, 64)        36928     \n",
            "                                                                 \n",
            " max_pooling2d_50 (MaxPoolin  (None, 7, 7, 64)         0         \n",
            " g2D)                                                            \n",
            "                                                                 \n",
            " dropout_50 (Dropout)        (None, 7, 7, 64)          0         \n",
            "                                                                 \n",
            " flatten_33 (Flatten)        (None, 3136)              0         \n",
            "                                                                 \n",
            " dense_66 (Dense)            (None, 128)               401536    \n",
            "                                                                 \n",
            " dense_67 (Dense)            (None, 10)                1290      \n",
            "                                                                 \n",
            "=================================================================\n",
            "Total params: 467,818\n",
            "Trainable params: 467,818\n",
            "Non-trainable params: 0\n",
            "_________________________________________________________________\n"
          ]
        }
      ]
    },
    {
      "cell_type": "code",
      "metadata": {
        "colab": {
          "base_uri": "https://localhost:8080/",
          "height": 537
        },
        "id": "4uqq6R5hPmfA",
        "outputId": "e63ab899-960e-45af-f406-24248760d227"
      },
      "source": [
        "import time\n",
        "for model in models:\n",
        "    print(f'Begin training model: {model.name}')\n",
        "    start_time = time.time();\n",
        "    model.compile()\n",
        "    model.train(training_data, validation_data)\n",
        "    elapsed_time = time.time() - start_time\n",
        "    print(f'Training finished in {hms_string(elapsed_time)}\\n')\n"
      ],
      "execution_count": 204,
      "outputs": [
        {
          "output_type": "stream",
          "name": "stdout",
          "text": [
            "Begin training model: One layer CNN with 3x3 kernel\n",
            "Epoch 1/15\n",
            "1500/1500 [==============================] - 39s 26ms/step - loss: 0.6169 - categorical_accuracy: 0.7896 - val_loss: 0.4364 - val_categorical_accuracy: 0.8465\n",
            "Epoch 2/15\n",
            "1500/1500 [==============================] - 39s 26ms/step - loss: 0.4224 - categorical_accuracy: 0.8500 - val_loss: 0.3674 - val_categorical_accuracy: 0.8728\n",
            "Epoch 3/15\n",
            "1500/1500 [==============================] - 39s 26ms/step - loss: 0.3778 - categorical_accuracy: 0.8660 - val_loss: 0.3406 - val_categorical_accuracy: 0.8795\n",
            "Epoch 4/15\n",
            "1066/1500 [====================>.........] - ETA: 10s - loss: 0.3508 - categorical_accuracy: 0.8758"
          ]
        },
        {
          "output_type": "error",
          "ename": "KeyboardInterrupt",
          "evalue": "ignored",
          "traceback": [
            "\u001b[0;31m---------------------------------------------------------------------------\u001b[0m",
            "\u001b[0;31mKeyboardInterrupt\u001b[0m                         Traceback (most recent call last)",
            "\u001b[0;32m<ipython-input-204-0ed23f5f19bc>\u001b[0m in \u001b[0;36m<module>\u001b[0;34m()\u001b[0m\n\u001b[1;32m      4\u001b[0m     \u001b[0mstart_time\u001b[0m \u001b[0;34m=\u001b[0m \u001b[0mtime\u001b[0m\u001b[0;34m.\u001b[0m\u001b[0mtime\u001b[0m\u001b[0;34m(\u001b[0m\u001b[0;34m)\u001b[0m\u001b[0;34m;\u001b[0m\u001b[0;34m\u001b[0m\u001b[0;34m\u001b[0m\u001b[0m\n\u001b[1;32m      5\u001b[0m     \u001b[0mmodel\u001b[0m\u001b[0;34m.\u001b[0m\u001b[0mcompile\u001b[0m\u001b[0;34m(\u001b[0m\u001b[0;34m)\u001b[0m\u001b[0;34m\u001b[0m\u001b[0;34m\u001b[0m\u001b[0m\n\u001b[0;32m----> 6\u001b[0;31m     \u001b[0mmodel\u001b[0m\u001b[0;34m.\u001b[0m\u001b[0mtrain\u001b[0m\u001b[0;34m(\u001b[0m\u001b[0mtraining_data\u001b[0m\u001b[0;34m,\u001b[0m \u001b[0mvalidation_data\u001b[0m\u001b[0;34m)\u001b[0m\u001b[0;34m\u001b[0m\u001b[0;34m\u001b[0m\u001b[0m\n\u001b[0m\u001b[1;32m      7\u001b[0m     \u001b[0melapsed_time\u001b[0m \u001b[0;34m=\u001b[0m \u001b[0mtime\u001b[0m\u001b[0;34m.\u001b[0m\u001b[0mtime\u001b[0m\u001b[0;34m(\u001b[0m\u001b[0;34m)\u001b[0m \u001b[0;34m-\u001b[0m \u001b[0mstart_time\u001b[0m\u001b[0;34m\u001b[0m\u001b[0;34m\u001b[0m\u001b[0m\n\u001b[1;32m      8\u001b[0m     \u001b[0mprint\u001b[0m\u001b[0;34m(\u001b[0m\u001b[0;34mf'Training finished in {hms_string(elapsed_time)}\\n'\u001b[0m\u001b[0;34m)\u001b[0m\u001b[0;34m\u001b[0m\u001b[0;34m\u001b[0m\u001b[0m\n",
            "\u001b[0;32m<ipython-input-199-1141b20593b0>\u001b[0m in \u001b[0;36mtrain\u001b[0;34m(self, training_data, validation_data, verbose)\u001b[0m\n\u001b[1;32m     30\u001b[0m                                       \u001b[0mverbose\u001b[0m\u001b[0;34m=\u001b[0m\u001b[0mverbose\u001b[0m\u001b[0;34m,\u001b[0m\u001b[0;34m\u001b[0m\u001b[0;34m\u001b[0m\u001b[0m\n\u001b[1;32m     31\u001b[0m                                       \u001b[0mvalidation_data\u001b[0m\u001b[0;34m=\u001b[0m\u001b[0mvalidation_data\u001b[0m\u001b[0;34m,\u001b[0m\u001b[0;34m\u001b[0m\u001b[0;34m\u001b[0m\u001b[0m\n\u001b[0;32m---> 32\u001b[0;31m                                       callbacks=callbacks)\n\u001b[0m\u001b[1;32m     33\u001b[0m \u001b[0;34m\u001b[0m\u001b[0m\n\u001b[1;32m     34\u001b[0m         \u001b[0;31m# Early stopped\u001b[0m\u001b[0;34m\u001b[0m\u001b[0;34m\u001b[0m\u001b[0;34m\u001b[0m\u001b[0m\n",
            "\u001b[0;32m/usr/local/lib/python3.7/dist-packages/keras/utils/traceback_utils.py\u001b[0m in \u001b[0;36merror_handler\u001b[0;34m(*args, **kwargs)\u001b[0m\n\u001b[1;32m     62\u001b[0m     \u001b[0mfiltered_tb\u001b[0m \u001b[0;34m=\u001b[0m \u001b[0;32mNone\u001b[0m\u001b[0;34m\u001b[0m\u001b[0;34m\u001b[0m\u001b[0m\n\u001b[1;32m     63\u001b[0m     \u001b[0;32mtry\u001b[0m\u001b[0;34m:\u001b[0m\u001b[0;34m\u001b[0m\u001b[0;34m\u001b[0m\u001b[0m\n\u001b[0;32m---> 64\u001b[0;31m       \u001b[0;32mreturn\u001b[0m \u001b[0mfn\u001b[0m\u001b[0;34m(\u001b[0m\u001b[0;34m*\u001b[0m\u001b[0margs\u001b[0m\u001b[0;34m,\u001b[0m \u001b[0;34m**\u001b[0m\u001b[0mkwargs\u001b[0m\u001b[0;34m)\u001b[0m\u001b[0;34m\u001b[0m\u001b[0;34m\u001b[0m\u001b[0m\n\u001b[0m\u001b[1;32m     65\u001b[0m     \u001b[0;32mexcept\u001b[0m \u001b[0mException\u001b[0m \u001b[0;32mas\u001b[0m \u001b[0me\u001b[0m\u001b[0;34m:\u001b[0m  \u001b[0;31m# pylint: disable=broad-except\u001b[0m\u001b[0;34m\u001b[0m\u001b[0;34m\u001b[0m\u001b[0m\n\u001b[1;32m     66\u001b[0m       \u001b[0mfiltered_tb\u001b[0m \u001b[0;34m=\u001b[0m \u001b[0m_process_traceback_frames\u001b[0m\u001b[0;34m(\u001b[0m\u001b[0me\u001b[0m\u001b[0;34m.\u001b[0m\u001b[0m__traceback__\u001b[0m\u001b[0;34m)\u001b[0m\u001b[0;34m\u001b[0m\u001b[0;34m\u001b[0m\u001b[0m\n",
            "\u001b[0;32m/usr/local/lib/python3.7/dist-packages/keras/engine/training.py\u001b[0m in \u001b[0;36mfit\u001b[0;34m(self, x, y, batch_size, epochs, verbose, callbacks, validation_split, validation_data, shuffle, class_weight, sample_weight, initial_epoch, steps_per_epoch, validation_steps, validation_batch_size, validation_freq, max_queue_size, workers, use_multiprocessing)\u001b[0m\n\u001b[1;32m   1214\u001b[0m                 _r=1):\n\u001b[1;32m   1215\u001b[0m               \u001b[0mcallbacks\u001b[0m\u001b[0;34m.\u001b[0m\u001b[0mon_train_batch_begin\u001b[0m\u001b[0;34m(\u001b[0m\u001b[0mstep\u001b[0m\u001b[0;34m)\u001b[0m\u001b[0;34m\u001b[0m\u001b[0;34m\u001b[0m\u001b[0m\n\u001b[0;32m-> 1216\u001b[0;31m               \u001b[0mtmp_logs\u001b[0m \u001b[0;34m=\u001b[0m \u001b[0mself\u001b[0m\u001b[0;34m.\u001b[0m\u001b[0mtrain_function\u001b[0m\u001b[0;34m(\u001b[0m\u001b[0miterator\u001b[0m\u001b[0;34m)\u001b[0m\u001b[0;34m\u001b[0m\u001b[0;34m\u001b[0m\u001b[0m\n\u001b[0m\u001b[1;32m   1217\u001b[0m               \u001b[0;32mif\u001b[0m \u001b[0mdata_handler\u001b[0m\u001b[0;34m.\u001b[0m\u001b[0mshould_sync\u001b[0m\u001b[0;34m:\u001b[0m\u001b[0;34m\u001b[0m\u001b[0;34m\u001b[0m\u001b[0m\n\u001b[1;32m   1218\u001b[0m                 \u001b[0mcontext\u001b[0m\u001b[0;34m.\u001b[0m\u001b[0masync_wait\u001b[0m\u001b[0;34m(\u001b[0m\u001b[0;34m)\u001b[0m\u001b[0;34m\u001b[0m\u001b[0;34m\u001b[0m\u001b[0m\n",
            "\u001b[0;32m/usr/local/lib/python3.7/dist-packages/tensorflow/python/util/traceback_utils.py\u001b[0m in \u001b[0;36merror_handler\u001b[0;34m(*args, **kwargs)\u001b[0m\n\u001b[1;32m    148\u001b[0m     \u001b[0mfiltered_tb\u001b[0m \u001b[0;34m=\u001b[0m \u001b[0;32mNone\u001b[0m\u001b[0;34m\u001b[0m\u001b[0;34m\u001b[0m\u001b[0m\n\u001b[1;32m    149\u001b[0m     \u001b[0;32mtry\u001b[0m\u001b[0;34m:\u001b[0m\u001b[0;34m\u001b[0m\u001b[0;34m\u001b[0m\u001b[0m\n\u001b[0;32m--> 150\u001b[0;31m       \u001b[0;32mreturn\u001b[0m \u001b[0mfn\u001b[0m\u001b[0;34m(\u001b[0m\u001b[0;34m*\u001b[0m\u001b[0margs\u001b[0m\u001b[0;34m,\u001b[0m \u001b[0;34m**\u001b[0m\u001b[0mkwargs\u001b[0m\u001b[0;34m)\u001b[0m\u001b[0;34m\u001b[0m\u001b[0;34m\u001b[0m\u001b[0m\n\u001b[0m\u001b[1;32m    151\u001b[0m     \u001b[0;32mexcept\u001b[0m \u001b[0mException\u001b[0m \u001b[0;32mas\u001b[0m \u001b[0me\u001b[0m\u001b[0;34m:\u001b[0m\u001b[0;34m\u001b[0m\u001b[0;34m\u001b[0m\u001b[0m\n\u001b[1;32m    152\u001b[0m       \u001b[0mfiltered_tb\u001b[0m \u001b[0;34m=\u001b[0m \u001b[0m_process_traceback_frames\u001b[0m\u001b[0;34m(\u001b[0m\u001b[0me\u001b[0m\u001b[0;34m.\u001b[0m\u001b[0m__traceback__\u001b[0m\u001b[0;34m)\u001b[0m\u001b[0;34m\u001b[0m\u001b[0;34m\u001b[0m\u001b[0m\n",
            "\u001b[0;32m/usr/local/lib/python3.7/dist-packages/tensorflow/python/eager/def_function.py\u001b[0m in \u001b[0;36m__call__\u001b[0;34m(self, *args, **kwds)\u001b[0m\n\u001b[1;32m    908\u001b[0m \u001b[0;34m\u001b[0m\u001b[0m\n\u001b[1;32m    909\u001b[0m       \u001b[0;32mwith\u001b[0m \u001b[0mOptionalXlaContext\u001b[0m\u001b[0;34m(\u001b[0m\u001b[0mself\u001b[0m\u001b[0;34m.\u001b[0m\u001b[0m_jit_compile\u001b[0m\u001b[0;34m)\u001b[0m\u001b[0;34m:\u001b[0m\u001b[0;34m\u001b[0m\u001b[0;34m\u001b[0m\u001b[0m\n\u001b[0;32m--> 910\u001b[0;31m         \u001b[0mresult\u001b[0m \u001b[0;34m=\u001b[0m \u001b[0mself\u001b[0m\u001b[0;34m.\u001b[0m\u001b[0m_call\u001b[0m\u001b[0;34m(\u001b[0m\u001b[0;34m*\u001b[0m\u001b[0margs\u001b[0m\u001b[0;34m,\u001b[0m \u001b[0;34m**\u001b[0m\u001b[0mkwds\u001b[0m\u001b[0;34m)\u001b[0m\u001b[0;34m\u001b[0m\u001b[0;34m\u001b[0m\u001b[0m\n\u001b[0m\u001b[1;32m    911\u001b[0m \u001b[0;34m\u001b[0m\u001b[0m\n\u001b[1;32m    912\u001b[0m       \u001b[0mnew_tracing_count\u001b[0m \u001b[0;34m=\u001b[0m \u001b[0mself\u001b[0m\u001b[0;34m.\u001b[0m\u001b[0mexperimental_get_tracing_count\u001b[0m\u001b[0;34m(\u001b[0m\u001b[0;34m)\u001b[0m\u001b[0;34m\u001b[0m\u001b[0;34m\u001b[0m\u001b[0m\n",
            "\u001b[0;32m/usr/local/lib/python3.7/dist-packages/tensorflow/python/eager/def_function.py\u001b[0m in \u001b[0;36m_call\u001b[0;34m(self, *args, **kwds)\u001b[0m\n\u001b[1;32m    940\u001b[0m       \u001b[0;31m# In this case we have created variables on the first call, so we run the\u001b[0m\u001b[0;34m\u001b[0m\u001b[0;34m\u001b[0m\u001b[0;34m\u001b[0m\u001b[0m\n\u001b[1;32m    941\u001b[0m       \u001b[0;31m# defunned version which is guaranteed to never create variables.\u001b[0m\u001b[0;34m\u001b[0m\u001b[0;34m\u001b[0m\u001b[0;34m\u001b[0m\u001b[0m\n\u001b[0;32m--> 942\u001b[0;31m       \u001b[0;32mreturn\u001b[0m \u001b[0mself\u001b[0m\u001b[0;34m.\u001b[0m\u001b[0m_stateless_fn\u001b[0m\u001b[0;34m(\u001b[0m\u001b[0;34m*\u001b[0m\u001b[0margs\u001b[0m\u001b[0;34m,\u001b[0m \u001b[0;34m**\u001b[0m\u001b[0mkwds\u001b[0m\u001b[0;34m)\u001b[0m  \u001b[0;31m# pylint: disable=not-callable\u001b[0m\u001b[0;34m\u001b[0m\u001b[0;34m\u001b[0m\u001b[0m\n\u001b[0m\u001b[1;32m    943\u001b[0m     \u001b[0;32melif\u001b[0m \u001b[0mself\u001b[0m\u001b[0;34m.\u001b[0m\u001b[0m_stateful_fn\u001b[0m \u001b[0;32mis\u001b[0m \u001b[0;32mnot\u001b[0m \u001b[0;32mNone\u001b[0m\u001b[0;34m:\u001b[0m\u001b[0;34m\u001b[0m\u001b[0;34m\u001b[0m\u001b[0m\n\u001b[1;32m    944\u001b[0m       \u001b[0;31m# Release the lock early so that multiple threads can perform the call\u001b[0m\u001b[0;34m\u001b[0m\u001b[0;34m\u001b[0m\u001b[0;34m\u001b[0m\u001b[0m\n",
            "\u001b[0;32m/usr/local/lib/python3.7/dist-packages/tensorflow/python/eager/function.py\u001b[0m in \u001b[0;36m__call__\u001b[0;34m(self, *args, **kwargs)\u001b[0m\n\u001b[1;32m   3129\u001b[0m        filtered_flat_args) = self._maybe_define_function(args, kwargs)\n\u001b[1;32m   3130\u001b[0m     return graph_function._call_flat(\n\u001b[0;32m-> 3131\u001b[0;31m         filtered_flat_args, captured_inputs=graph_function.captured_inputs)  # pylint: disable=protected-access\n\u001b[0m\u001b[1;32m   3132\u001b[0m \u001b[0;34m\u001b[0m\u001b[0m\n\u001b[1;32m   3133\u001b[0m   \u001b[0;34m@\u001b[0m\u001b[0mproperty\u001b[0m\u001b[0;34m\u001b[0m\u001b[0;34m\u001b[0m\u001b[0m\n",
            "\u001b[0;32m/usr/local/lib/python3.7/dist-packages/tensorflow/python/eager/function.py\u001b[0m in \u001b[0;36m_call_flat\u001b[0;34m(self, args, captured_inputs, cancellation_manager)\u001b[0m\n\u001b[1;32m   1958\u001b[0m       \u001b[0;31m# No tape is watching; skip to running the function.\u001b[0m\u001b[0;34m\u001b[0m\u001b[0;34m\u001b[0m\u001b[0;34m\u001b[0m\u001b[0m\n\u001b[1;32m   1959\u001b[0m       return self._build_call_outputs(self._inference_function.call(\n\u001b[0;32m-> 1960\u001b[0;31m           ctx, args, cancellation_manager=cancellation_manager))\n\u001b[0m\u001b[1;32m   1961\u001b[0m     forward_backward = self._select_forward_and_backward_functions(\n\u001b[1;32m   1962\u001b[0m         \u001b[0margs\u001b[0m\u001b[0;34m,\u001b[0m\u001b[0;34m\u001b[0m\u001b[0;34m\u001b[0m\u001b[0m\n",
            "\u001b[0;32m/usr/local/lib/python3.7/dist-packages/tensorflow/python/eager/function.py\u001b[0m in \u001b[0;36mcall\u001b[0;34m(self, ctx, args, cancellation_manager)\u001b[0m\n\u001b[1;32m    601\u001b[0m               \u001b[0minputs\u001b[0m\u001b[0;34m=\u001b[0m\u001b[0margs\u001b[0m\u001b[0;34m,\u001b[0m\u001b[0;34m\u001b[0m\u001b[0;34m\u001b[0m\u001b[0m\n\u001b[1;32m    602\u001b[0m               \u001b[0mattrs\u001b[0m\u001b[0;34m=\u001b[0m\u001b[0mattrs\u001b[0m\u001b[0;34m,\u001b[0m\u001b[0;34m\u001b[0m\u001b[0;34m\u001b[0m\u001b[0m\n\u001b[0;32m--> 603\u001b[0;31m               ctx=ctx)\n\u001b[0m\u001b[1;32m    604\u001b[0m         \u001b[0;32melse\u001b[0m\u001b[0;34m:\u001b[0m\u001b[0;34m\u001b[0m\u001b[0;34m\u001b[0m\u001b[0m\n\u001b[1;32m    605\u001b[0m           outputs = execute.execute_with_cancellation(\n",
            "\u001b[0;32m/usr/local/lib/python3.7/dist-packages/tensorflow/python/eager/execute.py\u001b[0m in \u001b[0;36mquick_execute\u001b[0;34m(op_name, num_outputs, inputs, attrs, ctx, name)\u001b[0m\n\u001b[1;32m     57\u001b[0m     \u001b[0mctx\u001b[0m\u001b[0;34m.\u001b[0m\u001b[0mensure_initialized\u001b[0m\u001b[0;34m(\u001b[0m\u001b[0;34m)\u001b[0m\u001b[0;34m\u001b[0m\u001b[0;34m\u001b[0m\u001b[0m\n\u001b[1;32m     58\u001b[0m     tensors = pywrap_tfe.TFE_Py_Execute(ctx._handle, device_name, op_name,\n\u001b[0;32m---> 59\u001b[0;31m                                         inputs, attrs, num_outputs)\n\u001b[0m\u001b[1;32m     60\u001b[0m   \u001b[0;32mexcept\u001b[0m \u001b[0mcore\u001b[0m\u001b[0;34m.\u001b[0m\u001b[0m_NotOkStatusException\u001b[0m \u001b[0;32mas\u001b[0m \u001b[0me\u001b[0m\u001b[0;34m:\u001b[0m\u001b[0;34m\u001b[0m\u001b[0;34m\u001b[0m\u001b[0m\n\u001b[1;32m     61\u001b[0m     \u001b[0;32mif\u001b[0m \u001b[0mname\u001b[0m \u001b[0;32mis\u001b[0m \u001b[0;32mnot\u001b[0m \u001b[0;32mNone\u001b[0m\u001b[0;34m:\u001b[0m\u001b[0;34m\u001b[0m\u001b[0;34m\u001b[0m\u001b[0m\n",
            "\u001b[0;31mKeyboardInterrupt\u001b[0m: "
          ]
        }
      ]
    },
    {
      "cell_type": "markdown",
      "metadata": {
        "id": "10K9YOWA_mpu"
      },
      "source": [
        "# Training history (loss + acc)\n",
        "\n"
      ]
    },
    {
      "cell_type": "code",
      "metadata": {
        "id": "y0YwgeeQZjwU"
      },
      "source": [
        "for model in models:\n",
        "    model.plot_history()"
      ],
      "execution_count": null,
      "outputs": []
    },
    {
      "cell_type": "markdown",
      "metadata": {
        "id": "cDgJZkCHepC7"
      },
      "source": [
        "# Test comparison"
      ]
    },
    {
      "cell_type": "code",
      "metadata": {
        "id": "TAxpRjNowh7s"
      },
      "source": [
        "for model in models: \n",
        "    model.evaluate(test_data)\n",
        "\n",
        "best_acc = max(models, key=lambda m: m.score[1])\n",
        "least_loss = min(models, key=lambda m: m.score[0])"
      ],
      "execution_count": null,
      "outputs": []
    },
    {
      "cell_type": "code",
      "metadata": {
        "id": "fITQvyuhiDVU"
      },
      "source": [
        "print(f'Model with highest test accuracy: {best_acc.name}')\n",
        "print(f'Test accuracy = {best_acc.score[1]}')\n",
        "\n",
        "best_acc.sequential.summary()"
      ],
      "execution_count": null,
      "outputs": []
    },
    {
      "cell_type": "code",
      "metadata": {
        "id": "CG04Lsvsbl5t"
      },
      "source": [
        "for model in models:\n",
        "    predictions = model.sequential.predict(test_x[:5])\n",
        "    print(f'Letting model {model.name} predict on 5 samples')\n",
        "    print(f'Model predicted labels     = {np.argmax(predictions, axis=1)}')\n",
        "    print(f'Actual labels are          = {test_labels[:5]}')\n",
        "    print()"
      ],
      "execution_count": null,
      "outputs": []
    },
    {
      "cell_type": "markdown",
      "metadata": {
        "id": "_HGtYDuoeml2"
      },
      "source": [
        "# Conclusion\n"
      ]
    }
  ]
}