{
  "nbformat": 4,
  "nbformat_minor": 0,
  "metadata": {
    "colab": {
      "name": "CNN_laboration.ipynb",
      "provenance": [],
      "authorship_tag": "ABX9TyOuQGZbJhYcngxmMw2c5Jp8",
      "include_colab_link": true
    },
    "kernelspec": {
      "name": "python3",
      "display_name": "Python 3"
    },
    "language_info": {
      "name": "python"
    },
    "accelerator": "GPU"
  },
  "cells": [
    {
      "cell_type": "markdown",
      "metadata": {
        "id": "view-in-github",
        "colab_type": "text"
      },
      "source": [
        "<a href=\"https://colab.research.google.com/github/JohnVicke/deep-learning/blob/master/CNN_laboration.ipynb\" target=\"_parent\"><img src=\"https://colab.research.google.com/assets/colab-badge.svg\" alt=\"Open In Colab\"/></a>"
      ]
    },
    {
      "cell_type": "markdown",
      "metadata": {
        "id": "hYqlvJKQ9tgx"
      },
      "source": [
        "# CNN_Laboration\n",
        "```\n",
        "Author: Viktor Malmedal\n",
        "Mail:   viktormalmedal@gmail.com\n",
        "umuId:  vima0068\n",
        "```"
      ]
    },
    {
      "cell_type": "code",
      "metadata": {
        "id": "XJaoy3aHsx-O",
        "colab": {
          "base_uri": "https://localhost:8080/"
        },
        "outputId": "aa24ac56-8ca5-4544-d834-25dd035f08cf"
      },
      "source": [
        "import tensorflow as tf\n",
        "print(f'TensorFlow version: {tf.__version__}')\n",
        "\n",
        "import tensorflow.keras \n",
        "print(f'Keras version:      {tensorflow.keras.__version__}')\n",
        "\n",
        "import numpy as np\n",
        "import sklearn\n",
        "from sklearn.model_selection import train_test_split\n",
        "\n",
        "import matplotlib\n",
        "import matplotlib.pyplot as plt"
      ],
      "execution_count": 75,
      "outputs": [
        {
          "output_type": "stream",
          "name": "stdout",
          "text": [
            "TensorFlow version: 2.7.0\n",
            "Keras version:      2.7.0\n"
          ]
        }
      ]
    },
    {
      "cell_type": "code",
      "metadata": {
        "colab": {
          "base_uri": "https://localhost:8080/"
        },
        "id": "FGBiAtkduwUq",
        "outputId": "eb23a9f0-a124-4686-b78a-609de71c0d6c"
      },
      "source": [
        "import sys\n",
        "if not tf.config.list_physical_devices('GPU'):\n",
        "    print('No GPU detected. CNNs can be very slow without a GPU')\n",
        "    if 'google.colab' in sys.modules:\n",
        "        print('Go to RunTime > change runtime and select a GPU hardware accelerator')\n",
        "else:\n",
        "    !nvidia-smi -L"
      ],
      "execution_count": 76,
      "outputs": [
        {
          "output_type": "stream",
          "name": "stdout",
          "text": [
            "GPU 0: Tesla K80 (UUID: GPU-d1970648-dc1f-f937-9078-8931b409d025)\n"
          ]
        }
      ]
    },
    {
      "cell_type": "code",
      "metadata": {
        "colab": {
          "base_uri": "https://localhost:8080/"
        },
        "id": "haXQitOUwUjs",
        "outputId": "5d22909c-59fa-4a0c-8829-80f6b6c0ad6f"
      },
      "source": [
        "from tensorflow.keras.datasets import fashion_mnist\n",
        "(x_train, y_train), (x_test, y_test) = fashion_mnist.load_data()\n",
        "label_descriptions = ['t-shirt/top', 'trouser', 'pullover', 'dress', 'coat',\n",
        "                      'sandals', 'shirt', 'sneaker', 'bag', 'ankle boots']\n",
        "\n",
        "def split_random(data, labels, percent_train=80):\n",
        "    print('Splitting data into training and validation')\n",
        "    print(f'Training split     = {percent_train}%')\n",
        "    print(f'Validation split   = {100-percent_train}%')\n",
        "    indicies = np.arange(data.shape[0])\n",
        "\n",
        "    for _ in range(4): \n",
        "        indicies = np.random.permutation(indicies)\n",
        "\n",
        "    \n",
        "    labels = labels[indicies]\n",
        "    data   = data[indicies]\n",
        "    rows   = data.shape[0]\n",
        "\n",
        "    end_index = int(rows*percent_train/100)\n",
        "\n",
        "    train_x = data[:end_index]\n",
        "    train_y = labels[:end_index]\n",
        "\n",
        "    validation_x = data[end_index:]\n",
        "    validation_y = labels[end_index:]\n",
        "\n",
        "    return (train_x, train_y), (validation_x, validation_y)\n",
        "\n",
        "def validate_data(data, labels, data_set_name):\n",
        "    \"\"\"\n",
        "        Naive validation, only validets shape of data compared to labels\n",
        "    \"\"\"\n",
        "\n",
        "    nr_images, x, y = data.shape\n",
        "    print(f'\\nRunning validation on {data_set_name}')\n",
        "    print(f'Number of images   = {nr_images}')\n",
        "    print(f'Number of labels   = {len(labels)}')\n",
        "    print(f'Image dimension    = {x}x{y}')\n",
        "    if nr_images != len(labels):\n",
        "        print('Number of images does not match number of labels')\n",
        "    else:\n",
        "        print('Data is OK ✅')\n",
        "\n",
        "(train_x, train_y), (validation_x, validation_y) = split_random(x_train, y_train)\n",
        "\n",
        "# increase readability since i will use train_x, train_y from here on \n",
        "test_x = x_test\n",
        "test_y = y_test\n",
        "test_labels = y_test\n",
        "\n",
        "validate_data(train_x, train_y, \"training\")\n",
        "validate_data(validation_x, validation_y, \"validation\")\n",
        "validate_data(test_x, test_y, \"test\")\n",
        "\n",
        "print(f'\\nTrain shape        = {train_x.shape}')\n",
        "print(f'Validation shape   = {validation_x.shape}')\n",
        "print(f'Test shape         = {x_test.shape}')\n",
        "print(f'Unique labels      = {np.unique(train_y)}')\n",
        "print('Label translation  = ---------------------')\n",
        "for i, label in enumerate(label_descriptions):\n",
        "    print(f'                     [{i}]: {label}')\n",
        "print('                     ---------------------')"
      ],
      "execution_count": 77,
      "outputs": [
        {
          "output_type": "stream",
          "name": "stdout",
          "text": [
            "Splitting data into training and validation\n",
            "Training split     = 80%\n",
            "Validation split   = 20%\n",
            "\n",
            "Running validation on training\n",
            "Number of images   = 48000\n",
            "Number of labels   = 48000\n",
            "Image dimension    = 28x28\n",
            "Data is OK ✅\n",
            "\n",
            "Running validation on validation\n",
            "Number of images   = 12000\n",
            "Number of labels   = 12000\n",
            "Image dimension    = 28x28\n",
            "Data is OK ✅\n",
            "\n",
            "Running validation on test\n",
            "Number of images   = 10000\n",
            "Number of labels   = 10000\n",
            "Image dimension    = 28x28\n",
            "Data is OK ✅\n",
            "\n",
            "Train shape        = (48000, 28, 28)\n",
            "Validation shape   = (12000, 28, 28)\n",
            "Test shape         = (10000, 28, 28)\n",
            "Unique labels      = [0 1 2 3 4 5 6 7 8 9]\n",
            "Label translation  = ---------------------\n",
            "                     [0]: t-shirt/top\n",
            "                     [1]: trouser\n",
            "                     [2]: pullover\n",
            "                     [3]: dress\n",
            "                     [4]: coat\n",
            "                     [5]: sandals\n",
            "                     [6]: shirt\n",
            "                     [7]: sneaker\n",
            "                     [8]: bag\n",
            "                     [9]: ankle boots\n",
            "                     ---------------------\n"
          ]
        }
      ]
    },
    {
      "cell_type": "code",
      "metadata": {
        "colab": {
          "base_uri": "https://localhost:8080/",
          "height": 581
        },
        "id": "-l626P76x6yX",
        "outputId": "df10331f-d8e7-4331-f0dd-9022e80506bb"
      },
      "source": [
        "from random import randrange\n",
        "def plot_image(digit):\n",
        "    plt.figure()\n",
        "    plt.imshow(train_x[digit], cmap='gray', interpolation='nearest')\n",
        "    plt.show(block=False)\n",
        "    print(f'Image #{digit} which is digit \"{train_y[digit]}\" ({label_descriptions[train_y[digit]]})\\n')\n",
        "\n",
        "ran_range = len(train_x) - 1\n",
        "image_digits = [randrange(ran_range), randrange(ran_range)]\n",
        "plots = [plot_image(a) for a in image_digits]\n"
      ],
      "execution_count": 78,
      "outputs": [
        {
          "output_type": "display_data",
          "data": {
            "image/png": "[encoded data removed]",
            "text/plain": [
              "<Figure size 432x288 with 1 Axes>"
            ]
          },
          "metadata": {
            "needs_background": "light"
          }
        },
        {
          "output_type": "stream",
          "name": "stdout",
          "text": [
            "Image #31956 which is digit \"7\" (sneaker)\n",
            "\n"
          ]
        },
        {
          "output_type": "display_data",
          "data": {
            "image/png": "[encoded data removed]",
            "text/plain": [
              "<Figure size 432x288 with 1 Axes>"
            ]
          },
          "metadata": {
            "needs_background": "light"
          }
        },
        {
          "output_type": "stream",
          "name": "stdout",
          "text": [
            "Image #15603 which is digit \"2\" (pullover)\n",
            "\n"
          ]
        }
      ]
    },
    {
      "cell_type": "code",
      "metadata": {
        "id": "HwE_WE72rumO"
      },
      "source": [
        "from tensorflow.keras.utils import to_categorical\n",
        "\n",
        "def reshape_data(data, img_width, img_height, channels_first):\n",
        "    data = data.astype('float32') / 255.0\n",
        "\n",
        "    if channels_first:\n",
        "        data = data.reshape(data.shape[0], 1, img_width, img_height)\n",
        "    else:\n",
        "       data = data.reshape(data.shape[0], img_width, img_height, 1) \n",
        "\n",
        "    return data\n"
      ],
      "execution_count": 79,
      "outputs": []
    },
    {
      "cell_type": "code",
      "metadata": {
        "id": "Eg_TrQzWa64b"
      },
      "source": [
        "from tensorflow.keras import backend\n",
        "from tensorflow.keras.models import Sequential\n",
        "from tensorflow.keras.layers import Conv2D, MaxPooling2D, BatchNormalization\n",
        "from tensorflow.keras.layers import Dense, Flatten, Dropout\n",
        "\n",
        "def build_model(img_height, img_width, nr_classes, is_chanels_first):\n",
        "    input_shape = (1, img_width, img_height) if is_channels_first else (img_width, img_height, 1)\n",
        "\n",
        "    model = Sequential([\n",
        "        Conv2D(32, kernel_size=(3,3), activation='relu', padding='same',\n",
        "               input_shape=input_shape),\n",
        "        BatchNormalization(),\n",
        "\n",
        "        Conv2D(64, kernel_size=(3,3), activation='relu'),\n",
        "        BatchNormalization(),\n",
        "        MaxPooling2D(pool_size=(2,2)),\n",
        "\n",
        "        Conv2D(128, kernel_size=(3,3), activation='relu', padding='same'),\n",
        "        BatchNormalization(),\n",
        "        Conv2D(128, kernel_size=(3,3), activation='relu'),\n",
        "        BatchNormalization(),\n",
        "        MaxPooling2D(pool_size=(2,2)),\n",
        "\n",
        "        Flatten(),\n",
        "        Dense(1024, activation='relu'),\n",
        "        Dense(512, activation='relu'),\n",
        "        Dense(nr_classes, activation='softmax')\n",
        "    ])\n",
        "    return model"
      ],
      "execution_count": 80,
      "outputs": []
    },
    {
      "cell_type": "code",
      "metadata": {
        "id": "f_t6uezWybRb",
        "colab": {
          "base_uri": "https://localhost:8080/"
        },
        "outputId": "86926044-0dfc-419e-ec33-3deac6091a3e"
      },
      "source": [
        "epochs                = 15\n",
        "batch_size            = 32\n",
        "nr_classes            = len(np.unique(train_y))\n",
        "_, x, y               = train_x.shape\n",
        "img_width, img_height = x, y\n",
        "is_channels_first     = backend.image_data_format() == 'channels_first'\n",
        "\n",
        "\n",
        "train_x       = reshape_data(train_x, img_width, img_height, is_channels_first)\n",
        "test_x        = reshape_data(test_x, img_width, img_height, is_channels_first)\n",
        "validation_x  = reshape_data(validation_x, img_width, img_height, is_channels_first)\n",
        "\n",
        "train_y       = to_categorical(train_y, nr_classes)\n",
        "test_y        = to_categorical(test_y, nr_classes)\n",
        "validation_y  = to_categorical(validation_y, nr_classes)\n",
        "\n",
        "model = build_model(img_width, img_height, nr_classes, is_channels_first)\n",
        "model.summary()"
      ],
      "execution_count": 81,
      "outputs": [
        {
          "output_type": "stream",
          "name": "stdout",
          "text": [
            "Model: \"sequential_5\"\n",
            "_________________________________________________________________\n",
            " Layer (type)                Output Shape              Param #   \n",
            "=================================================================\n",
            " conv2d_17 (Conv2D)          (None, 28, 28, 32)        320       \n",
            "                                                                 \n",
            " batch_normalization_12 (Bat  (None, 28, 28, 32)       128       \n",
            " chNormalization)                                                \n",
            "                                                                 \n",
            " conv2d_18 (Conv2D)          (None, 26, 26, 64)        18496     \n",
            "                                                                 \n",
            " batch_normalization_13 (Bat  (None, 26, 26, 64)       256       \n",
            " chNormalization)                                                \n",
            "                                                                 \n",
            " max_pooling2d_8 (MaxPooling  (None, 13, 13, 64)       0         \n",
            " 2D)                                                             \n",
            "                                                                 \n",
            " conv2d_19 (Conv2D)          (None, 13, 13, 128)       73856     \n",
            "                                                                 \n",
            " batch_normalization_14 (Bat  (None, 13, 13, 128)      512       \n",
            " chNormalization)                                                \n",
            "                                                                 \n",
            " conv2d_20 (Conv2D)          (None, 11, 11, 128)       147584    \n",
            "                                                                 \n",
            " batch_normalization_15 (Bat  (None, 11, 11, 128)      512       \n",
            " chNormalization)                                                \n",
            "                                                                 \n",
            " max_pooling2d_9 (MaxPooling  (None, 5, 5, 128)        0         \n",
            " 2D)                                                             \n",
            "                                                                 \n",
            " flatten_5 (Flatten)         (None, 3200)              0         \n",
            "                                                                 \n",
            " dense_13 (Dense)            (None, 1024)              3277824   \n",
            "                                                                 \n",
            " dense_14 (Dense)            (None, 512)               524800    \n",
            "                                                                 \n",
            " dense_15 (Dense)            (None, 10)                5130      \n",
            "                                                                 \n",
            "=================================================================\n",
            "Total params: 4,049,418\n",
            "Trainable params: 4,048,714\n",
            "Non-trainable params: 704\n",
            "_________________________________________________________________\n"
          ]
        }
      ]
    },
    {
      "cell_type": "code",
      "metadata": {
        "id": "5_wOSUdU_qAu"
      },
      "source": [
        "model.compile(loss='categorical_crossentropy', \n",
        "              optimizer='sgd', \n",
        "              metrics=['categorical_accuracy'])"
      ],
      "execution_count": 82,
      "outputs": []
    },
    {
      "cell_type": "code",
      "metadata": {
        "id": "hFvSkrD-pgY-",
        "colab": {
          "base_uri": "https://localhost:8080/"
        },
        "outputId": "03a98821-ec4d-42aa-a275-74d27a85519d"
      },
      "source": [
        "history = model.fit(train_x, train_y, \n",
        "            batch_size=batch_size,\n",
        "            epochs=epochs,\n",
        "            verbose=2,\n",
        "            validation_data=(validation_x, validation_y))"
      ],
      "execution_count": 83,
      "outputs": [
        {
          "output_type": "stream",
          "name": "stdout",
          "text": [
            "Epoch 1/15\n",
            "1500/1500 - 24s - loss: 0.3949 - categorical_accuracy: 0.8577 - val_loss: 0.3118 - val_categorical_accuracy: 0.8871 - 24s/epoch - 16ms/step\n",
            "Epoch 2/15\n",
            "1500/1500 - 23s - loss: 0.2472 - categorical_accuracy: 0.9095 - val_loss: 0.2614 - val_categorical_accuracy: 0.9028 - 23s/epoch - 15ms/step\n",
            "Epoch 3/15\n",
            "1500/1500 - 22s - loss: 0.1917 - categorical_accuracy: 0.9301 - val_loss: 0.2319 - val_categorical_accuracy: 0.9164 - 22s/epoch - 15ms/step\n",
            "Epoch 4/15\n",
            "1500/1500 - 23s - loss: 0.1525 - categorical_accuracy: 0.9459 - val_loss: 0.2660 - val_categorical_accuracy: 0.9050 - 23s/epoch - 15ms/step\n",
            "Epoch 5/15\n",
            "1500/1500 - 22s - loss: 0.1195 - categorical_accuracy: 0.9572 - val_loss: 0.2436 - val_categorical_accuracy: 0.9137 - 22s/epoch - 14ms/step\n",
            "Epoch 6/15\n",
            "1500/1500 - 22s - loss: 0.0923 - categorical_accuracy: 0.9680 - val_loss: 0.2198 - val_categorical_accuracy: 0.9245 - 22s/epoch - 15ms/step\n",
            "Epoch 7/15\n",
            "1500/1500 - 22s - loss: 0.0684 - categorical_accuracy: 0.9758 - val_loss: 0.2600 - val_categorical_accuracy: 0.9137 - 22s/epoch - 15ms/step\n",
            "Epoch 8/15\n",
            "1500/1500 - 22s - loss: 0.0495 - categorical_accuracy: 0.9839 - val_loss: 0.2617 - val_categorical_accuracy: 0.9188 - 22s/epoch - 15ms/step\n",
            "Epoch 9/15\n",
            "1500/1500 - 22s - loss: 0.0333 - categorical_accuracy: 0.9903 - val_loss: 0.2657 - val_categorical_accuracy: 0.9220 - 22s/epoch - 14ms/step\n",
            "Epoch 10/15\n",
            "1500/1500 - 22s - loss: 0.0199 - categorical_accuracy: 0.9949 - val_loss: 0.2786 - val_categorical_accuracy: 0.9222 - 22s/epoch - 14ms/step\n",
            "Epoch 11/15\n",
            "1500/1500 - 22s - loss: 0.0147 - categorical_accuracy: 0.9966 - val_loss: 0.2814 - val_categorical_accuracy: 0.9261 - 22s/epoch - 15ms/step\n",
            "Epoch 12/15\n",
            "1500/1500 - 22s - loss: 0.0084 - categorical_accuracy: 0.9985 - val_loss: 0.2851 - val_categorical_accuracy: 0.9252 - 22s/epoch - 15ms/step\n",
            "Epoch 13/15\n",
            "1500/1500 - 22s - loss: 0.0036 - categorical_accuracy: 0.9999 - val_loss: 0.2948 - val_categorical_accuracy: 0.9266 - 22s/epoch - 15ms/step\n",
            "Epoch 14/15\n",
            "1500/1500 - 22s - loss: 0.0018 - categorical_accuracy: 1.0000 - val_loss: 0.3027 - val_categorical_accuracy: 0.9273 - 22s/epoch - 14ms/step\n",
            "Epoch 15/15\n",
            "1500/1500 - 22s - loss: 0.0013 - categorical_accuracy: 1.0000 - val_loss: 0.3084 - val_categorical_accuracy: 0.9289 - 22s/epoch - 14ms/step\n"
          ]
        }
      ]
    },
    {
      "cell_type": "code",
      "metadata": {
        "id": "nvA970Dtsh3b"
      },
      "source": [
        "def retrieve(mapping, *keys):\n",
        "    return (mapping[key] for key in keys)"
      ],
      "execution_count": null,
      "outputs": []
    },
    {
      "cell_type": "code",
      "metadata": {
        "id": "UACFLoLmqnRu",
        "colab": {
          "base_uri": "https://localhost:8080/"
        },
        "outputId": "cae0980e-7e08-46df-fde8-388a87487e2b"
      },
      "source": [
        "train_loss, train_acc, val_loss, val_acc = retrieve(history.history, \n",
        "                                                    'loss',\n",
        "                                                    'categorical_accuracy',\n",
        "                                                    'val_loss',\n",
        "                                                    'val_categorical_accuracy')\n",
        "print('---- Raw summary ----')                                                  \n",
        "print(f'Training loss       = {train_loss[epochs-1]}')\n",
        "print(f'Training Accuracy   = {train_acc[epochs-1]}')\n",
        "\n",
        "print(f'Validation loss     = {val_loss[epochs-1]}')\n",
        "print(f'Validation Accuracy = {val_acc[epochs-1]}')"
      ],
      "execution_count": 84,
      "outputs": [
        {
          "output_type": "stream",
          "name": "stdout",
          "text": [
            "---- Raw summary ----\n",
            "Training loss       = 0.0012893048115074635\n",
            "Training Accuracy   = 0.9999791383743286\n",
            "Validation loss     = 0.3084203898906708\n",
            "Validation Accuracy = 0.9289166927337646\n"
          ]
        }
      ]
    },
    {
      "cell_type": "code",
      "metadata": {
        "id": "n8r0rAhb5dbu",
        "colab": {
          "base_uri": "https://localhost:8080/",
          "height": 573
        },
        "outputId": "3e7863fb-6f2f-43c4-e4c3-03cb0c75918d"
      },
      "source": [
        "epoch_range = range(1, epochs + 1)\n",
        "plt.plot(epoch_range, train_acc, 'bo', label='Training accuracy')\n",
        "plt.plot(epoch_range, val_acc, 'b', label='Validation accuracy')\n",
        "plt.title('Training and validation accuracy (model 1)')\n",
        "plt.xlabel('Epochs')\n",
        "plt.ylabel('Accuracy')\n",
        "plt.legend()\n",
        "plt.show()\n",
        "\n",
        "plt.plot(epoch_range, train_loss, 'bo', label='Training loss')\n",
        "plt.plot(epoch_range, val_loss, 'b', label='Validation loss')\n",
        "plt.title('Training and validation loss (model 1)')\n",
        "plt.xlabel('Epochs')\n",
        "plt.ylabel('Loss')\n",
        "plt.legend()\n",
        "plt.show()"
      ],
      "execution_count": 85,
      "outputs": [
        {
          "output_type": "display_data",
          "data": {
            "image/png": "[encoded data removed]",
            "text/plain": [
              "<Figure size 432x288 with 1 Axes>"
            ]
          },
          "metadata": {
            "needs_background": "light"
          }
        },
        {
          "output_type": "display_data",
          "data": {
            "image/png": "[encoded data removed]",
            "text/plain": [
              "<Figure size 432x288 with 1 Axes>"
            ]
          },
          "metadata": {
            "needs_background": "light"
          }
        }
      ]
    },
    {
      "cell_type": "code",
      "metadata": {
        "id": "TAxpRjNowh7s",
        "colab": {
          "base_uri": "https://localhost:8080/"
        },
        "outputId": "08b2dc01-1b08-4db1-a09f-223b7d1afb69"
      },
      "source": [
        "model.evaluate(\n",
        "    test_x,\n",
        "    test_y\n",
        ")"
      ],
      "execution_count": 86,
      "outputs": [
        {
          "output_type": "stream",
          "name": "stdout",
          "text": [
            "313/313 [==============================] - 3s 8ms/step - loss: 0.3337 - categorical_accuracy: 0.9257\n"
          ]
        },
        {
          "output_type": "execute_result",
          "data": {
            "text/plain": [
              "[0.3337036073207855, 0.9257000088691711]"
            ]
          },
          "metadata": {},
          "execution_count": 86
        }
      ]
    },
    {
      "cell_type": "code",
      "metadata": {
        "id": "3rBaVU1C3mWG",
        "colab": {
          "base_uri": "https://localhost:8080/"
        },
        "outputId": "e1732b6c-6aa8-4ff0-c8c8-1336b365fb16"
      },
      "source": [
        "predictions = model.predict(test_x[:5])\n",
        "print(np.argmax(predictions, axis=1))\n",
        "print(test_labels[:5])\n",
        "for label in np.argmax(predictions, axis=1):\n",
        "    print(label_descriptions[label], end=\" \")\n",
        "\n",
        "print()\n",
        "\n",
        "for label in test_labels[:5]:\n",
        "    print(label_descriptions[label], end=\" \")"
      ],
      "execution_count": 87,
      "outputs": [
        {
          "output_type": "stream",
          "name": "stdout",
          "text": [
            "[9 2 1 1 6]\n",
            "[9 2 1 1 6]\n",
            "ankle boots pullover trouser trouser shirt \n",
            "ankle boots pullover trouser trouser shirt "
          ]
        }
      ]
    }
  ]
}