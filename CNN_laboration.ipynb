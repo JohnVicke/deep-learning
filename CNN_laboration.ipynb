{
  "nbformat": 4,
  "nbformat_minor": 0,
  "metadata": {
    "colab": {
      "name": "CNN_laboration.ipynb",
      "provenance": [],
      "authorship_tag": "ABX9TyO6MOhIyUnRkRtdpAF+neqC",
      "include_colab_link": true
    },
    "kernelspec": {
      "name": "python3",
      "display_name": "Python 3"
    },
    "language_info": {
      "name": "python"
    },
    "accelerator": "GPU"
  },
  "cells": [
    {
      "cell_type": "markdown",
      "metadata": {
        "id": "view-in-github",
        "colab_type": "text"
      },
      "source": [
        "<a href=\"https://colab.research.google.com/github/JohnVicke/deep-learning/blob/master/CNN_laboration.ipynb\" target=\"_parent\"><img src=\"https://colab.research.google.com/assets/colab-badge.svg\" alt=\"Open In Colab\"/></a>"
      ]
    },
    {
      "cell_type": "code",
      "metadata": {
        "id": "XJaoy3aHsx-O",
        "colab": {
          "base_uri": "https://localhost:8080/"
        },
        "outputId": "8cebdabe-4fd4-48b5-f11b-b0a9613a6093"
      },
      "source": [
        "import tensorflow as tf\n",
        "print(f'TensorFlow version: {tf.__version__}')\n",
        "\n",
        "import tensorflow.keras \n",
        "from tensorflow.keras.models import Sequential\n",
        "from tensorflow.keras.layers import Dense\n",
        "from tensorflow.keras.layers import Flatten\n",
        "from tensorflow.keras.utils import to_categorical\n",
        "from tensorflow.keras.datasets import fashion_mnist\n",
        "print(f'Keras version:      {tensorflow.keras.__version__}')\n",
        "\n",
        "import numpy as np\n",
        "import sklearn\n",
        "from sklearn.model_selection import train_test_split\n",
        "\n",
        "import matplotlib\n",
        "import matplotlib.pyplot as plt"
      ],
      "execution_count": null,
      "outputs": [
        {
          "output_type": "stream",
          "name": "stdout",
          "text": [
            "TensorFlow version: 2.6.0\n",
            "Keras version:      2.6.0\n"
          ]
        }
      ]
    },
    {
      "cell_type": "code",
      "metadata": {
        "colab": {
          "base_uri": "https://localhost:8080/"
        },
        "id": "FGBiAtkduwUq",
        "outputId": "64713808-9930-440a-b436-05c853854b06"
      },
      "source": [
        "import sys\n",
        "if not tf.config.list_physical_devices('GPU'):\n",
        "    print('No GPU detected. CNNs can be very slow without a GPU')\n",
        "    if 'google.colab' in sys.modules:\n",
        "        print('Go to RunTime > change runtime and select a GPU hardware accelerator')\n",
        "else:\n",
        "    !nvidia-smi -L"
      ],
      "execution_count": null,
      "outputs": [
        {
          "output_type": "stream",
          "name": "stdout",
          "text": [
            "GPU 0: Tesla K80 (UUID: GPU-6e7cc3fe-cbba-b770-02b5-c4f2fb1c8865)\n"
          ]
        }
      ]
    },
    {
      "cell_type": "code",
      "metadata": {
        "colab": {
          "base_uri": "https://localhost:8080/"
        },
        "id": "haXQitOUwUjs",
        "outputId": "0bbd4862-17f7-42fd-cfc1-991c407bb60e"
      },
      "source": [
        "(x_train, y_train), (x_test, y_test) = fashion_mnist.load_data()\n",
        "print(f'Shape of x_train {x_train.shape}')\n",
        "print(f'Shape of y_train {y_train.shape}')\n",
        "print()\n",
        "print(f'Shape of x_test {x_test.shape}')\n",
        "print(f'Shape of y_test {y_test.shape}')\n",
        "img_dimensions = [x_train.shape[1], x_train.shape[2]]"
      ],
      "execution_count": null,
      "outputs": [
        {
          "output_type": "stream",
          "name": "stdout",
          "text": [
            "Shape of x_train (60000, 28, 28)\n",
            "Shape of y_train (60000,)\n",
            "\n",
            "Shape of x_test (10000, 28, 28)\n",
            "Shape of y_test (10000,)\n",
            "[28, 28]\n"
          ]
        }
      ]
    },
    {
      "cell_type": "code",
      "metadata": {
        "colab": {
          "base_uri": "https://localhost:8080/",
          "height": 581
        },
        "id": "-l626P76x6yX",
        "outputId": "f0c68784-4b1a-4106-bac5-4a106afc1744"
      },
      "source": [
        "from random import randrange\n",
        "label_descriptions = ['t-shirt/top', 'trouser', 'pullover', 'dress', 'coat',\n",
        "                      'sandals', 'shirt', 'sneaker', 'bag', 'ankle boots']\n",
        "def plot_image(digit):\n",
        "    plt.figure()\n",
        "    plt.imshow(x_train[digit], cmap='gray', interpolation='nearest')\n",
        "    plt.show(block=False)\n",
        "    print(f'Image #{digit} which is digit \"{y_train[digit]}\" ({label_descriptions[y_train[digit]]})\\n')\n",
        "\n",
        "image_digits = [randrange(60000), randrange(60000)]\n",
        "plots = [plot_image(a) for a in image_digits]\n"
      ],
      "execution_count": null,
      "outputs": [
        {
          "output_type": "display_data",
          "data": {
            "image/png": "[encoded data removed]",
            "text/plain": [
              "<Figure size 432x288 with 1 Axes>"
            ]
          },
          "metadata": {
            "needs_background": "light"
          }
        },
        {
          "output_type": "stream",
          "name": "stdout",
          "text": [
            "Image #18178 which is digit \"5\" (sandals)\n",
            "\n"
          ]
        },
        {
          "output_type": "display_data",
          "data": {
            "image/png": "[encoded data removed]",
            "text/plain": [
              "<Figure size 432x288 with 1 Axes>"
            ]
          },
          "metadata": {
            "needs_background": "light"
          }
        },
        {
          "output_type": "stream",
          "name": "stdout",
          "text": [
            "Image #38199 which is digit \"8\" (bag)\n",
            "\n"
          ]
        }
      ]
    },
    {
      "cell_type": "code",
      "metadata": {
        "id": "f_t6uezWybRb"
      },
      "source": [
        ""
      ],
      "execution_count": null,
      "outputs": []
    }
  ]
}