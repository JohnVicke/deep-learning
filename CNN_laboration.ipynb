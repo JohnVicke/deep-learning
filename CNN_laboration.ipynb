{
  "nbformat": 4,
  "nbformat_minor": 0,
  "metadata": {
    "colab": {
      "name": "CNN_laboration.ipynb",
      "provenance": [],
      "authorship_tag": "ABX9TyOIbXAVcpp3MNTT7tZyh1H9",
      "include_colab_link": true
    },
    "kernelspec": {
      "name": "python3",
      "display_name": "Python 3"
    },
    "language_info": {
      "name": "python"
    },
    "accelerator": "GPU"
  },
  "cells": [
    {
      "cell_type": "markdown",
      "metadata": {
        "id": "view-in-github",
        "colab_type": "text"
      },
      "source": [
        "<a href=\"https://colab.research.google.com/github/JohnVicke/deep-learning/blob/master/CNN_laboration.ipynb\" target=\"_parent\"><img src=\"https://colab.research.google.com/assets/colab-badge.svg\" alt=\"Open In Colab\"/></a>"
      ]
    },
    {
      "cell_type": "markdown",
      "metadata": {
        "id": "hYqlvJKQ9tgx"
      },
      "source": [
        "# CNN_Laboration\n",
        "```\n",
        "Author: Viktor Malmedal\n",
        "Mail:   viktormalmedal@gmail.com\n",
        "umuId:  vima0068\n",
        "```"
      ]
    },
    {
      "cell_type": "code",
      "metadata": {
        "id": "XJaoy3aHsx-O",
        "colab": {
          "base_uri": "https://localhost:8080/"
        },
        "outputId": "0c15b9bd-905e-4311-c66d-2d40d5887c4d"
      },
      "source": [
        "import tensorflow as tf\n",
        "print(f'TensorFlow version: {tf.__version__}')\n",
        "\n",
        "import tensorflow.keras \n",
        "from tensorflow.keras.models import Sequential\n",
        "from tensorflow.keras.layers import Dense\n",
        "from tensorflow.keras.layers import Flatten\n",
        "from tensorflow.keras.utils import to_categorical\n",
        "from tensorflow.keras.datasets import fashion_mnist\n",
        "print(f'Keras version:      {tensorflow.keras.__version__}')\n",
        "\n",
        "import numpy as np\n",
        "import sklearn\n",
        "from sklearn.model_selection import train_test_split\n",
        "\n",
        "import matplotlib\n",
        "import matplotlib.pyplot as plt"
      ],
      "execution_count": 144,
      "outputs": [
        {
          "output_type": "stream",
          "name": "stdout",
          "text": [
            "TensorFlow version: 2.6.0\n",
            "Keras version:      2.6.0\n"
          ]
        }
      ]
    },
    {
      "cell_type": "code",
      "metadata": {
        "colab": {
          "base_uri": "https://localhost:8080/"
        },
        "id": "FGBiAtkduwUq",
        "outputId": "8514f493-069d-43d0-e29b-cda20a46f8ea"
      },
      "source": [
        "import sys\n",
        "if not tf.config.list_physical_devices('GPU'):\n",
        "    print('No GPU detected. CNNs can be very slow without a GPU')\n",
        "    if 'google.colab' in sys.modules:\n",
        "        print('Go to RunTime > change runtime and select a GPU hardware accelerator')\n",
        "else:\n",
        "    !nvidia-smi -L"
      ],
      "execution_count": 145,
      "outputs": [
        {
          "output_type": "stream",
          "name": "stdout",
          "text": [
            "GPU 0: Tesla K80 (UUID: GPU-6e7cc3fe-cbba-b770-02b5-c4f2fb1c8865)\n"
          ]
        }
      ]
    },
    {
      "cell_type": "code",
      "metadata": {
        "colab": {
          "base_uri": "https://localhost:8080/"
        },
        "id": "haXQitOUwUjs",
        "outputId": "febbff1f-1a6f-4c08-b4d4-2fb6f686f2e0"
      },
      "source": [
        "(x_train, y_train), (x_test, y_test) = fashion_mnist.load_data()\n",
        "label_descriptions = ['t-shirt/top', 'trouser', 'pullover', 'dress', 'coat',\n",
        "                      'sandals', 'shirt', 'sneaker', 'bag', 'ankle boots']\n",
        "\n",
        "def split_random(data, labels, percent_train=80, random=True):\n",
        "    print('Splitting data into test and validation')\n",
        "    print(f'Using random       = {random}')\n",
        "    print(f'Training split     = {percent_train}%')\n",
        "    print(f'Validation split   = {100-percent_train}%')\n",
        "    indicies = np.arange(data.shape[0])\n",
        "\n",
        "    if random:\n",
        "        np.random.shuffle(indicies)\n",
        "    \n",
        "    labels = labels[indicies]\n",
        "    data   = data[indicies]\n",
        "    rows   = data.shape[0]\n",
        "\n",
        "    end_index = int(rows*percent_train/100)\n",
        "\n",
        "    train_x = data[:end_index]\n",
        "    train_y = labels[:end_index]\n",
        "\n",
        "    validation_x = data[end_index:]\n",
        "    validation_y = labels[end_index:]\n",
        "\n",
        "    return (train_x, train_y), (validation_x, validation_y)\n",
        "\n",
        "def validate_data(data, labels, data_set_name):\n",
        "    \"\"\"\n",
        "        Naive validation, only validets shape of data compared to labels\n",
        "    \"\"\"\n",
        "\n",
        "    nr_images, x, y = data.shape\n",
        "    print(f'\\nRunning validation on {data_set_name}')\n",
        "    print(f'Number of images   = {nr_images}')\n",
        "    print(f'Number of labels   = {len(labels)}')\n",
        "    print(f'Image dimension    = {x}x{y}')\n",
        "    if nr_images != len(labels):\n",
        "        print('Number of images does not match number of labels')\n",
        "    else:\n",
        "        print('Data is OK ✅')\n",
        "\n",
        "(train_x, train_y), (validation_x, validation_y) = split_random(x_train, y_train)\n",
        "\n",
        "# increase readability since i will use train_x, train_y from here on \n",
        "test_x = x_test\n",
        "test_y = y_test\n",
        "\n",
        "validate_data(train_x, train_y, \"training\")\n",
        "validate_data(validation_x, validation_y, \"validation\")\n",
        "\n",
        "\n",
        "print_translation = [(f'[{i}]: {label_descriptions[i]}') for i in range(len(label_descriptions))]\n",
        "print(f'\\nTrain shape        = {train_x.shape}')\n",
        "print(f'Validation shape   = {validation_x.shape}')\n",
        "print(f'Test shape         = {x_test.shape}')\n",
        "print(f'Unique labels      = {np.unique(train_y)}')\n",
        "print(f'Label translation  = {print_translation}')"
      ],
      "execution_count": 165,
      "outputs": [
        {
          "output_type": "stream",
          "name": "stdout",
          "text": [
            "Splitting data into test and validation\n",
            "Using random       = True\n",
            "Training split     = 80%\n",
            "Validation split   = 20%\n",
            "\n",
            "Running validation on training\n",
            "Number of images   = 48000\n",
            "Number of labels   = 48000\n",
            "Image dimension    = 28x28\n",
            "Data is OK ✅\n",
            "\n",
            "Running validation on validation\n",
            "Number of images   = 12000\n",
            "Number of labels   = 12000\n",
            "Image dimension    = 28x28\n",
            "Data is OK ✅\n",
            "\n",
            "Train shape        = (48000, 28, 28)\n",
            "Validation shape   = (12000, 28, 28)\n",
            "Test shape         = (10000, 28, 28)\n",
            "Unique labels      = [0 1 2 3 4 5 6 7 8 9]\n",
            "Label translation  = ['[0]: t-shirt/top', '[1]: trouser', '[2]: pullover', '[3]: dress', '[4]: coat', '[5]: sandals', '[6]: shirt', '[7]: sneaker', '[8]: bag', '[9]: ankle boots']\n"
          ]
        }
      ]
    },
    {
      "cell_type": "code",
      "metadata": {
        "colab": {
          "base_uri": "https://localhost:8080/",
          "height": 581
        },
        "id": "-l626P76x6yX",
        "outputId": "03ce1937-9375-44cd-ace8-843af3c673bc"
      },
      "source": [
        "from random import randrange\n",
        "def plot_image(digit):\n",
        "    plt.figure()\n",
        "    plt.imshow(train_x[digit], cmap='gray', interpolation='nearest')\n",
        "    plt.show(block=False)\n",
        "    print(f'Image #{digit} which is digit \"{train_y[digit]}\" ({label_descriptions[y_train[digit]]})\\n')\n",
        "\n",
        "image_digits = [randrange(60000), randrange(60000)]\n",
        "plots = [plot_image(a) for a in image_digits]\n"
      ],
      "execution_count": 148,
      "outputs": [
        {
          "output_type": "display_data",
          "data": {
            "image/png": "[encoded data removed]",
            "text/plain": [
              "<Figure size 432x288 with 1 Axes>"
            ]
          },
          "metadata": {
            "needs_background": "light"
          }
        },
        {
          "output_type": "stream",
          "name": "stdout",
          "text": [
            "Image #36126 which is digit \"6\" (ankle boots)\n",
            "\n"
          ]
        },
        {
          "output_type": "display_data",
          "data": {
            "image/png": "[encoded data removed]",
            "text/plain": [
              "<Figure size 432x288 with 1 Axes>"
            ]
          },
          "metadata": {
            "needs_background": "light"
          }
        },
        {
          "output_type": "stream",
          "name": "stdout",
          "text": [
            "Image #25533 which is digit \"7\" (ankle boots)\n",
            "\n"
          ]
        }
      ]
    },
    {
      "cell_type": "code",
      "metadata": {
        "id": "f_t6uezWybRb",
        "colab": {
          "base_uri": "https://localhost:8080/"
        },
        "outputId": "65b4ac19-75df-4c73-f21f-9d417a77782a"
      },
      "source": [
        "epochs = 15\n",
        "batch_size = 32\n",
        "\n",
        "nr_classes = len(np.unique(train_y))\n",
        "_, x, y = train_x.shape\n",
        "img_rows, img_cols = x, y\n",
        "\n",
        "train_x = x_train.reshape(x_train.shape[0], img_rows, img_cols, 1)\n",
        "test_x = x_test.reshape(x_test.shape[0], img_rows, img_cols, 1)\n",
        "input_shape = (img_rows, img_cols, 1)\n",
        "\n",
        "train_x = train_x.astype('float32')\n",
        "test_x  = test_x.astype('float32')\n",
        "\n",
        "train_x /= 255\n",
        "test_x  /= 255\n",
        "\n",
        "train_y = to_categorical(train_y, nr_classes)\n",
        "test_y  = to_categorical(test_y, nr_classes)\n",
        "\n",
        "model = Sequential()\n",
        "model.add(Conv2D(32, kernel_size=(3,3), \n",
        "                 activation='relu',\n",
        "                 input_shape=input_shape))\n"
      ],
      "execution_count": 167,
      "outputs": [
        {
          "output_type": "stream",
          "name": "stdout",
          "text": [
            "10\n",
            "28 28\n"
          ]
        }
      ]
    },
    {
      "cell_type": "code",
      "metadata": {
        "id": "kvc3t03fTT3B"
      },
      "source": [
        ""
      ],
      "execution_count": null,
      "outputs": []
    }
  ]
}