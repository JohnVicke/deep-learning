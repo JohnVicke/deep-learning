{
  "nbformat": 4,
  "nbformat_minor": 0,
  "metadata": {
    "accelerator": "GPU",
    "colab": {
      "name": "viktor_malmedal_hyperparameter_optimization.ipynb",
      "provenance": [],
      "authorship_tag": "ABX9TyNlefOoPBWA1KszTIvkTlAn",
      "include_colab_link": true
    },
    "kernelspec": {
      "display_name": "Python 3",
      "name": "python3"
    },
    "language_info": {
      "name": "python"
    }
  },
  "cells": [
    {
      "cell_type": "markdown",
      "metadata": {
        "id": "view-in-github",
        "colab_type": "text"
      },
      "source": [
        "<a href=\"https://colab.research.google.com/github/JohnVicke/deep-learning/blob/main/viktor_malmedal_hyperparameter_optimization.ipynb\" target=\"_parent\"><img src=\"https://colab.research.google.com/assets/colab-badge.svg\" alt=\"Open In Colab\"/></a>"
      ]
    },
    {
      "cell_type": "markdown",
      "metadata": {
        "id": "hYqlvJKQ9tgx"
      },
      "source": [
        "# Hyperparameter optimization\n",
        "```\n",
        "Author: Viktor Malmedal\n",
        "Mail:   viktormalmedal@gmail.com\n",
        "umuId:  vima0068\n",
        "```\n",
        "Hyperparameter optimization is a two part laboration.\n",
        "\n",
        "## Part 1\n",
        "- Compare two models, where one is using regularization (e.g. dropout, batchnormalization) and the other does not.\n",
        "- Implement early stop for the model that is using regularization.\n",
        "\n",
        "- Analyze results\n",
        "\n",
        "## Part 2\n",
        "\n",
        "- Systematically find optimal hyperparameters using keras tuner on the model with regularization used in part 1.\n",
        "- Analyze\n",
        "\n",
        "\n",
        "```\n",
        "Note:\n",
        "My Colab ran out of supported GPU time which made it super hard to run all of the tests in a reasonable time. \n",
        "\n",
        "I've never run the entire finished project before handing it in. Some of the conclusions and thoughts are based on earlier executions and results.\n",
        "\n",
        "Since I'm not in the US or Canada I could not purschase Colab Pro (its against their policy).\n",
        "\n",
        "```"
      ]
    },
    {
      "cell_type": "code",
      "metadata": {
        "colab": {
          "base_uri": "https://localhost:8080/"
        },
        "id": "XJaoy3aHsx-O",
        "outputId": "d3d64091-8383-45ac-9b4c-c0ee6a437aff"
      },
      "source": [
        "import tensorflow as tf\n",
        "print(f'TensorFlow version: {tf.__version__}')\n",
        "\n",
        "import tensorflow.keras \n",
        "print(f'Keras version:      {tensorflow.keras.__version__}')\n",
        "\n",
        "import numpy as np\n",
        "import sklearn\n",
        "from sklearn.model_selection import train_test_split\n",
        "\n",
        "import matplotlib\n",
        "import matplotlib.pyplot as plt"
      ],
      "execution_count": 18,
      "outputs": [
        {
          "output_type": "stream",
          "name": "stdout",
          "text": [
            "TensorFlow version: 2.7.0\n",
            "Keras version:      2.7.0\n"
          ]
        }
      ]
    },
    {
      "cell_type": "code",
      "metadata": {
        "colab": {
          "base_uri": "https://localhost:8080/"
        },
        "id": "FGBiAtkduwUq",
        "outputId": "bfcbc5e7-238b-4d50-fe2b-fac6e789d43b"
      },
      "source": [
        "import sys\n",
        "if not tf.config.list_physical_devices('GPU'):\n",
        "    print('No GPU detected. CNNs can be very slow without a GPU')\n",
        "    if 'google.colab' in sys.modules:\n",
        "        print('Go to RunTime > change runtime and select a GPU hardware accelerator')\n",
        "else:\n",
        "    !nvidia-smi -L"
      ],
      "execution_count": 19,
      "outputs": [
        {
          "output_type": "stream",
          "name": "stdout",
          "text": [
            "No GPU detected. CNNs can be very slow without a GPU\n",
            "Go to RunTime > change runtime and select a GPU hardware accelerator\n"
          ]
        }
      ]
    },
    {
      "cell_type": "code",
      "metadata": {
        "id": "Uzj3N6KIHkA5"
      },
      "source": [
        "def split_random(data, labels, percent_train=80):\n",
        "    print('Splitting data into training and validation')\n",
        "    print(f'Training split     = {percent_train}%')\n",
        "    print(f'Validation split   = {100-percent_train}%')\n",
        "    indicies = np.arange(data.shape[0])\n",
        "\n",
        "    for _ in range(4): \n",
        "        indicies = np.random.permutation(indicies)\n",
        "\n",
        "    \n",
        "    labels = labels[indicies]\n",
        "    data = data[indicies]\n",
        "    rows = data.shape[0]\n",
        "\n",
        "    end_index = int(rows*percent_train/100)\n",
        "\n",
        "    train_x = data[:end_index]\n",
        "    train_y = labels[:end_index]\n",
        "\n",
        "    validation_x = data[end_index:]\n",
        "    validation_y = labels[end_index:]\n",
        "\n",
        "    return (train_x, train_y), (validation_x, validation_y)"
      ],
      "execution_count": 20,
      "outputs": []
    },
    {
      "cell_type": "code",
      "metadata": {
        "id": "68itxAcAHo09"
      },
      "source": [
        "def validate_data(data, labels, data_set_name):\n",
        "    \"\"\"\n",
        "        Naive validation, only validets shape of data compared to labels\n",
        "    \"\"\"\n",
        "\n",
        "    nr_images, x, y = data.shape\n",
        "    print(f'\\nRunning validation on {data_set_name}')\n",
        "    print(f'Number of images   = {nr_images}')\n",
        "    print(f'Number of labels   = {len(labels)}')\n",
        "    print(f'Image dimension    = {x}x{y}')\n",
        "    if nr_images != len(labels):\n",
        "        print('Number of images does not match number of labels')\n",
        "    else:\n",
        "        print('Data is OK ✅')"
      ],
      "execution_count": 21,
      "outputs": []
    },
    {
      "cell_type": "code",
      "metadata": {
        "id": "DdgPlbo1HtTl"
      },
      "source": [
        "def get_class_dist(data):\n",
        "    dist = {}\n",
        "    for label in data:\n",
        "        if label in dist:\n",
        "            dist[label] += 1\n",
        "        else:\n",
        "            dist[label] = 1\n",
        "    return dist\n"
      ],
      "execution_count": 22,
      "outputs": []
    },
    {
      "cell_type": "markdown",
      "metadata": {
        "id": "FO7SNtzuAqm8"
      },
      "source": [
        "# Loading and visualising the data\n",
        "- Splits the training data set into a training / validation split (80/20)%\n",
        "- Runs a naive validation on all data sets to see if the length of labels and images are matching.\n",
        "- Visualize the data."
      ]
    },
    {
      "cell_type": "code",
      "metadata": {
        "colab": {
          "base_uri": "https://localhost:8080/"
        },
        "id": "haXQitOUwUjs",
        "outputId": "17d7c805-fcd0-4227-df82-54e30493e3a8"
      },
      "source": [
        "from tensorflow.keras.datasets import fashion_mnist\n",
        "(x_train, y_train), (x_test, y_test) = fashion_mnist.load_data()\n",
        "label_descriptions = ['t-shirt/top', 'trouser', 'pullover', 'dress', 'coat',\n",
        "                      'sandals', 'shirt', 'sneaker', 'bag', 'ankle boots']\n",
        "\n",
        "(train_x, train_y), (validation_x, validation_y) = split_random(x_train, y_train)\n",
        "\n",
        "# increase readability since i will use train_x, train_y from here on \n",
        "test_x = x_test\n",
        "test_y = y_test\n",
        "test_labels = y_test\n",
        "\n",
        "validate_data(train_x, train_y, \"training\")\n",
        "validate_data(validation_x, validation_y, \"validation\")\n",
        "validate_data(test_x, test_y, \"test\")\n",
        "distribution = get_class_dist(train_y)\n",
        "\n",
        "print(f'\\nTrain shape         = {train_x.shape}')\n",
        "print(f'Validation shape    = {validation_x.shape}')\n",
        "print(f'Test shape          = {x_test.shape}')\n",
        "print(f'Unique labels       = {np.unique(train_y)}')\n",
        "print('Label translation   = ---------------------')\n",
        "for i, label in enumerate(label_descriptions):\n",
        "    print(f'                     [{i}]: {label}')\n",
        "print('Train distribution  = ---------------------')\n",
        "for i, label in enumerate(label_descriptions):\n",
        "    print('                     {:<20s}: {}'.format(label_descriptions[i], distribution[i]))\n",
        "print('                     ---------------------')"
      ],
      "execution_count": 23,
      "outputs": [
        {
          "output_type": "stream",
          "name": "stdout",
          "text": [
            "Splitting data into training and validation\n",
            "Training split     = 80%\n",
            "Validation split   = 20%\n",
            "\n",
            "Running validation on training\n",
            "Number of images   = 48000\n",
            "Number of labels   = 48000\n",
            "Image dimension    = 28x28\n",
            "Data is OK ✅\n",
            "\n",
            "Running validation on validation\n",
            "Number of images   = 12000\n",
            "Number of labels   = 12000\n",
            "Image dimension    = 28x28\n",
            "Data is OK ✅\n",
            "\n",
            "Running validation on test\n",
            "Number of images   = 10000\n",
            "Number of labels   = 10000\n",
            "Image dimension    = 28x28\n",
            "Data is OK ✅\n",
            "\n",
            "Train shape         = (48000, 28, 28)\n",
            "Validation shape    = (12000, 28, 28)\n",
            "Test shape          = (10000, 28, 28)\n",
            "Unique labels       = [0 1 2 3 4 5 6 7 8 9]\n",
            "Label translation   = ---------------------\n",
            "                     [0]: t-shirt/top\n",
            "                     [1]: trouser\n",
            "                     [2]: pullover\n",
            "                     [3]: dress\n",
            "                     [4]: coat\n",
            "                     [5]: sandals\n",
            "                     [6]: shirt\n",
            "                     [7]: sneaker\n",
            "                     [8]: bag\n",
            "                     [9]: ankle boots\n",
            "Train distribution  = ---------------------\n",
            "                     t-shirt/top         : 4847\n",
            "                     trouser             : 4765\n",
            "                     pullover            : 4774\n",
            "                     dress               : 4767\n",
            "                     coat                : 4817\n",
            "                     sandals             : 4813\n",
            "                     shirt               : 4807\n",
            "                     sneaker             : 4834\n",
            "                     bag                 : 4756\n",
            "                     ankle boots         : 4820\n",
            "                     ---------------------\n"
          ]
        }
      ]
    },
    {
      "cell_type": "code",
      "metadata": {
        "colab": {
          "base_uri": "https://localhost:8080/",
          "height": 296
        },
        "id": "-l626P76x6yX",
        "outputId": "74143641-4c4b-413a-f147-cf2770176177"
      },
      "source": [
        "from random import randrange\n",
        "def plot_image(digit):\n",
        "    plt.figure()\n",
        "    plt.imshow(train_x[digit], cmap='gray', interpolation='nearest')\n",
        "    plt.title(f'Image #{digit} which is digit \"{train_y[digit]}\" ({label_descriptions[train_y[digit]]})\\n')\n",
        "    plt.show(block=False)\n",
        "\n",
        "ran_range = len(train_x) - 1\n",
        "image_digits = [randrange(ran_range)]\n",
        "plots = [plot_image(a) for a in image_digits]\n"
      ],
      "execution_count": 24,
      "outputs": [
        {
          "output_type": "display_data",
          "data": {
            "image/png": "[encoded data removed]",
            "text/plain": [
              "<Figure size 432x288 with 1 Axes>"
            ]
          },
          "metadata": {
            "needs_background": "light"
          }
        }
      ]
    },
    {
      "cell_type": "code",
      "metadata": {
        "colab": {
          "base_uri": "https://localhost:8080/",
          "height": 458
        },
        "id": "ow79ZdGP9ao4",
        "outputId": "88dbcc65-c9d4-476c-f1a1-cd2ffc14f7db"
      },
      "source": [
        "from random import sample\n",
        "ROWS = 6\n",
        "random_indicies = sample(range(train_x.shape[0]), ROWS*ROWS)\n",
        "sample_images = train_x[random_indicies, :]\n",
        "plt.clf()\n",
        "fig, axes = plt.subplots(ROWS, ROWS, \n",
        "                         figsize=(ROWS, ROWS),\n",
        "                         sharex=True, sharey=True)\n",
        "\n",
        "for i in range(ROWS*ROWS):\n",
        "    subplot_row = i // ROWS\n",
        "    subplot_col = i % ROWS\n",
        "    ax = axes[subplot_row, subplot_col]\n",
        "    plottable_image = np.reshape(sample_images[i,:], (28,28))\n",
        "    ax.imshow(plottable_image, cmap='gray_r')\n",
        "    ax.set_xbound([0, 28])\n",
        "\n",
        "plt.tight_layout()\n",
        "plt.show()"
      ],
      "execution_count": 25,
      "outputs": [
        {
          "output_type": "display_data",
          "data": {
            "text/plain": [
              "<Figure size 432x288 with 0 Axes>"
            ]
          },
          "metadata": {}
        },
        {
          "output_type": "display_data",
          "data": {
            "image/png": "[encoded data removed]",
            "text/plain": [
              "<Figure size 432x432 with 36 Axes>"
            ]
          },
          "metadata": {
            "needs_background": "light"
          }
        }
      ]
    },
    {
      "cell_type": "markdown",
      "metadata": {
        "id": "GbYQYrMyBV9q"
      },
      "source": [
        "# Reshaping the data\n",
        "- Normalize the images (0-255 grayscale into 0-1 float)\n",
        "- Reshape into correct shape"
      ]
    },
    {
      "cell_type": "code",
      "metadata": {
        "id": "HwE_WE72rumO"
      },
      "source": [
        "def reshape_data(data, img_width, img_height, channels_first):\n",
        "    data = data.astype('float32') / 255.0\n",
        "\n",
        "    if channels_first:\n",
        "        data = data.reshape(data.shape[0], 1, img_width, img_height)\n",
        "    else:\n",
        "       data = data.reshape(data.shape[0], img_width, img_height, 1) \n",
        "\n",
        "    return data\n"
      ],
      "execution_count": 26,
      "outputs": []
    },
    {
      "cell_type": "code",
      "metadata": {
        "id": "QvJbRJwAYBhg"
      },
      "source": [
        "def hms_string(sec_elapsed):\n",
        "    h = int(sec_elapsed / (60 * 60))\n",
        "    m = int((sec_elapsed % (60 * 60)) / 60)\n",
        "    s = sec_elapsed % 60\n",
        "    return f\"{h}:{m:>02}:{s:>05.2f}\""
      ],
      "execution_count": 27,
      "outputs": []
    },
    {
      "cell_type": "code",
      "metadata": {
        "id": "nvA970Dtsh3b"
      },
      "source": [
        "def retrieve(mapping, *keys):\n",
        "    return (mapping[key] for key in keys)"
      ],
      "execution_count": 28,
      "outputs": []
    },
    {
      "cell_type": "code",
      "metadata": {
        "id": "f_t6uezWybRb"
      },
      "source": [
        "from tensorflow.keras.utils import to_categorical\n",
        "from tensorflow.keras import backend\n",
        "from tensorflow.keras import optimizers\n",
        "from tensorflow.keras.models import Sequential\n",
        "from tensorflow.keras.layers import Conv2D, MaxPooling2D, Activation\n",
        "from tensorflow.keras.layers import Dense, Flatten, Dropout, BatchNormalization\n",
        "from tensorflow.keras.callbacks import EarlyStopping\n",
        "\n",
        "# Declaring global variables\n",
        "nr_classes = len(np.unique(train_y))\n",
        "_, img_width, img_height = train_x.shape\n",
        "is_channels_first = backend.image_data_format() == 'channels_first'\n",
        "input_shape = (1, img_width, img_height) if is_channels_first else (img_width, img_height, 1)\n",
        "\n",
        "train_x = reshape_data(train_x, img_width, img_height, is_channels_first)\n",
        "test_x = reshape_data(test_x, img_width, img_height, is_channels_first)\n",
        "validation_x = reshape_data(validation_x, img_width, img_height, is_channels_first)\n",
        "\n",
        "train_y = to_categorical(train_y, nr_classes)\n",
        "test_y = to_categorical(test_y, nr_classes)\n",
        "validation_y = to_categorical(validation_y, nr_classes)\n",
        "\n",
        "training_data = (train_x, train_y)\n",
        "validation_data = (validation_x, validation_y)\n",
        "test_data = (test_x, test_y)"
      ],
      "execution_count": 29,
      "outputs": []
    },
    {
      "cell_type": "markdown",
      "metadata": {
        "id": "mbrNCLphCKg2"
      },
      "source": [
        "# CNN Model\n",
        "Defines a CNNModel, storing values for the history/score and provides an easy interface to create new models that will all share a common training and testing strategy. Creating a new model requires a Sequential model in the constructor. This design decicion was made to simplify creating and analyzing different CNN models.\n",
        "\n",
        "# Main charactaristics\n",
        "\n",
        "- Using default batchsize (32)\n",
        "- Running training in 15 epochs with an early stop callback for all models\n",
        "    - Early stopping is using 3 in patience, which means that it can go back 3 iterations (epochs) and will choose the best weights that it has encountered if the models validation loss starts to increase instead of decreasing (diverging).\n",
        "- Learning rate is reduced to decrease overfitting (0.001 seems to be a bit too fast in this scenario).\n",
        "- Using adam as optimizer for adaptive learning rates (considered among the best, if not the best!)\n",
        "- Using **categorical_crossentropy** for loss & **categorical_accuracy** for accuracy\n",
        "\n",
        "\n",
        "### Note\n",
        "```\n",
        "I know that layers and models can be extended upon using subclasses, \n",
        "however I thought that this solution is adequate for the given assignment.\n",
        "```"
      ]
    },
    {
      "cell_type": "code",
      "metadata": {
        "id": "ao7Ie_5KjUqj"
      },
      "source": [
        "class CNNModel():\n",
        "    batch_size = 32\n",
        "    epochs     = 25\n",
        "\n",
        "    sequential = None\n",
        "    stopped_at = None\n",
        "    history    = None\n",
        "    score      = None\n",
        "    early_stop = False\n",
        "\n",
        "\n",
        "    def __init__(self, sequential, name, early_stop=False):\n",
        "        self.name = name\n",
        "        self.sequential = sequential\n",
        "        self.sequential.summary()\n",
        "        self.early_stop = early_stop\n",
        "\n",
        "    def compile(self):\n",
        "        optimizer = optimizers.Adam(learning_rate=0.0001)\n",
        "        self.sequential.compile(loss='categorical_crossentropy',\n",
        "                                optimizer=optimizer,\n",
        "                                metrics=['categorical_accuracy'])\n",
        "    \n",
        "    def train(self, training_data, validation_data, verbose=1):\n",
        "        callbacks = []\n",
        "        if self.early_stop:\n",
        "            early_stop_monitor = EarlyStopping(monitor='val_loss', patience=3, restore_best_weights=True)\n",
        "            callbacks = [early_stop_monitor]\n",
        "\n",
        "        train_x, train_y = training_data\n",
        "        history = self.sequential.fit(train_x, train_y,\n",
        "                                      batch_size=self.batch_size, \n",
        "                                      epochs=self.epochs,\n",
        "                                      verbose=verbose,\n",
        "                                      validation_data=validation_data,\n",
        "                                      callbacks=callbacks)\n",
        "\n",
        "        # Early stopped\n",
        "        if self.early_stop and early_stop_monitor.stopped_epoch != 0:\n",
        "            self.stopped_at = early_stop_monitor.stopped_epoch\n",
        "\n",
        "        self.history = history.history\n",
        "    \n",
        "    def evaluate(self, test_data):\n",
        "        test_x, test_y = test_data\n",
        "        score = self.sequential.evaluate(test_x, test_y)\n",
        "        self.score = score\n",
        "\n",
        "    def plot_history(self, debug=False):\n",
        "        train_loss, train_acc, val_loss, val_acc = retrieve(self.history, \n",
        "                                                            'loss',\n",
        "                                                            'categorical_accuracy',\n",
        "                                                            'val_loss',\n",
        "                                                            'val_categorical_accuracy')\n",
        "        if debug:\n",
        "            print(f'history len : {len(train_loss)}')\n",
        "            print(f'stopped at  : {self.stopped_at}')\n",
        "            print(f'Epochs      : {self.epochs}')\n",
        "            print(f'Train acc   : {len(train_acc)}')\n",
        "            print(f'Val acc     : {len(val_acc)}')\n",
        "        \n",
        "        epoch_range = range(1, self.epochs + 1)\n",
        "\n",
        "        if self.stopped_at:\n",
        "            epoch_range = range(1, self.stopped_at + 2)\n",
        "\n",
        "        early_stop_label = f'Stopped at {self.stopped_at}'\n",
        "        plt.plot(epoch_range, train_acc, 'bo', label='Training accuracy')\n",
        "        plt.plot(epoch_range, val_acc, 'b', label='Validation accuracy')\n",
        "        plt.title(f'Training and validation accuracy ({self.name})')\n",
        "        plt.xlabel('Epochs')\n",
        "        plt.ylabel('Accuracy')\n",
        "        plt.legend()\n",
        "        plt.show()\n",
        "\n",
        "        plt.plot(epoch_range, train_loss, 'bo', color='red', label='Training loss')\n",
        "        plt.plot(epoch_range, val_loss, 'b', color='red', label='Validation loss')\n",
        "        plt.title(f'Training and validation loss ({self.name})')\n",
        "        plt.xlabel('Epochs')\n",
        "        plt.ylabel('Loss')\n",
        "        plt.legend()\n",
        "        plt.show()\n",
        "        print()\n",
        "    "
      ],
      "execution_count": 30,
      "outputs": []
    },
    {
      "cell_type": "markdown",
      "metadata": {
        "id": "NETpZsUPL4HL"
      },
      "source": [
        "```\n",
        "START OF PART 1\n",
        "\n"
      ]
    },
    {
      "cell_type": "markdown",
      "metadata": {
        "id": "0ih9fn0PLllO"
      },
      "source": [
        "# Complex multilayered CNN without regularization"
      ]
    },
    {
      "cell_type": "code",
      "metadata": {
        "colab": {
          "base_uri": "https://localhost:8080/"
        },
        "id": "qhXIYJGfLqKN",
        "outputId": "a5bde666-bb9e-4e63-f94a-026ae8633a7a"
      },
      "source": [
        "complex_cnn_no_reg = Sequential([\n",
        "\n",
        "    Conv2D(32, kernel_size=(3,3), padding='same', \n",
        "           activation='relu',\n",
        "           input_shape=input_shape),\n",
        "    Conv2D(32, kernel_size=(3,3), padding='same', activation='relu'),\n",
        "    MaxPooling2D(pool_size=(2,2)),\n",
        "\n",
        "    Conv2D(64, kernel_size=(3,3), padding='same', activation='relu'),\n",
        "    Conv2D(64, kernel_size=(3,3), padding='same', activation='relu'),\n",
        "\n",
        "    Flatten(),\n",
        "    Dense(128, activation='relu'),\n",
        "    Dense(nr_classes, activation='softmax'),\n",
        "])\n",
        "complex_cnn_model_no_reg = CNNModel(complex_cnn_no_reg, 'No regulrization CNN')"
      ],
      "execution_count": 31,
      "outputs": [
        {
          "output_type": "stream",
          "name": "stdout",
          "text": [
            "Model: \"sequential_3\"\n",
            "_________________________________________________________________\n",
            " Layer (type)                Output Shape              Param #   \n",
            "=================================================================\n",
            " conv2d_12 (Conv2D)          (None, 28, 28, 32)        320       \n",
            "                                                                 \n",
            " conv2d_13 (Conv2D)          (None, 28, 28, 32)        9248      \n",
            "                                                                 \n",
            " max_pooling2d_5 (MaxPooling  (None, 14, 14, 32)       0         \n",
            " 2D)                                                             \n",
            "                                                                 \n",
            " conv2d_14 (Conv2D)          (None, 14, 14, 64)        18496     \n",
            "                                                                 \n",
            " conv2d_15 (Conv2D)          (None, 14, 14, 64)        36928     \n",
            "                                                                 \n",
            " flatten_3 (Flatten)         (None, 12544)             0         \n",
            "                                                                 \n",
            " dense_6 (Dense)             (None, 128)               1605760   \n",
            "                                                                 \n",
            " dense_7 (Dense)             (None, 10)                1290      \n",
            "                                                                 \n",
            "=================================================================\n",
            "Total params: 1,672,042\n",
            "Trainable params: 1,672,042\n",
            "Non-trainable params: 0\n",
            "_________________________________________________________________\n"
          ]
        }
      ]
    },
    {
      "cell_type": "markdown",
      "metadata": {
        "id": "WQ-Rz1U7Fn3c"
      },
      "source": [
        "# Complex multilayered CNN"
      ]
    },
    {
      "cell_type": "code",
      "metadata": {
        "id": "pnvxDQRJ5N2O",
        "colab": {
          "base_uri": "https://localhost:8080/"
        },
        "outputId": "28a02214-4337-44e9-cfa5-bf679ccc7bd9"
      },
      "source": [
        "def get_complex_cnn():\n",
        "   return Sequential([\n",
        "            Conv2D(32, kernel_size=(3,3), padding='same', \n",
        "                activation='relu',\n",
        "                input_shape=input_shape),\n",
        "            Conv2D(32, kernel_size=(3,3), padding='same', activation='relu'),\n",
        "            MaxPooling2D(pool_size=(2,2)),\n",
        "            Dropout(0.25),\n",
        "            BatchNormalization(),\n",
        "\n",
        "            Conv2D(64, kernel_size=(3,3), padding='same', activation='relu'),\n",
        "            Conv2D(64, kernel_size=(3,3), padding='same', activation='relu'),\n",
        "            MaxPooling2D(pool_size=(2,2)),\n",
        "            Dropout(0.25),\n",
        "\n",
        "            Flatten(),\n",
        "            Dense(128, activation='relu'),\n",
        "            Dense(nr_classes, activation='softmax'),\n",
        "        ])\n",
        "\n",
        "complex_cnn_model = CNNModel(get_complex_cnn(), 'Complex multilayered CNN')\n",
        "complex_cnn_model_early_stop = CNNModel(get_complex_cnn(), 'Complex multilayered CNN with early stop', early_stop=True)"
      ],
      "execution_count": 32,
      "outputs": [
        {
          "output_type": "stream",
          "name": "stdout",
          "text": [
            "Model: \"sequential_4\"\n",
            "_________________________________________________________________\n",
            " Layer (type)                Output Shape              Param #   \n",
            "=================================================================\n",
            " conv2d_16 (Conv2D)          (None, 28, 28, 32)        320       \n",
            "                                                                 \n",
            " conv2d_17 (Conv2D)          (None, 28, 28, 32)        9248      \n",
            "                                                                 \n",
            " max_pooling2d_6 (MaxPooling  (None, 14, 14, 32)       0         \n",
            " 2D)                                                             \n",
            "                                                                 \n",
            " dropout_4 (Dropout)         (None, 14, 14, 32)        0         \n",
            "                                                                 \n",
            " batch_normalization_2 (Batc  (None, 14, 14, 32)       128       \n",
            " hNormalization)                                                 \n",
            "                                                                 \n",
            " conv2d_18 (Conv2D)          (None, 14, 14, 64)        18496     \n",
            "                                                                 \n",
            " conv2d_19 (Conv2D)          (None, 14, 14, 64)        36928     \n",
            "                                                                 \n",
            " max_pooling2d_7 (MaxPooling  (None, 7, 7, 64)         0         \n",
            " 2D)                                                             \n",
            "                                                                 \n",
            " dropout_5 (Dropout)         (None, 7, 7, 64)          0         \n",
            "                                                                 \n",
            " flatten_4 (Flatten)         (None, 3136)              0         \n",
            "                                                                 \n",
            " dense_8 (Dense)             (None, 128)               401536    \n",
            "                                                                 \n",
            " dense_9 (Dense)             (None, 10)                1290      \n",
            "                                                                 \n",
            "=================================================================\n",
            "Total params: 467,946\n",
            "Trainable params: 467,882\n",
            "Non-trainable params: 64\n",
            "_________________________________________________________________\n",
            "Model: \"sequential_5\"\n",
            "_________________________________________________________________\n",
            " Layer (type)                Output Shape              Param #   \n",
            "=================================================================\n",
            " conv2d_20 (Conv2D)          (None, 28, 28, 32)        320       \n",
            "                                                                 \n",
            " conv2d_21 (Conv2D)          (None, 28, 28, 32)        9248      \n",
            "                                                                 \n",
            " max_pooling2d_8 (MaxPooling  (None, 14, 14, 32)       0         \n",
            " 2D)                                                             \n",
            "                                                                 \n",
            " dropout_6 (Dropout)         (None, 14, 14, 32)        0         \n",
            "                                                                 \n",
            " batch_normalization_3 (Batc  (None, 14, 14, 32)       128       \n",
            " hNormalization)                                                 \n",
            "                                                                 \n",
            " conv2d_22 (Conv2D)          (None, 14, 14, 64)        18496     \n",
            "                                                                 \n",
            " conv2d_23 (Conv2D)          (None, 14, 14, 64)        36928     \n",
            "                                                                 \n",
            " max_pooling2d_9 (MaxPooling  (None, 7, 7, 64)         0         \n",
            " 2D)                                                             \n",
            "                                                                 \n",
            " dropout_7 (Dropout)         (None, 7, 7, 64)          0         \n",
            "                                                                 \n",
            " flatten_5 (Flatten)         (None, 3136)              0         \n",
            "                                                                 \n",
            " dense_10 (Dense)            (None, 128)               401536    \n",
            "                                                                 \n",
            " dense_11 (Dense)            (None, 10)                1290      \n",
            "                                                                 \n",
            "=================================================================\n",
            "Total params: 467,946\n",
            "Trainable params: 467,882\n",
            "Non-trainable params: 64\n",
            "_________________________________________________________________\n"
          ]
        }
      ]
    },
    {
      "cell_type": "code",
      "metadata": {
        "id": "SlRpLO_2y94z"
      },
      "source": [
        "models = [complex_cnn_model, complex_cnn_model_no_reg, complex_cnn_model_early_stop]"
      ],
      "execution_count": 33,
      "outputs": []
    },
    {
      "cell_type": "code",
      "metadata": {
        "colab": {
          "base_uri": "https://localhost:8080/"
        },
        "id": "4uqq6R5hPmfA",
        "outputId": "cccfd375-9b65-4a22-eb0c-b1b1cc1857cc"
      },
      "source": [
        "import time\n",
        "print(f'Starting to train all {len(models)} models....')\n",
        "global_start_time = time.time()\n",
        "for model in models:\n",
        "    print(f'Begin training model: {model.name}')\n",
        "    start_time = time.time();\n",
        "    model.compile()\n",
        "    model.train(training_data, validation_data)\n",
        "    elapsed_time = time.time() - start_time\n",
        "    print(f'Training finished for :{model.name} in {hms_string(elapsed_time)}\\n')\n",
        "\n",
        "global_elapsed_time = time.time() - global_start_time\n",
        "print()\n",
        "print(f'Finisihed training all {len(models)} model(s) in {hms_string(global_elapsed_time)}')"
      ],
      "execution_count": null,
      "outputs": [
        {
          "output_type": "stream",
          "name": "stdout",
          "text": [
            "Starting to train all 3 models....\n",
            "Begin training model: Complex multilayered CNN\n",
            "Epoch 1/25\n",
            "1500/1500 [==============================] - 183s 122ms/step - loss: 0.5621 - categorical_accuracy: 0.7957 - val_loss: 0.3631 - val_categorical_accuracy: 0.8723\n",
            "Epoch 2/25\n",
            "1500/1500 [==============================] - 181s 121ms/step - loss: 0.3544 - categorical_accuracy: 0.8714 - val_loss: 0.3076 - val_categorical_accuracy: 0.8898\n",
            "Epoch 3/25\n",
            "1500/1500 [==============================] - 183s 122ms/step - loss: 0.3003 - categorical_accuracy: 0.8904 - val_loss: 0.2690 - val_categorical_accuracy: 0.9019\n",
            "Epoch 4/25\n",
            " 262/1500 [====>.........................] - ETA: 2:25 - loss: 0.2769 - categorical_accuracy: 0.9042"
          ]
        }
      ]
    },
    {
      "cell_type": "markdown",
      "metadata": {
        "id": "10K9YOWA_mpu"
      },
      "source": [
        "# Training history (loss + acc)\n",
        "\n"
      ]
    },
    {
      "cell_type": "code",
      "metadata": {
        "id": "y0YwgeeQZjwU"
      },
      "source": [
        "for model in models:\n",
        "    model.plot_history(debug=True)"
      ],
      "execution_count": null,
      "outputs": []
    },
    {
      "cell_type": "markdown",
      "metadata": {
        "id": "cDgJZkCHepC7"
      },
      "source": [
        "# Test comparison"
      ]
    },
    {
      "cell_type": "code",
      "metadata": {
        "id": "TAxpRjNowh7s"
      },
      "source": [
        "for model in models: \n",
        "    model.evaluate(test_data)\n",
        "\n",
        "best_acc = max(models, key=lambda m: m.score[1])"
      ],
      "execution_count": null,
      "outputs": []
    },
    {
      "cell_type": "code",
      "metadata": {
        "id": "fITQvyuhiDVU"
      },
      "source": [
        "print(f'Model with highest test accuracy: {best_acc.name}')\n",
        "print(f'Test accuracy          = {best_acc.score[1]}')\n",
        "print(f'Stopped training after = {best_acc.stopped_at if best_acc.stopped_at else best_acc.epochs} epochs')\n",
        "print()\n",
        "\n",
        "best_acc.sequential.summary()"
      ],
      "execution_count": null,
      "outputs": []
    },
    {
      "cell_type": "markdown",
      "metadata": {
        "id": "cur-OoPYHnrF"
      },
      "source": [
        "# Part 1 conclusion\n",
        "For part 1 of the assignment, I took my best model from the CNN lab and made a copy of with it with and without regularisation. I also added an earlystop to one of the models which looked at 3 earlier epochs and analyzed the validation loss to later restore the best weights.\n",
        "\n",
        "All the models were trained on 25 epochs which is a bit much, but I personally thought that it would be a good way to visualize how the models behave when training for a long time and why early stopping is such a good tool.\n",
        "\n",
        "The first two models (without earlystop) overfit pretty hard, especially the one without regularization. You can see it in the graph where the validation loss goes upp like crazy while the training score still increases.\n",
        "\n",
        "Regularization is especially good to prevent overfitting since it adds information to a model by removing extra weights from a set of features and redistrubtes them. I.e. it attempts to reduce the variance by simplifying it.\n",
        "\n",
        "I think by adding regularization, especially dropout layers, i managed to reduce overfitting of the model since I think a lot of the data points have similarites which might have been picked up and interdependantly learned in the neurons (dependancies between neurons which might effect layers).\n",
        "\n",
        "The model with early stop would stop at around 11-16 epochs before it starts to overfit the data too much.\n",
        "\n",
        "One interesting aspect is that the overfitted model (with regularization) and the earlystopped model performs pretty much the same. Its never a clear cut winner when evaluating them on the test data. This might indicate that the overfit model is not as overfit as it seems or that the test data is very similar to training/validation data. An overfit model should not be as good on new data as a model thats not overfit (theoretically). To get a better understanding on why this is happening, I woudl run a large number of models and cross validate them on the training set, use different splits and compare the same random seed on the two models. It might also be a case of \"human overfitting\" where I have not really prepared the data properly since im no expert ;).\n",
        "\n"
      ]
    },
    {
      "cell_type": "markdown",
      "metadata": {
        "id": "_HGtYDuoeml2"
      },
      "source": [
        "```\n",
        "START OF PART 2\n",
        "```"
      ]
    },
    {
      "cell_type": "code",
      "metadata": {
        "id": "pMsOjo7UqHmg"
      },
      "source": [
        "!pip install keras_tuner==1.0.4 -q\n",
        "\n",
        "import keras_tuner\n",
        "print('Keras tuner version:', keras_tuner.__version__)\n",
        "\n",
        "from keras_tuner.tuners import RandomSearch, Hyperband, BayesianOptimization"
      ],
      "execution_count": null,
      "outputs": []
    },
    {
      "cell_type": "code",
      "metadata": {
        "id": "i0isQrAWuOz9"
      },
      "source": [
        "def get_tunable_model(hp):\n",
        "    model = Sequential([\n",
        "        Conv2D(filters=hp.Int('conv_1_filter', min_value=32, max_value=64,step=16), \n",
        "               kernel_size=hp.Choice('conv_1_kernel', values = [3,5]),\n",
        "               activation='relu',\n",
        "               padding='same',\n",
        "               input_shape=input_shape),\n",
        "        Conv2D(filters=hp.Int('conv_2_filter', min_value=32, max_value=64,step=16), \n",
        "               kernel_size=hp.Choice('conv_2_kernel', values = [3,5]),\n",
        "               activation='relu',\n",
        "               padding='same'),\n",
        "        MaxPooling2D(pool_size=(2,2)),\n",
        "        Dropout(0.25),\n",
        "        BatchNormalization(),\n",
        "        Conv2D(filters=hp.Int('conv_3_filter', min_value=64, max_value=128,step=16), \n",
        "               kernel_size=hp.Choice('conv_3_kernel', values = [3,5]),\n",
        "               activation='relu',\n",
        "               padding='same'),\n",
        "        Conv2D(filters=hp.Int('conv_4_filter', min_value=64, max_value=128,step=16), \n",
        "               kernel_size=hp.Choice('conv_4_kernel', values = [3,5]),\n",
        "               activation='relu',\n",
        "               padding='same'),\n",
        "        Dropout(0.25),\n",
        "        Flatten(),\n",
        "        Dense(\n",
        "            units=hp.Int('dense_1_units', min_value=32, max_value=128, step=16),\n",
        "            activation='relu'\n",
        "        ),\n",
        "        Dense(nr_classes, activation='softmax')\n",
        "    ])\n",
        "\n",
        "    model.compile()\n",
        "    optimizer = optimizers.Adam(hp.Choice('learning_rate', values=[1e-2, 1e-3]))\n",
        "    model.compile(loss='categorical_crossentropy',\n",
        "                  optimizer=optimizer,\n",
        "                  metrics=['categorical_accuracy'])\n",
        "    return model"
      ],
      "execution_count": null,
      "outputs": []
    },
    {
      "cell_type": "code",
      "metadata": {
        "id": "ObOdnTuwqgWi"
      },
      "source": [
        "def get_tuned_model_summary(tuner):\n",
        "    model = tuner.get_best_models(num_models=1)[0]\n",
        "    params = tuner.get_best_hyperparameters()[0].values \n",
        "    for key, value in params.items():\n",
        "        print('%20s = %3.4g' %(key, value))\n",
        "    \n",
        "    return model, params\n",
        "\n"
      ],
      "execution_count": null,
      "outputs": []
    },
    {
      "cell_type": "code",
      "metadata": {
        "id": "pKVkMZWKqTlE"
      },
      "source": [
        "max_trials = 10\n",
        "execution_per_trial = 2\n",
        "callbacks = [EarlyStopping('val_loss', patience=3, restore_best_weights=True)]"
      ],
      "execution_count": null,
      "outputs": []
    },
    {
      "cell_type": "code",
      "metadata": {
        "id": "Z8zUg64Xq2NX"
      },
      "source": [
        "tuner = RandomSearch(\n",
        "    get_tunable_model,\n",
        "    objective='val_categorical_accuracy',\n",
        "    max_trials=max_trials,\n",
        "    executions_per_trial=execution_per_trial,\n",
        "    directory='ouput',\n",
        "    project_name='deep_learning_fashion_mnist_vmalm')\n"
      ],
      "execution_count": null,
      "outputs": []
    },
    {
      "cell_type": "code",
      "metadata": {
        "id": "CLRKjz0OrHWP"
      },
      "source": [
        "noepochauto = 9\n",
        "tuner.search(train_x, train_y,\n",
        "             epochs=noepochauto,\n",
        "             validation_data=validation_data,\n",
        "             batch_size=128,\n",
        "             callbacks=callbacks\n",
        "             )"
      ],
      "execution_count": null,
      "outputs": []
    },
    {
      "cell_type": "code",
      "metadata": {
        "id": "kNkFm3rJtxdk"
      },
      "source": [
        "tuned_random_model, tuned_random_model_params = get_tuned_model_summary(tuner)\n",
        "tuned_random_model.summary()\n"
      ],
      "execution_count": null,
      "outputs": []
    },
    {
      "cell_type": "code",
      "metadata": {
        "id": "0r2h2alW-QLO"
      },
      "source": [
        "tuned_loss, tuned_acc = tuned_model.evaluate(test_x, test_y)"
      ],
      "execution_count": null,
      "outputs": []
    },
    {
      "cell_type": "code",
      "metadata": {
        "id": "0MnlWjlVo2GN"
      },
      "source": [
        "class BayesianOptimiationTuner(BayesianOptimization):\n",
        "    def run_trial(self, trial, *args, **kwargs):\n",
        "        kwargs['batch_size'] = trial.hyperparameters.Int('batch_size', 32, 512, step=32, default=256)\n",
        "        super(BayesianOptimiationTuner, self).run_trial(trial, *args, **kwargs)"
      ],
      "execution_count": null,
      "outputs": []
    },
    {
      "cell_type": "code",
      "metadata": {
        "id": "18WLPyOnpWfQ"
      },
      "source": [
        "bayesian_tuner = BayesianOptimiationTuner(\n",
        "    get_tunable_model,\n",
        "    objective='val_categorical_accuracy',\n",
        "    max_trials=max_trials,\n",
        "    executions_per_trial=execution_per_trial,\n",
        "    directory='ouput',\n",
        "    project_name='deep_learning_fashion_mnist_vmalm')"
      ],
      "execution_count": null,
      "outputs": []
    },
    {
      "cell_type": "code",
      "metadata": {
        "id": "IfOqvQV0qD2i"
      },
      "source": [
        "bayesian_tuner.search(train_x, train_y,\n",
        "             epochs=noepochauto,\n",
        "             validation_data=validation_data,\n",
        "             callbacks=callbacks)"
      ],
      "execution_count": null,
      "outputs": []
    },
    {
      "cell_type": "markdown",
      "metadata": {
        "id": "RlBVorE2Heta"
      },
      "source": [
        "# Part 2 conclusion\n",
        "The results from keras tuner hyperparameter optimization is quite interesting. It seems like my first two conv layers are too small (according to the tuner). My model had 32 and 32 for the first two layers, while the tuner got the best results with 64 (max limit i set). The tuner also increased the second layers to values close to the maximum i set (128). \n",
        "\n",
        "This might indicate that the data requires more filters or feature detectors than what I orginally thought. Since some of the images and categories are very close in how they look, it might need more features to make distinct connections between some categories. However I think that this has the potential to overfit as well since the data is not *that* complex (24x24 gray images, 0-255 pixel values).\n",
        "\n",
        "Another interesting takeaway is that for the later layers, keras tuner got the best results when increasing the kernel size values to the max i set (5). This might mean that network in later stages needs a larger subsampling after using maxpooling (reducing the size) to get significant results. This might indicate that when an image (data) is reduced in size by using Maxpooling which extracts the pixel with maximum values within the kernel (mask) it then needs a larger mask for the next set of conv layers to get a better feature extraction.\n",
        "\n",
        "```\n",
        "Note:\n",
        "These thoughts are based on the random search, which I completed before my GPU ran out of exec time.\n",
        "```\n",
        "\n",
        "I think that with bayesain i could get a better result, since its an optimization problem to find the best hyperparameters and while using random search, it does like the name suggests, searches randomly. Using random search I could have potentionally hit a super good random seed where it returns the best combination of parameters that are possible given my network, however I think that bayesain optimization is a more stable approach which changes the model parameters to minimze the loss function. Bayesain optimization also uses an acquisition function which simply put \"[directs sampling to the areas where an improvement over the cuurrent best observation is likely](https://neptune.ai/blog/hyperparameter-tuning-in-python-a-complete-guide-2020)\". (Neptune AI, 2021)."
      ]
    }
  ]
}